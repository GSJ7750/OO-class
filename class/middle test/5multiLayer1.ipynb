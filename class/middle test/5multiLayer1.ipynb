{
 "cells": [
  {
   "cell_type": "code",
   "execution_count": 2,
   "metadata": {},
   "outputs": [],
   "source": [
    "import tensorflow as tf\n",
    "import numpy as np\n",
    "from tensorflow.contrib.learn.python.learn.datasets.mnist import read_data_sets\n",
    "import math\n",
    "import matplotlib.pyplot as plt"
   ]
  },
  {
   "cell_type": "code",
   "execution_count": 3,
   "metadata": {},
   "outputs": [
    {
     "name": "stdout",
     "output_type": "stream",
     "text": [
      "WARNING:tensorflow:From <ipython-input-3-044ebb54bd6b>:1: read_data_sets (from tensorflow.contrib.learn.python.learn.datasets.mnist) is deprecated and will be removed in a future version.\n",
      "Instructions for updating:\n",
      "Please use alternatives such as official/mnist/dataset.py from tensorflow/models.\n",
      "WARNING:tensorflow:From C:\\Users\\tjdwo\\Anaconda3\\envs\\tf1.8\\lib\\site-packages\\tensorflow\\contrib\\learn\\python\\learn\\datasets\\mnist.py:260: maybe_download (from tensorflow.contrib.learn.python.learn.datasets.base) is deprecated and will be removed in a future version.\n",
      "Instructions for updating:\n",
      "Please write your own downloading logic.\n",
      "WARNING:tensorflow:From C:\\Users\\tjdwo\\Anaconda3\\envs\\tf1.8\\lib\\site-packages\\tensorflow\\contrib\\learn\\python\\learn\\datasets\\mnist.py:262: extract_images (from tensorflow.contrib.learn.python.learn.datasets.mnist) is deprecated and will be removed in a future version.\n",
      "Instructions for updating:\n",
      "Please use tf.data to implement this functionality.\n",
      "Extracting data\\train-images-idx3-ubyte.gz\n",
      "WARNING:tensorflow:From C:\\Users\\tjdwo\\Anaconda3\\envs\\tf1.8\\lib\\site-packages\\tensorflow\\contrib\\learn\\python\\learn\\datasets\\mnist.py:267: extract_labels (from tensorflow.contrib.learn.python.learn.datasets.mnist) is deprecated and will be removed in a future version.\n",
      "Instructions for updating:\n",
      "Please use tf.data to implement this functionality.\n",
      "Extracting data\\train-labels-idx1-ubyte.gz\n",
      "WARNING:tensorflow:From C:\\Users\\tjdwo\\Anaconda3\\envs\\tf1.8\\lib\\site-packages\\tensorflow\\contrib\\learn\\python\\learn\\datasets\\mnist.py:110: dense_to_one_hot (from tensorflow.contrib.learn.python.learn.datasets.mnist) is deprecated and will be removed in a future version.\n",
      "Instructions for updating:\n",
      "Please use tf.one_hot on tensors.\n",
      "Extracting data\\t10k-images-idx3-ubyte.gz\n",
      "Extracting data\\t10k-labels-idx1-ubyte.gz\n",
      "WARNING:tensorflow:From C:\\Users\\tjdwo\\Anaconda3\\envs\\tf1.8\\lib\\site-packages\\tensorflow\\contrib\\learn\\python\\learn\\datasets\\mnist.py:290: DataSet.__init__ (from tensorflow.contrib.learn.python.learn.datasets.mnist) is deprecated and will be removed in a future version.\n",
      "Instructions for updating:\n",
      "Please use alternatives such as official/mnist/dataset.py from tensorflow/models.\n"
     ]
    }
   ],
   "source": [
    "mnist = read_data_sets(\"data\", one_hot=True, reshape=False)"
   ]
  },
  {
   "cell_type": "code",
   "execution_count": 4,
   "metadata": {},
   "outputs": [
    {
     "data": {
      "text/plain": [
       "<function tensorflow.contrib.learn.python.learn.datasets.mnist.read_data_sets(train_dir, fake_data=False, one_hot=False, dtype=tf.float32, reshape=True, validation_size=5000, seed=None, source_url='https://storage.googleapis.com/cvdf-datasets/mnist/')>"
      ]
     },
     "execution_count": 4,
     "metadata": {},
     "output_type": "execute_result"
    }
   ],
   "source": [
    "read_data_sets"
   ]
  },
  {
   "cell_type": "code",
   "execution_count": 5,
   "metadata": {},
   "outputs": [],
   "source": [
    "X = tf.placeholder(tf.float32, shape=[None, 28, 28, 1])\n",
    "XX = tf.reshape(X, [-1, 784])\n",
    "Y = tf.placeholder(tf.float32, shape = [None, 10])\n",
    "keep_prob=tf.placeholder(tf.float32)"
   ]
  },
  {
   "cell_type": "code",
   "execution_count": 23,
   "metadata": {},
   "outputs": [],
   "source": [
    "W1 = tf.Variable(tf.random_normal([784, 200], stddev = 0.1))\n",
    "b1 = tf.Variable(tf.random_normal([200]))\n",
    "L1 = tf.nn.relu(tf.matmul(XX, W1) + b1)\n",
    "L1=tf.nn.dropout(L1,keep_prob=keep_prob)\n",
    "\n",
    "W2 = tf.Variable(tf.random_normal([200,100], stddev = 0.1))\n",
    "b2 = tf.Variable(tf.random_normal([100]))\n",
    "L2 = tf.nn.relu(tf.matmul(L1, W2) + b2)\n",
    "L2=tf.nn.dropout(L2,keep_prob=keep_prob)\n",
    "    \n",
    "W3 = tf.Variable(tf.random_normal([100,60], stddev = 0.1))\n",
    "b3 = tf.Variable(tf.random_normal([60]))\n",
    "L3 = tf.nn.relu(tf.matmul(L2, W3) + b3)\n",
    "L3=tf.nn.dropout(L3,keep_prob=keep_prob)\n",
    "\n",
    "W4 = tf.Variable(tf.random_normal([60,30], stddev = 0.1))\n",
    "b4 = tf.Variable(tf.random_normal([30]))\n",
    "L4 = tf.nn.relu(tf.matmul(L3, W4) + b4)\n",
    "L4=tf.nn.dropout(L4,keep_prob=keep_prob)\n",
    "\n",
    "W5 = tf.Variable(tf.random_normal([30,10], stddev = 0.1))\n",
    "b5 = tf.Variable(tf.random_normal([10]))\n",
    "L5 = tf.nn.relu(tf.matmul(L4, W5) + b5)\n",
    "\n",
    "H = tf.matmul(L4, W5)+b5"
   ]
  },
  {
   "cell_type": "code",
   "execution_count": 24,
   "metadata": {},
   "outputs": [],
   "source": [
    "cost = tf.reduce_mean(tf.nn.softmax_cross_entropy_with_logits_v2(logits = H, labels=Y))"
   ]
  },
  {
   "cell_type": "code",
   "execution_count": 25,
   "metadata": {},
   "outputs": [],
   "source": [
    "is_correct = tf.equal(tf.argmax(Y,1),tf.argmax(H,1))"
   ]
  },
  {
   "cell_type": "code",
   "execution_count": 26,
   "metadata": {},
   "outputs": [],
   "source": [
    "accuracy = tf.reduce_mean(tf.cast(is_correct, tf.float32))"
   ]
  },
  {
   "cell_type": "code",
   "execution_count": 27,
   "metadata": {},
   "outputs": [],
   "source": [
    "optimizer = tf.train.AdamOptimizer(0.005)\n",
    "train = optimizer.minimize(cost)"
   ]
  },
  {
   "cell_type": "code",
   "execution_count": 28,
   "metadata": {},
   "outputs": [],
   "source": [
    "init = tf.global_variables_initializer()\n",
    "sess = tf.Session()\n",
    "sess.run(init)\n",
    "i_val = []\n",
    "cost_val = []\n",
    "accuracy_val = []"
   ]
  },
  {
   "cell_type": "code",
   "execution_count": 29,
   "metadata": {
    "scrolled": false
   },
   "outputs": [
    {
     "name": "stdout",
     "output_type": "stream",
     "text": [
      "0 \n",
      " 0.1019 2.620467 \n",
      "\n",
      "1000 \n",
      " 0.9559 0.16591974 \n",
      "\n",
      "2000 \n",
      " 0.9668 0.13333635 \n",
      "\n",
      "3000 \n",
      " 0.9687 0.13418537 \n",
      "\n",
      "4000 \n",
      " 0.9719 0.11668943 \n",
      "\n",
      "5000 \n",
      " 0.9733 0.12848906 \n",
      "\n",
      "6000 \n",
      " 0.9742 0.11511928 \n",
      "\n",
      "7000 \n",
      " 0.9717 0.1310455 \n",
      "\n",
      "8000 \n",
      " 0.9718 0.12752002 \n",
      "\n",
      "9000 \n",
      " 0.973 0.120999366 \n",
      "\n",
      "10000 \n",
      " 0.9744 0.12957256 \n",
      "\n",
      "11000 \n",
      " 0.9745 0.13713847 \n",
      "\n",
      "12000 \n",
      " 0.9729 0.15525733 \n",
      "\n",
      "13000 \n",
      " 0.9743 0.15638801 \n",
      "\n",
      "14000 \n",
      " 0.9738 0.1586699 \n",
      "\n",
      "15000 \n",
      " 0.9767 0.14620733 \n",
      "\n",
      "16000 \n",
      " 0.975 0.14087059 \n",
      "\n",
      "17000 \n",
      " 0.9713 0.16248521 \n",
      "\n",
      "18000 \n",
      " 0.9738 0.14542285 \n",
      "\n",
      "19000 \n",
      " 0.9745 0.15659876 \n",
      "\n",
      "20000 \n",
      " 0.9768 0.1338816 \n",
      "\n",
      "21000 \n",
      " 0.9757 0.15397486 \n",
      "\n",
      "22000 \n",
      " 0.9768 0.1467977 \n",
      "\n",
      "23000 \n",
      " 0.9758 0.15950717 \n",
      "\n",
      "24000 \n",
      " 0.9767 0.14485374 \n",
      "\n",
      "25000 \n",
      " 0.976 0.14771473 \n",
      "\n",
      "26000 \n",
      " 0.9759 0.17429534 \n",
      "\n",
      "27000 \n",
      " 0.978 0.13722168 \n",
      "\n",
      "28000 \n",
      " 0.9767 0.15663205 \n",
      "\n",
      "29000 \n",
      " 0.9776 0.15550557 \n",
      "\n",
      "30000 \n",
      " 0.9755 0.15489388 \n",
      "\n",
      "31000 \n",
      " 0.9767 0.16795245 \n",
      "\n",
      "32000 \n",
      " 0.9775 0.16095698 \n",
      "\n",
      "33000 \n",
      " 0.974 0.18279877 \n",
      "\n",
      "34000 \n",
      " 0.9757 0.14458215 \n",
      "\n",
      "35000 \n",
      " 0.9777 0.15199418 \n",
      "\n",
      "36000 \n",
      " 0.9779 0.1822531 \n",
      "\n",
      "37000 \n",
      " 0.976 0.15867533 \n",
      "\n",
      "38000 \n",
      " 0.9769 0.16225828 \n",
      "\n",
      "39000 \n",
      " 0.9768 0.15723024 \n",
      "\n",
      "40000 \n",
      " 0.9769 0.16709551 \n",
      "\n",
      "41000 \n",
      " 0.977 0.16114235 \n",
      "\n",
      "42000 \n",
      " 0.9769 0.17341083 \n",
      "\n",
      "43000 \n",
      " 0.9765 0.17547539 \n",
      "\n",
      "44000 \n",
      " 0.9755 0.17390743 \n",
      "\n",
      "45000 \n",
      " 0.9761 0.19448596 \n",
      "\n",
      "46000 \n",
      " 0.9771 0.19724175 \n",
      "\n",
      "47000 \n",
      " 0.9767 0.15958293 \n",
      "\n",
      "48000 \n",
      " 0.9753 0.20391983 \n",
      "\n",
      "49000 \n",
      " 0.9768 0.19694228 \n",
      "\n",
      "50000 \n",
      " 0.9768 0.19621502 \n",
      "\n",
      "51000 \n",
      " 0.976 0.1904759 \n",
      "\n",
      "52000 \n",
      " 0.975 0.20407997 \n",
      "\n",
      "53000 \n",
      " 0.9762 0.20900434 \n",
      "\n",
      "54000 \n",
      " 0.9765 0.22236313 \n",
      "\n",
      "55000 \n",
      " 0.9739 0.20553784 \n",
      "\n"
     ]
    }
   ],
   "source": [
    "for i in range(55001):\n",
    "    batch_xs, batch_ys = mnist.train.next_batch(100)\n",
    "    sess.run(train, feed_dict={X:batch_xs, Y:batch_ys, keep_prob:0.7})\n",
    "    if i % 1000 == 0:\n",
    "        a, c, h = sess.run([accuracy, cost, H], feed_dict={X: mnist.test.images, Y: mnist.test.labels, keep_prob:1})\n",
    "        print(i,\"\\n\", a, c, \"\\n\")\n",
    "        i_val.append(i)\n",
    "        cost_val.append(c)"
   ]
  },
  {
   "cell_type": "code",
   "execution_count": 15,
   "metadata": {},
   "outputs": [
    {
     "data": {
      "image/png": "[encoded data removed]",
      "text/plain": [
       "<Figure size 432x288 with 1 Axes>"
      ]
     },
     "metadata": {
      "needs_background": "light"
     },
     "output_type": "display_data"
    }
   ],
   "source": [
    "plt.plot(i_val[:],cost_val[:], c='r', alpha = 0.7)\n",
    "plt.xlabel(\"step\")\n",
    "plt.ylabel(\"cost\")\n",
    "#plt.yscale('log')\n",
    "plt.grid(True)"
   ]
  }
 ],
 "metadata": {
  "kernelspec": {
   "display_name": "Python [conda env:tf1.8]",
   "language": "python",
   "name": "conda-env-tf1.8-py"
  },
  "language_info": {
   "codemirror_mode": {
    "name": "ipython",
    "version": 3
   },
   "file_extension": ".py",
   "mimetype": "text/x-python",
   "name": "python",
   "nbconvert_exporter": "python",
   "pygments_lexer": "ipython3",
   "version": "3.5.6"
  }
 },
 "nbformat": 4,
 "nbformat_minor": 2
}
