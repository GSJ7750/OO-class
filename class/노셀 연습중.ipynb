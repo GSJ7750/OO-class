{
 "cells": [
  {
   "cell_type": "code",
   "execution_count": 1,
   "metadata": {},
   "outputs": [],
   "source": [
    "import tensorflow as tf\n"
   ]
  },
  {
   "cell_type": "code",
   "execution_count": 2,
   "metadata": {},
   "outputs": [],
   "source": [
    "epoch = 15\n",
    "batch_size = 100"
   ]
  },
  {
   "cell_type": "code",
   "execution_count": 3,
   "metadata": {},
   "outputs": [],
   "source": [
    "xdata = [[[1,0,0,0], # 4*4  #h\n",
    "        [0,1,0,0],#e\n",
    "        [0,0,1,0],#l\n",
    "        [0,0,0,1]]]#o\n",
    "\n",
    "ydata = [[0,1,0,0], # 5*4\n",
    "        [0,0,1,0],\n",
    "        [0,0,1,0],\n",
    "        [0,0,0,1]]\n",
    "\n",
    "X = tf.placeholder(tf.float32, [None,4,4])\n",
    "Y = tf.placeholder(tf.float32, [None, 4])\n",
    "\n",
    "W = tf.Variable(tf.random_normal([4, 1]))\n",
    "b = tf.Variable(tf.random_normal([1]))"
   ]
  },
  {
   "cell_type": "code",
   "execution_count": 4,
   "metadata": {},
   "outputs": [
    {
     "data": {
      "text/plain": [
       "LSTMStateTuple(c=4, h=4)"
      ]
     },
     "execution_count": 4,
     "metadata": {},
     "output_type": "execute_result"
    }
   ],
   "source": [
    "cell = tf.nn.rnn_cell.LSTMCell(4)\n",
    "cell.state_size"
   ]
  },
  {
   "cell_type": "code",
   "execution_count": 5,
   "metadata": {},
   "outputs": [],
   "source": [
    "outputs, states = tf.nn.dynamic_rnn(cell, X, dtype=tf.float32)"
   ]
  },
  {
   "cell_type": "code",
   "execution_count": 6,
   "metadata": {},
   "outputs": [],
   "source": [
    "#outputs = tf.transpose(outputs, [1, 0, 2])\n",
    "outputs = outputs[-1]\n",
    "logits = tf.matmul(outputs, W) + b\n",
    "H = tf.nn.softmax(logits)"
   ]
  },
  {
   "cell_type": "code",
   "execution_count": 7,
   "metadata": {},
   "outputs": [],
   "source": [
    "cost = tf.reduce_mean(tf.nn.softmax_cross_entropy_with_logits_v2(logits=logits, labels=Y))\n",
    "train = tf.train.AdamOptimizer(0.0001).minimize(cost)"
   ]
  },
  {
   "cell_type": "code",
   "execution_count": 8,
   "metadata": {},
   "outputs": [],
   "source": [
    "is_correct = tf.equal(tf.argmax(logits, 1), tf.argmax(Y, 1))\n",
    "accuracy = tf.reduce_mean(tf.cast(is_correct, tf.float32))"
   ]
  },
  {
   "cell_type": "code",
   "execution_count": 9,
   "metadata": {},
   "outputs": [],
   "source": [
    "sess = tf.Session()\n",
    "sess.run(tf.global_variables_initializer())"
   ]
  },
  {
   "cell_type": "code",
   "execution_count": 10,
   "metadata": {},
   "outputs": [
    {
     "name": "stdout",
     "output_type": "stream",
     "text": [
      "1\n",
      "1.3862944\n",
      "1.3862944\n",
      "1.3862944\n",
      "1.3862944\n",
      "1.3862944\n",
      "1.3862944\n",
      "1.3862944\n",
      "1.3862944\n",
      "1.3862944\n",
      "1.3862944\n",
      "2\n",
      "1.3862944\n",
      "1.3862944\n",
      "1.3862944\n",
      "1.3862944\n",
      "1.3862944\n",
      "1.3862944\n",
      "1.3862944\n",
      "1.3862944\n",
      "1.3862944\n",
      "1.3862944\n",
      "3\n",
      "1.3862944\n",
      "1.3862944\n",
      "1.3862944\n",
      "1.3862944\n",
      "1.3862944\n",
      "1.3862944\n",
      "1.3862944\n",
      "1.3862944\n",
      "1.3862944\n",
      "1.3862944\n",
      "4\n",
      "1.3862944\n",
      "1.3862944\n",
      "1.3862944\n",
      "1.3862944\n",
      "1.3862944\n",
      "1.3862944\n",
      "1.3862944\n",
      "1.3862944\n",
      "1.3862944\n",
      "1.3862944\n",
      "5\n",
      "1.3862944\n",
      "1.3862944\n",
      "1.3862944\n",
      "1.3862944\n",
      "1.3862944\n",
      "1.3862944\n",
      "1.3862944\n",
      "1.3862944\n",
      "1.3862944\n",
      "1.3862944\n",
      "6\n",
      "1.3862944\n",
      "1.3862944\n",
      "1.3862944\n",
      "1.3862944\n",
      "1.3862944\n",
      "1.3862944\n",
      "1.3862944\n",
      "1.3862944\n",
      "1.3862944\n",
      "1.3862944\n",
      "7\n",
      "1.3862944\n",
      "1.3862944\n",
      "1.3862944\n",
      "1.3862944\n",
      "1.3862944\n",
      "1.3862944\n",
      "1.3862944\n",
      "1.3862944\n",
      "1.3862944\n",
      "1.3862944\n",
      "8\n",
      "1.3862944\n",
      "1.3862944\n",
      "1.3862944\n",
      "1.3862944\n",
      "1.3862944\n",
      "1.3862944\n",
      "1.3862944\n",
      "1.3862944\n",
      "1.3862944\n",
      "1.3862944\n",
      "9\n",
      "1.3862944\n",
      "1.3862944\n",
      "1.3862944\n",
      "1.3862944\n",
      "1.3862944\n",
      "1.3862944\n",
      "1.3862944\n",
      "1.3862944\n",
      "1.3862944\n",
      "1.3862944\n",
      "10\n",
      "1.3862944\n",
      "1.3862944\n",
      "1.3862944\n",
      "1.3862944\n",
      "1.3862944\n",
      "1.3862944\n",
      "1.3862944\n",
      "1.3862944\n",
      "1.3862944\n",
      "1.3862944\n",
      "11\n",
      "1.3862944\n",
      "1.3862944\n",
      "1.3862944\n",
      "1.3862944\n",
      "1.3862944\n",
      "1.3862944\n",
      "1.3862944\n",
      "1.3862944\n",
      "1.3862944\n",
      "1.3862944\n",
      "12\n",
      "1.3862944\n",
      "1.3862944\n",
      "1.3862944\n",
      "1.3862944\n",
      "1.3862944\n",
      "1.3862944\n",
      "1.3862944\n",
      "1.3862944\n",
      "1.3862944\n",
      "1.3862944\n",
      "13\n",
      "1.3862944\n",
      "1.3862944\n",
      "1.3862944\n",
      "1.3862944\n",
      "1.3862944\n",
      "1.3862944\n",
      "1.3862944\n",
      "1.3862944\n",
      "1.3862944\n",
      "1.3862944\n",
      "14\n",
      "1.3862944\n",
      "1.3862944\n",
      "1.3862944\n",
      "1.3862944\n",
      "1.3862944\n",
      "1.3862944\n",
      "1.3862944\n",
      "1.3862944\n",
      "1.3862944\n",
      "1.3862944\n",
      "15\n",
      "1.3862944\n",
      "1.3862944\n",
      "1.3862944\n",
      "1.3862944\n",
      "1.3862944\n",
      "1.3862944\n",
      "1.3862944\n",
      "1.3862944\n",
      "1.3862944\n",
      "1.3862944\n"
     ]
    }
   ],
   "source": [
    "\n",
    "for e in range(epoch):\n",
    "    total_cost = 0\n",
    "    print(e+1)\n",
    "    for i in range(10):\n",
    "        sess.run([train],feed_dict={X: xdata, Y: ydata})\n",
    "        c = sess.run(cost, feed_dict={X: xdata, Y: ydata})\n",
    "        print(c)\n",
    "    #    total_cost += _cost\n",
    "   # a = sess.run(accuracy, feed_dict={X: mnist.test.images.reshape(test_batch_size, 28, 28), Y:mnist.test.labels})\n",
    "  #  print(a)\n"
   ]
  },
  {
   "cell_type": "code",
   "execution_count": 12,
   "metadata": {},
   "outputs": [
    {
     "data": {
      "text/plain": [
       "array([[-0.04132923],\n",
       "       [-0.01540568],\n",
       "       [ 0.0065751 ],\n",
       "       [-0.11918122]], dtype=float32)"
      ]
     },
     "execution_count": 12,
     "metadata": {},
     "output_type": "execute_result"
    }
   ],
   "source": [
    "sess.run(logits, feed_dict={X:[[[1,0,0,0], # 4*4  #h\n",
    "        [0,1,0,0],#e\n",
    "        [0,0,1,0],#l\n",
    "        [0,0,0,1]]]})"
   ]
  },
  {
   "cell_type": "code",
   "execution_count": null,
   "metadata": {},
   "outputs": [],
   "source": [
    "cell = tf.nn.rnn_cell.LSTMCell(100)\n",
    "outputs, states = tf.nn.dynamic_rnn(cell, X, dtype=tf.float32)\n",
    "outputs = tf.transpose(outputs, [1, 0, 2])\n",
    "outputs = outputs[-1]\n",
    "logits = tf.matmul(outputs, W) + b\n",
    "\n",
    "cost = tf.reduce_mean(tf.nn.softmax_cross_entropy_with_logits_v2(logits=logits, labels=Y))\n",
    "train = tf.train.AdamOptimizer(0.0001).minimize(cost)\n",
    "\n",
    "is_correct = tf.equal(tf.argmax(logits, 1), tf.argmax(Y, 1))\n",
    "accuracy = tf.reduce_mean(tf.cast(is_correct, tf.float32))\n",
    "\n",
    "sess = tf.Session()\n",
    "sess.run(tf.global_variables_initializer())\n",
    "\n",
    "total_batch = int(mnist.train.num_examples/batch_size)\n",
    "for e in range(epoch):\n",
    "    total_cost = 0\n",
    "    print(e+1)\n",
    "    for i in range(total_batch):\n",
    "        batch_xs, batch_ys = mnist.train.next_batch(batch_size)\n",
    "        batch_xs = batch_xs.reshape((batch_size, 28, 28))\n",
    "\n",
    "        _, _cost = sess.run([train, cost],feed_dict={X: batch_xs, Y: batch_ys})\n",
    "        total_cost += _cost\n",
    "    test_batch_size = len(mnist.test.images)\n",
    "    a = sess.run(accuracy, feed_dict={X: mnist.test.images.reshape(test_batch_size, 28, 28), Y:mnist.test.labels})\n",
    "    print(a)\n"
   ]
  },
  {
   "cell_type": "code",
   "execution_count": 11,
   "metadata": {},
   "outputs": [
    {
     "name": "stdout",
     "output_type": "stream",
     "text": [
      "WARNING:tensorflow:From C:\\Users\\tjdwo\\Anaconda3\\envs\\tf1.8\\lib\\site-packages\\tensorflow\\python\\util\\tf_should_use.py:118: initialize_all_variables (from tensorflow.python.ops.variables) is deprecated and will be removed after 2017-03-02.\n",
      "Instructions for updating:\n",
      "Use `tf.global_variables_initializer` instead.\n",
      "(array([[[0.04323792],\n",
      "        [0.04104751]]], dtype=float32), array([[0.04104751]], dtype=float32))\n"
     ]
    }
   ],
   "source": [
    "import numpy as np\n",
    "import tensorflow as tf\n",
    "import matplotlib.pyplot as plt\n",
    "from tensorflow.python.ops.rnn_cell_impl import _zero_state_tensors\n",
    "\n",
    "class CapRNNcell(tf.contrib.rnn.RNNCell):\n",
    "    def __init__(self, input_dim):\n",
    "        self.input_dim = input_dim\n",
    "\n",
    "        self.W = tf.get_variable(\"W\", [self.input_dim , 1], tf.float32)\n",
    "        self.b = tf.get_variable(\"b\", [1])\n",
    "\n",
    "    @property\n",
    "    def state_size(self):\n",
    "        return 1\n",
    "\n",
    "    @property\n",
    "    def output_size(self):\n",
    "        return 1\n",
    "\n",
    "    def __call__(self, inputs, state):\n",
    "        output =state*tf.nn.sigmoid(tf.matmul(inputs, self.W)+ self.b)\n",
    "\n",
    "        return output, output\n",
    "\n",
    "def CapRnnModel(timeSeries_before_forgetting_gate, init_cap):\n",
    "\n",
    "    cap_cell = CapRNNcell(input_dim=3)\n",
    "    cap_series, final_cap = tf.nn.dynamic_rnn(cell=cap_cell, inputs=timeSeries_before_forgetting_gate, initial_state=init_cap)\n",
    "\n",
    "    return  cap_series , final_cap\n",
    "\n",
    "x_place=tf.placeholder(tf.float32 , [1,2,3])\n",
    "init_cap_place=tf.placeholder(tf.float32 , [1,1])\n",
    "\n",
    "y=CapRnnModel(x_place, init_cap_place)\n",
    "\n",
    "with tf.Session() as sess:\n",
    "    sess.run(tf.initialize_all_variables())\n",
    "    a=np.random.rand(1,2,3)\n",
    "    b=np.random.rand(1,1)\n",
    "    result=sess.run(y,feed_dict={x_place:a , init_cap_place:b})\n",
    "    print(result)"
   ]
  },
  {
   "cell_type": "code",
   "execution_count": null,
   "metadata": {},
   "outputs": [],
   "source": [
    "sess.run([train],feed_dict={X: xdata, Y: ydata})"
   ]
  },
  {
   "cell_type": "code",
   "execution_count": null,
   "metadata": {},
   "outputs": [],
   "source": []
  }
 ],
 "metadata": {
  "kernelspec": {
   "display_name": "Python [conda env:tf1.8]",
   "language": "python",
   "name": "conda-env-tf1.8-py"
  },
  "language_info": {
   "codemirror_mode": {
    "name": "ipython",
    "version": 3
   },
   "file_extension": ".py",
   "mimetype": "text/x-python",
   "name": "python",
   "nbconvert_exporter": "python",
   "pygments_lexer": "ipython3",
   "version": "3.5.6"
  }
 },
 "nbformat": 4,
 "nbformat_minor": 2
}
