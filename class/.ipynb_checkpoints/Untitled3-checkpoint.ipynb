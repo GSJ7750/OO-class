{
 "cells": [
  {
   "cell_type": "code",
   "execution_count": 1,
   "metadata": {},
   "outputs": [],
   "source": [
    "import tensorflow as tf\n",
    "import numpy as np\n"
   ]
  },
  {
   "cell_type": "code",
   "execution_count": 2,
   "metadata": {},
   "outputs": [],
   "source": [
    "tf.set_random_seed(777)"
   ]
  },
  {
   "cell_type": "code",
   "execution_count": 5,
   "metadata": {},
   "outputs": [],
   "source": [
    "x_data = [[0,0], [0,1], [1,0], [1,1],[0,1],[1,1],[1,0],[0,0]]\n",
    "y_data = [[1,0],[0,1],[0,1],[1,0],[0,1],[1,0],[0,1],[1,0]]"
   ]
  },
  {
   "cell_type": "code",
   "execution_count": 6,
   "metadata": {},
   "outputs": [],
   "source": [
    "x_data = np.array(x_data, dtype=np.float32)\n",
    "y_data = np.array(y_data, dtype=np.float32)"
   ]
  },
  {
   "cell_type": "code",
   "execution_count": 7,
   "metadata": {},
   "outputs": [],
   "source": [
    "x = tf.placeholder(tf.float32,[None,2])\n",
    "y = tf.placeholder(tf.float32,[None,2])"
   ]
  },
  {
   "cell_type": "code",
   "execution_count": 8,
   "metadata": {},
   "outputs": [],
   "source": [
    "w1 = tf.Variable(tf.random_normal([2,2]))\n",
    "b1 = tf.Variable(tf.zeros([2]))\n",
    "_y1 = tf.sigmoid(tf.matmul(x,w1)+b1)\n",
    "w2 = tf.Variable(tf.random_normal([2,2]))\n",
    "b2 = tf.Variable(tf.zeros([2]))\n",
    "_y2 = tf.matmul(_y1,w2)+b2"
   ]
  },
  {
   "cell_type": "code",
   "execution_count": 9,
   "metadata": {},
   "outputs": [],
   "source": [
    "h = tf.nn.softmax(_y2)"
   ]
  },
  {
   "cell_type": "code",
   "execution_count": 16,
   "metadata": {},
   "outputs": [],
   "source": [
    "cost = tf.losses.mean_squared_error(_y2, y)"
   ]
  },
  {
   "cell_type": "code",
   "execution_count": 17,
   "metadata": {},
   "outputs": [],
   "source": [
    "train = tf.train.GradientDescentOptimizer(learning_rate=0.1).minimize(cost)"
   ]
  },
  {
   "cell_type": "code",
   "execution_count": 18,
   "metadata": {},
   "outputs": [],
   "source": [
    "predicted = tf.argmax(h,1)\n",
    "accuracy = tf.reduce_mean(tf.cast(tf.equal(predicted, tf.argmax(y,1)), dtype=tf.float32))"
   ]
  },
  {
   "cell_type": "code",
   "execution_count": 19,
   "metadata": {},
   "outputs": [],
   "source": [
    "sess = tf.Session()"
   ]
  },
  {
   "cell_type": "code",
   "execution_count": 20,
   "metadata": {},
   "outputs": [],
   "source": [
    "sess.run(tf.global_variables_initializer())"
   ]
  },
  {
   "cell_type": "code",
   "execution_count": 21,
   "metadata": {},
   "outputs": [
    {
     "name": "stdout",
     "output_type": "stream",
     "text": [
      "0 1.5474546\n",
      "100 0.26381534\n",
      "200 0.2576105\n",
      "300 0.25445044\n",
      "400 0.25259757\n",
      "500 0.25139928\n",
      "600 0.2505588\n",
      "700 0.24992216\n",
      "800 0.24940084\n",
      "900 0.24893928\n",
      "1000 0.24849889\n",
      "1100 0.24804962\n",
      "1200 0.24756467\n",
      "1300 0.24701715\n",
      "1400 0.24637684\n",
      "1500 0.24560799\n",
      "1600 0.24466592\n",
      "1700 0.24349445\n",
      "1800 0.2420225\n",
      "1900 0.2401608\n",
      "2000 0.23779953\n",
      "2100 0.23480695\n",
      "2200 0.23102927\n",
      "2300 0.22628985\n",
      "2400 0.22038212\n",
      "2500 0.21304598\n",
      "2600 0.20391588\n",
      "2700 0.19244365\n",
      "2800 0.17784145\n",
      "2900 0.15917446\n",
      "3000 0.13581681\n",
      "3100 0.1083674\n",
      "3200 0.07945925\n",
      "3300 0.053140152\n",
      "3400 0.032650825\n",
      "3500 0.01879985\n",
      "3600 0.01040602\n",
      "3700 0.005676451\n",
      "3800 0.0031139213\n",
      "3900 0.0017415389\n",
      "4000 0.0009999393\n",
      "4100 0.0005901762\n",
      "4200 0.00035713715\n",
      "4300 0.00022060316\n",
      "4400 0.00013843473\n",
      "4500 8.788305e-05\n",
      "4600 5.624922e-05\n",
      "4700 3.6207504e-05\n",
      "4800 2.3397177e-05\n",
      "4900 1.51581235e-05\n",
      "5000 9.837948e-06\n",
      "5100 6.3923917e-06\n",
      "5200 4.1569797e-06\n",
      "5300 2.7044985e-06\n",
      "5400 1.7604167e-06\n",
      "5500 1.1461235e-06\n",
      "5600 7.463566e-07\n",
      "5700 4.861474e-07\n",
      "5800 3.1677627e-07\n",
      "5900 2.0650933e-07\n",
      "6000 1.3469976e-07\n",
      "6100 8.7927106e-08\n",
      "6200 5.7450855e-08\n",
      "6300 3.7512542e-08\n",
      "6400 2.4502306e-08\n",
      "6500 1.5984028e-08\n",
      "6600 1.0502802e-08\n",
      "6700 6.9094637e-09\n",
      "6800 4.5628483e-09\n",
      "6900 3.055269e-09\n",
      "7000 2.0165651e-09\n",
      "7100 1.3046512e-09\n",
      "7200 9.385751e-10\n",
      "7300 6.487598e-10\n",
      "7400 4.1333692e-10\n",
      "7500 2.4084446e-10\n",
      "7600 1.455649e-10\n",
      "7700 1.3169643e-10\n",
      "7800 1.3169643e-10\n",
      "7900 1.3169643e-10\n",
      "8000 1.3169643e-10\n",
      "8100 1.3169643e-10\n",
      "8200 1.3169643e-10\n",
      "8300 1.3169643e-10\n",
      "8400 1.3169643e-10\n",
      "8500 1.3169643e-10\n",
      "8600 1.3169643e-10\n",
      "8700 1.3169643e-10\n",
      "8800 1.3169643e-10\n",
      "8900 1.3169643e-10\n",
      "9000 1.3169643e-10\n",
      "9100 1.3169643e-10\n",
      "9200 1.3169643e-10\n",
      "9300 1.3169643e-10\n",
      "9400 1.3169643e-10\n",
      "9500 1.3169643e-10\n",
      "9600 1.3169643e-10\n",
      "9700 1.3169643e-10\n",
      "9800 1.3169643e-10\n",
      "9900 1.3169643e-10\n",
      "10000 1.3169643e-10\n"
     ]
    }
   ],
   "source": [
    " for step in range(10001):\n",
    "        sess.run(train,feed_dict={x: x_data, y: y_data})\n",
    "        if step % 100 == 0:\n",
    "            print(step, sess.run(cost, feed_dict={x: x_data, y: y_data}))\n"
   ]
  },
  {
   "cell_type": "code",
   "execution_count": 22,
   "metadata": {},
   "outputs": [],
   "source": [
    " h, c, a = sess.run([_y2,predicted, accuracy],feed_dict={x:[[1,1],[0,0],[0,1],[1,0]], y:[[1,0],[1,0],[0,1],[0,1]]})"
   ]
  },
  {
   "cell_type": "code",
   "execution_count": 23,
   "metadata": {},
   "outputs": [
    {
     "name": "stdout",
     "output_type": "stream",
     "text": [
      "\n",
      "Hypothesis:  [[ 1.00001264e+00  9.05990601e-06]\n",
      " [ 1.00000882e+00  1.29938126e-05]\n",
      " [-1.31726265e-05  9.99984741e-01]\n",
      " [-8.88109207e-06  9.99991059e-01]] \n",
      "Correct:  [0 0 1 1] \n",
      "Accuracy:  1.0\n"
     ]
    }
   ],
   "source": [
    "print(\"\\nHypothesis: \", h, \"\\nCorrect: \", c, \"\\nAccuracy: \", a)"
   ]
  },
  {
   "cell_type": "code",
   "execution_count": null,
   "metadata": {},
   "outputs": [],
   "source": []
  },
  {
   "cell_type": "code",
   "execution_count": null,
   "metadata": {},
   "outputs": [],
   "source": []
  },
  {
   "cell_type": "code",
   "execution_count": null,
   "metadata": {},
   "outputs": [],
   "source": []
  }
 ],
 "metadata": {
  "kernelspec": {
   "display_name": "Python [conda env:tf1.8]",
   "language": "python",
   "name": "conda-env-tf1.8-py"
  },
  "language_info": {
   "codemirror_mode": {
    "name": "ipython",
    "version": 3
   },
   "file_extension": ".py",
   "mimetype": "text/x-python",
   "name": "python",
   "nbconvert_exporter": "python",
   "pygments_lexer": "ipython3",
   "version": "3.5.6"
  }
 },
 "nbformat": 4,
 "nbformat_minor": 2
}
