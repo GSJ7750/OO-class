{
 "cells": [
  {
   "cell_type": "code",
   "execution_count": null,
   "metadata": {},
   "outputs": [],
   "source": [
    "import tensorflow as tf\n",
    "from tensorflow.contrib.learn.python.learn.datasets.mnist import read_data_sets"
   ]
  },
  {
   "cell_type": "code",
   "execution_count": null,
   "metadata": {},
   "outputs": [],
   "source": [
    "mnist = read_data_sets(\"data\", one_hot=True, reshape=False)"
   ]
  },
  {
   "cell_type": "code",
   "execution_count": null,
   "metadata": {},
   "outputs": [],
   "source": [
    "#parameter\n",
    "\n",
    "epoch = 15\n",
    "batch_size = 100"
   ]
  },
  {
   "cell_type": "code",
   "execution_count": null,
   "metadata": {},
   "outputs": [],
   "source": [
    "X = tf.placeholder(tf.float32, shape=[None, 28, 28, 1])\n",
    "Y = tf.placeholder(tf.float32, shape=[None, 10])\n",
    "X2 = tf.reshape(X, [-1, 784])"
   ]
  },
  {
   "cell_type": "code",
   "execution_count": null,
   "metadata": {},
   "outputs": [],
   "source": [
    "\n",
    "\n",
    "W1 = tf.Variable(tf.random_normal([784, 512], stddev=0.1))\n",
    "W2 = tf.Variable(tf.random_normal([512, 256], stddev=0.1))\n",
    "W3 = tf.Variable(tf.random_normal([256, 128], stddev=0.1))\n",
    "W4 = tf.Variable(tf.random_normal([128, 64], stddev=0.1))\n",
    "W5 = tf.Variable(tf.random_normal([64, 10], stddev=0.1))\n",
    "\n",
    "b1 = tf.Variable(tf.random_normal([512], stddev=0.1))\n",
    "b2 = tf.Variable(tf.random_normal([256], stddev=0.1))\n",
    "b3 = tf.Variable(tf.random_normal([128], stddev=0.1))\n",
    "b4 = tf.Variable(tf.random_normal([64], stddev=0.1))\n",
    "b5 = tf.Variable(tf.random_normal([10], stddev=0.1))\n",
    "\n",
    "logits1 = tf.matmul(X2, W1) + b1\n",
    "L1 = tf.nn.relu(logits1)\n",
    "\n",
    "logits2 = tf.matmul(L1, W2) + b2\n",
    "L2 = tf.nn.relu(logits2)\n",
    "\n",
    "logits3 = tf.matmul(L2, W3) + b3\n",
    "L3 = tf.nn.relu(logits3)\n",
    "\n",
    "logits4 = tf.matmul(L3, W4) + b4\n",
    "\n",
    "H = tf.nn.softmax(logits4)"
   ]
  },
  {
   "cell_type": "code",
   "execution_count": null,
   "metadata": {},
   "outputs": [],
   "source": [
    "cost = tf.nn.softmax_cross_entropy_with_logits_v2(logits=H, labels=Y)"
   ]
  },
  {
   "cell_type": "code",
   "execution_count": null,
   "metadata": {},
   "outputs": [],
   "source": [
    "optimizer = tf.train.AdamOptimizer(0.005)\n",
    "train = optimizer.minimize(cost)"
   ]
  },
  {
   "cell_type": "code",
   "execution_count": null,
   "metadata": {},
   "outputs": [],
   "source": [
    "is_correct = tf.equal(tf.argmax(Y, 1), tf.argmax(H, 1))\n",
    "accuracy = tf.reduce_mean(tf.cast(is_correct, tf.float32))"
   ]
  },
  {
   "cell_type": "code",
   "execution_count": null,
   "metadata": {},
   "outputs": [],
   "source": [
    "init = tf.global_variables_initializer()\n",
    "sess = tf.Session()\n",
    "sess.run(init)"
   ]
  },
  {
   "cell_type": "code",
   "execution_count": null,
   "metadata": {},
   "outputs": [],
   "source": [
    "for e in range(epoch):\n",
    "    total_batch = int(mnist.train.num_examples/batch_size)\n",
    "    print(e+1)\n",
    "    for i in range(total_batch):\n",
    "        batch_xs, batch_ys = mnist.train.next_batch(100)\n",
    "        sess.run(train, feed_dict={X:batch_xs, Y:batch_ys})\n",
    "        pass"
   ]
  },
  {
   "cell_type": "code",
   "execution_count": null,
   "metadata": {},
   "outputs": [],
   "source": [
    "batch_xs.shape"
   ]
  },
  {
   "cell_type": "code",
   "execution_count": null,
   "metadata": {},
   "outputs": [],
   "source": [
    "X.shape"
   ]
  },
  {
   "cell_type": "code",
   "execution_count": null,
   "metadata": {},
   "outputs": [],
   "source": [
    "X2"
   ]
  },
  {
   "cell_type": "code",
   "execution_count": null,
   "metadata": {},
   "outputs": [],
   "source": [
    "for i in range(10001):\n",
    "    batch_xs, batch_ys = mnist.train.next_batch(100)\n",
    "    sess.run(train, feed_dict={X1: batch_xs, Y: batch_ys})\n",
    "    if i%1000 == 0:\n",
    "        h, a, c = sess.run([H, accuracy, cost], feed_dict={X1: mnist.test.images, Y: mnist.test.labels})\n",
    "        print(\"accuacy:\", a, \"\\n cost\", c, \"\\n\\n Y:\", h, \"\\n\")"
   ]
  },
  {
   "cell_type": "code",
   "execution_count": null,
   "metadata": {},
   "outputs": [],
   "source": []
  }
 ],
 "metadata": {
  "kernelspec": {
   "display_name": "Python [conda env:tf1.8]",
   "language": "python",
   "name": "conda-env-tf1.8-py"
  },
  "language_info": {
   "codemirror_mode": {
    "name": "ipython",
    "version": 3
   },
   "file_extension": ".py",
   "mimetype": "text/x-python",
   "name": "python",
   "nbconvert_exporter": "python",
   "pygments_lexer": "ipython3",
   "version": "3.5.6"
  }
 },
 "nbformat": 4,
 "nbformat_minor": 2
}
