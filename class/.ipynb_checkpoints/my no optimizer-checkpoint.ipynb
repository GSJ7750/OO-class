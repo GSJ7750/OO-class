{
 "cells": [
  {
   "cell_type": "code",
   "execution_count": 1,
   "metadata": {},
   "outputs": [],
   "source": [
    "import tensorflow as tf\n",
    "from tensorflow.contrib.learn.python.learn.datasets.mnist import read_data_sets"
   ]
  },
  {
   "cell_type": "code",
   "execution_count": 2,
   "metadata": {},
   "outputs": [
    {
     "name": "stdout",
     "output_type": "stream",
     "text": [
      "WARNING:tensorflow:From <ipython-input-2-48b36f7abc35>:1: read_data_sets (from tensorflow.contrib.learn.python.learn.datasets.mnist) is deprecated and will be removed in a future version.\n",
      "Instructions for updating:\n",
      "Please use alternatives such as official/mnist/dataset.py from tensorflow/models.\n",
      "WARNING:tensorflow:From C:\\Users\\tjdwo\\Anaconda3\\envs\\tf1.8\\lib\\site-packages\\tensorflow\\contrib\\learn\\python\\learn\\datasets\\mnist.py:260: maybe_download (from tensorflow.contrib.learn.python.learn.datasets.base) is deprecated and will be removed in a future version.\n",
      "Instructions for updating:\n",
      "Please write your own downloading logic.\n",
      "WARNING:tensorflow:From C:\\Users\\tjdwo\\Anaconda3\\envs\\tf1.8\\lib\\site-packages\\tensorflow\\contrib\\learn\\python\\learn\\datasets\\mnist.py:262: extract_images (from tensorflow.contrib.learn.python.learn.datasets.mnist) is deprecated and will be removed in a future version.\n",
      "Instructions for updating:\n",
      "Please use tf.data to implement this functionality.\n",
      "Extracting data\\train-images-idx3-ubyte.gz\n",
      "WARNING:tensorflow:From C:\\Users\\tjdwo\\Anaconda3\\envs\\tf1.8\\lib\\site-packages\\tensorflow\\contrib\\learn\\python\\learn\\datasets\\mnist.py:267: extract_labels (from tensorflow.contrib.learn.python.learn.datasets.mnist) is deprecated and will be removed in a future version.\n",
      "Instructions for updating:\n",
      "Please use tf.data to implement this functionality.\n",
      "Extracting data\\train-labels-idx1-ubyte.gz\n",
      "WARNING:tensorflow:From C:\\Users\\tjdwo\\Anaconda3\\envs\\tf1.8\\lib\\site-packages\\tensorflow\\contrib\\learn\\python\\learn\\datasets\\mnist.py:110: dense_to_one_hot (from tensorflow.contrib.learn.python.learn.datasets.mnist) is deprecated and will be removed in a future version.\n",
      "Instructions for updating:\n",
      "Please use tf.one_hot on tensors.\n",
      "Extracting data\\t10k-images-idx3-ubyte.gz\n",
      "Extracting data\\t10k-labels-idx1-ubyte.gz\n",
      "WARNING:tensorflow:From C:\\Users\\tjdwo\\Anaconda3\\envs\\tf1.8\\lib\\site-packages\\tensorflow\\contrib\\learn\\python\\learn\\datasets\\mnist.py:290: DataSet.__init__ (from tensorflow.contrib.learn.python.learn.datasets.mnist) is deprecated and will be removed in a future version.\n",
      "Instructions for updating:\n",
      "Please use alternatives such as official/mnist/dataset.py from tensorflow/models.\n"
     ]
    }
   ],
   "source": [
    "mnist = read_data_sets('data', one_hot=True)"
   ]
  },
  {
   "cell_type": "code",
   "execution_count": 3,
   "metadata": {},
   "outputs": [],
   "source": [
    "X = tf.placeholder(tf.float32, shape=[None, 784])\n",
    "Y = tf.placeholder(tf.float32, shape=[None, 10])"
   ]
  },
  {
   "cell_type": "code",
   "execution_count": 4,
   "metadata": {},
   "outputs": [],
   "source": [
    "def sigmoid(x):\n",
    "    sigmoidX = tf.div(tf.constant(1.0), #1.0/(1+e^-x)\n",
    "                   tf.add ( tf.constant(1.0), tf.exp(tf.negative(x)) )\n",
    "                   )\n",
    "    return sigmoidX"
   ]
  },
  {
   "cell_type": "code",
   "execution_count": 5,
   "metadata": {},
   "outputs": [],
   "source": [
    "def softmax(x):\n",
    "    X = tf.exp(x) / tf.reduce_sum(tf.exp(x), axis=0)\n",
    "    return X"
   ]
  },
  {
   "cell_type": "code",
   "execution_count": 6,
   "metadata": {},
   "outputs": [],
   "source": [
    "W1 = tf.Variable(tf.random_normal([784, 200], stddev=0.1))\n",
    "b1 = tf.Variable(tf.random_normal([200], stddev=0.1))\n",
    "z1 = tf.add(tf.matmul(X, W1), b1) #layer1 logit\n",
    "L1 = sigmoid(tf.add(tf.matmul(X, W1), b1)) #sigmoid, layer1\n",
    "\n",
    "W2 = tf.Variable(tf.random_normal([200, 100], stddev=0.1))\n",
    "b2 = tf.Variable(tf.random_normal([100], stddev=0.1))\n",
    "z2 = tf.add(tf.matmul(L1, W2), b2) #layer logit2\n",
    "L2 = sigmoid(tf.add(tf.matmul(L1, W2), b2)) #layer2\n",
    "\n",
    "W3 = tf.Variable(tf.random_normal([100, 10], stddev=0.1))\n",
    "b3 = tf.Variable(tf.random_normal([10], stddev=0.1))\n",
    "logits = tf.add(tf.matmul(L2, W3), b3)# output logit\n",
    "H = softmax(logits)# Hypothesis\n",
    "#순전파"
   ]
  },
  {
   "cell_type": "code",
   "execution_count": 7,
   "metadata": {},
   "outputs": [],
   "source": [
    "def sigmoidprime(x):\n",
    "    sigmoidPX = tf.multiply(sigmoid(x), \n",
    "                          tf.subtract( tf.constant(1.0), sigmoid(x) )\n",
    "                         )\n",
    "    return sigmoidPX"
   ]
  },
  {
   "cell_type": "code",
   "execution_count": 8,
   "metadata": {},
   "outputs": [],
   "source": [
    "diff = tf.subtract(H, Y)#예측값-실제값(오차)"
   ]
  },
  {
   "cell_type": "code",
   "execution_count": 9,
   "metadata": {},
   "outputs": [],
   "source": [
    "d_z3 = tf.multiply(diff, sigmoidprime(logits))#오차 x logits, 결과값에 로짓이 미치는 영향, 체인룰\n",
    "d_b3 = d_z3\n",
    "d_W3 = tf.matmul(tf.transpose(L2), d_z3)"
   ]
  },
  {
   "cell_type": "code",
   "execution_count": 10,
   "metadata": {},
   "outputs": [],
   "source": [
    "d_L2 = tf.matmul(d_z3, tf.transpose(W3))\n",
    "d_z2 = tf.multiply(d_L2, sigmoidprime(z2))\n",
    "d_b2 = d_z2\n",
    "d_W2 = tf.matmul(tf.transpose(L1), d_z2)"
   ]
  },
  {
   "cell_type": "code",
   "execution_count": 11,
   "metadata": {},
   "outputs": [],
   "source": [
    "d_L1 = tf.matmul(d_z2, tf.transpose(W2))\n",
    "d_z1 = tf.multiply(d_L1, sigmoidprime(z1))\n",
    "d_b1 = d_z1\n",
    "d_W1 = tf.matmul(tf.transpose(X), d_z1)\n",
    "#역전파"
   ]
  },
  {
   "cell_type": "code",
   "execution_count": 12,
   "metadata": {},
   "outputs": [],
   "source": [
    "eta = tf.constant(0.5)"
   ]
  },
  {
   "cell_type": "code",
   "execution_count": 13,
   "metadata": {},
   "outputs": [],
   "source": [
    "step = [\n",
    "    tf.assign(W1, tf.subtract(W1, tf.multiply(eta, d_W1)))\n",
    "  , tf.assign(b1, tf.subtract(b1, tf.multiply(eta, tf.reduce_mean(d_b1, axis=0))))\n",
    "    \n",
    "  , tf.assign(W2, tf.subtract(W2, tf.multiply(eta, d_W2)))\n",
    "  , tf.assign(b2, tf.subtract(b2, tf.multiply(eta, tf.reduce_mean(d_b2, axis=0))))\n",
    "    \n",
    "  , tf.assign(W3, tf.subtract(W3, tf.multiply(eta, d_W3)))\n",
    "  , tf.assign(b3, tf.subtract(b3, tf.multiply(eta, tf.reduce_mean(d_b3, axis=0))))\n",
    "]"
   ]
  },
  {
   "cell_type": "code",
   "execution_count": 14,
   "metadata": {},
   "outputs": [],
   "source": [
    "is_correct = tf.equal(tf.argmax(H, 1), tf.argmax(Y, 1))\n",
    "accuracy = tf.reduce_mean(tf.cast(is_correct, tf.float32))"
   ]
  },
  {
   "cell_type": "code",
   "execution_count": 15,
   "metadata": {},
   "outputs": [],
   "source": [
    "sess = tf.Session()\n",
    "sess.run(tf.global_variables_initializer())"
   ]
  },
  {
   "cell_type": "code",
   "execution_count": 16,
   "metadata": {},
   "outputs": [
    {
     "name": "stdout",
     "output_type": "stream",
     "text": [
      "0.148\n",
      "0.789\n",
      "0.8975\n",
      "0.912\n",
      "0.9242\n",
      "0.9193\n",
      "0.9279\n",
      "0.9231\n",
      "0.9154\n",
      "0.9344\n"
     ]
    }
   ],
   "source": [
    "for i in range(10000):\n",
    "    batch_xs, batch_ys = mnist.train.next_batch(10)\n",
    "    sess.run(step, feed_dict = {X: batch_xs, Y : batch_ys})\n",
    "    if i % 1000 == 0:\n",
    "        a = sess.run(accuracy, feed_dict ={X: mnist.test.images,Y : mnist.test.labels})\n",
    "        print(a)"
   ]
  },
  {
   "cell_type": "code",
   "execution_count": 17,
   "metadata": {},
   "outputs": [
    {
     "name": "stdout",
     "output_type": "stream",
     "text": [
      "0.9268 \n",
      " [[6.6048139e-18 1.3678983e-18 4.1708217e-22 ... 6.7068776e-03\n",
      "  7.8645754e-25 2.8292538e-17]\n",
      " [6.4529824e-18 5.5403954e-18 1.6014503e-06 ... 8.7421250e-23\n",
      "  7.9341832e-29 7.2837807e-24]\n",
      " [3.2411429e-23 3.6446413e-03 4.3676312e-21 ... 4.5392504e-15\n",
      "  1.0278267e-22 1.6058665e-18]\n",
      " ...\n",
      " [2.8277021e-20 1.1707941e-17 1.5108005e-22 ... 2.2357242e-15\n",
      "  5.5183357e-22 3.9278802e-15]\n",
      " [5.6317368e-16 2.0687039e-16 1.0648183e-24 ... 2.4420868e-18\n",
      "  4.2537543e-19 1.1270572e-18]\n",
      " [1.2690600e-17 1.6462133e-17 6.8283698e-19 ... 3.2077776e-23\n",
      "  1.8312691e-25 5.0897431e-19]]\n",
      "0.9363 \n",
      " [[2.61298239e-19 9.39545344e-19 3.40064682e-18 ... 1.66737172e-03\n",
      "  2.88410340e-27 2.92639337e-19]\n",
      " [7.08839936e-18 3.07088280e-18 4.77075490e-09 ... 3.26597313e-23\n",
      "  5.55422247e-30 7.75566390e-24]\n",
      " [1.46976028e-25 7.72704429e-04 1.01577236e-19 ... 7.76145692e-15\n",
      "  5.02517373e-24 3.33768734e-20]\n",
      " ...\n",
      " [6.42845958e-21 1.50053893e-18 3.25992138e-19 ... 6.02867918e-16\n",
      "  1.21216195e-18 1.84318393e-15]\n",
      " [7.80016180e-18 1.08983962e-18 1.65527559e-25 ... 3.12137509e-19\n",
      "  5.19230835e-19 3.77444581e-18]\n",
      " [1.22467378e-18 1.22921081e-19 9.42035804e-20 ... 8.28937642e-24\n",
      "  3.07140356e-25 2.10604901e-20]]\n",
      "0.936 \n",
      " [[1.5562639e-19 2.0267979e-19 1.2919289e-20 ... 7.4422746e-03\n",
      "  3.9893008e-27 7.5829144e-18]\n",
      " [1.5296662e-17 6.4784708e-19 1.9025090e-05 ... 4.3960363e-24\n",
      "  4.1939227e-30 7.4606607e-24]\n",
      " [2.2228737e-27 1.6725619e-04 2.0728604e-18 ... 3.9197267e-15\n",
      "  7.2833222e-26 3.7298558e-22]\n",
      " ...\n",
      " [7.6474069e-22 3.0368571e-18 3.2695836e-23 ... 1.3380442e-15\n",
      "  3.0556551e-22 2.8660283e-17]\n",
      " [1.1865380e-18 1.9078729e-18 7.0641157e-26 ... 3.6168421e-19\n",
      "  1.2383840e-20 1.7261724e-24]\n",
      " [9.5605277e-20 2.0388133e-19 9.0591373e-20 ... 5.1460986e-24\n",
      "  1.5068835e-28 3.6915452e-22]]\n",
      "0.9399 \n",
      " [[5.6819620e-19 9.6803445e-21 1.7863539e-20 ... 5.0131761e-04\n",
      "  6.5447529e-31 4.5947542e-18]\n",
      " [4.2000574e-19 4.4314501e-18 7.6920929e-05 ... 3.6654572e-24\n",
      "  2.2990263e-33 6.7889856e-26]\n",
      " [2.5324303e-27 9.5976226e-04 1.6798441e-18 ... 5.7784551e-16\n",
      "  1.7106356e-27 2.0127146e-20]\n",
      " ...\n",
      " [1.3915278e-22 1.1717012e-17 6.5554065e-24 ... 1.9769938e-17\n",
      "  8.7777001e-23 4.3016920e-15]\n",
      " [1.2700996e-17 8.3194203e-18 1.2391087e-25 ... 9.1906306e-20\n",
      "  5.1004984e-22 9.7019094e-19]\n",
      " [1.4790225e-16 1.6418585e-20 2.2001937e-19 ... 1.1800263e-26\n",
      "  9.8018291e-32 2.1499246e-20]]\n",
      "0.933 \n",
      " [[1.79982218e-18 1.01135134e-18 1.03377319e-23 ... 1.26332068e-03\n",
      "  9.29127828e-28 4.09719845e-18]\n",
      " [7.78094956e-21 5.19378125e-19 9.32474541e-06 ... 5.77381457e-24\n",
      "  4.72044883e-33 4.27232237e-27]\n",
      " [1.39011611e-27 8.50363267e-06 2.17847072e-18 ... 4.72627762e-16\n",
      "  2.86569372e-28 4.02087768e-23]\n",
      " ...\n",
      " [4.83139849e-23 2.18736677e-16 2.90703369e-24 ... 1.03729805e-16\n",
      "  4.01880652e-21 1.13693379e-15]\n",
      " [5.81635886e-17 1.50028792e-17 7.08122371e-29 ... 1.00871192e-19\n",
      "  5.27375729e-23 2.89823536e-19]\n",
      " [7.44809838e-20 4.56629754e-19 1.08562013e-21 ... 1.28985631e-24\n",
      "  6.51927286e-29 6.88037413e-22]]\n",
      "0.9364 \n",
      " [[1.42168855e-17 6.95255887e-21 3.07973940e-24 ... 2.81425338e-04\n",
      "  5.21520336e-27 6.67310158e-17]\n",
      " [1.09828040e-19 3.56772433e-19 1.98852049e-05 ... 2.70142380e-24\n",
      "  3.97223962e-32 2.03729600e-26]\n",
      " [3.41122043e-25 8.84215933e-06 9.79101945e-21 ... 2.43592064e-16\n",
      "  1.62737567e-26 8.87415065e-23]\n",
      " ...\n",
      " [8.62849222e-21 6.13219883e-18 5.41802370e-24 ... 8.96421744e-15\n",
      "  1.88316694e-21 5.83522784e-17]\n",
      " [6.05703533e-17 3.77787547e-17 1.35938125e-27 ... 4.33749732e-20\n",
      "  6.08096647e-23 2.32902880e-21]\n",
      " [6.11382167e-19 1.27489857e-17 1.57758247e-21 ... 2.29588066e-24\n",
      "  2.55707336e-26 3.39860564e-22]]\n",
      "0.944 \n",
      " [[5.8367192e-18 2.8356944e-20 7.7757098e-23 ... 6.8921167e-03\n",
      "  2.9700310e-28 6.6083857e-19]\n",
      " [6.7794889e-25 1.1751805e-20 1.5145013e-06 ... 2.8526998e-29\n",
      "  5.8814067e-32 3.2911829e-29]\n",
      " [1.2958878e-26 3.1547930e-05 1.7708356e-21 ... 3.5542511e-19\n",
      "  5.2777113e-29 8.6935895e-24]\n",
      " ...\n",
      " [3.8654402e-20 2.2745368e-18 8.3839023e-25 ... 1.1455628e-18\n",
      "  1.8192521e-21 2.8320946e-16]\n",
      " [2.9962203e-19 2.5184884e-17 2.2876023e-29 ... 3.7201830e-21\n",
      "  1.0079609e-23 8.9128453e-25]\n",
      " [4.8521345e-19 9.5227895e-20 1.8002315e-22 ... 3.1757138e-27\n",
      "  1.0323008e-29 9.7357563e-22]]\n",
      "0.9362 \n",
      " [[5.3121729e-23 2.8459551e-21 5.0430312e-24 ... 2.3425679e-04\n",
      "  6.9511001e-28 1.0043282e-18]\n",
      " [1.0824499e-22 9.1341639e-20 1.0974974e-07 ... 2.1322433e-28\n",
      "  4.0493367e-33 1.2382407e-27]\n",
      " [5.5926959e-30 4.7735430e-04 1.5558694e-22 ... 2.2922602e-19\n",
      "  1.5366644e-26 1.3882076e-21]\n",
      " ...\n",
      " [3.6192961e-25 2.0561789e-19 2.9927109e-24 ... 1.1494583e-17\n",
      "  7.5062408e-20 4.9191184e-17]\n",
      " [1.0350529e-21 7.2962740e-16 3.5979835e-29 ... 1.6639246e-21\n",
      "  2.6383719e-21 6.0133866e-25]\n",
      " [5.1887900e-23 1.1842067e-18 1.8827610e-19 ... 2.9586118e-27\n",
      "  1.6907562e-30 8.2658064e-23]]\n",
      "0.9357 \n",
      " [[1.6107583e-20 3.1790797e-21 2.1672052e-24 ... 1.4937505e-03\n",
      "  2.9797097e-29 3.9138030e-18]\n",
      " [1.2806952e-21 1.2437103e-19 3.6222609e-06 ... 4.0211848e-28\n",
      "  1.6354607e-33 7.1999812e-27]\n",
      " [3.5588347e-28 4.5209420e-03 7.1390275e-25 ... 1.4823205e-19\n",
      "  2.6544000e-27 1.1095387e-19]\n",
      " ...\n",
      " [1.4470787e-23 1.3099244e-19 1.8832569e-27 ... 8.4225682e-20\n",
      "  8.5262651e-22 4.7645703e-17]\n",
      " [5.3107492e-23 1.3101601e-14 2.2004558e-32 ... 1.6040875e-24\n",
      "  1.6399891e-23 1.7495614e-24]\n",
      " [1.7934630e-19 1.3579288e-20 3.1151035e-23 ... 3.3762473e-27\n",
      "  1.9572887e-30 5.1224189e-22]]\n",
      "0.9298 \n",
      " [[1.1833129e-22 7.6448880e-21 1.3762112e-25 ... 1.9612620e-03\n",
      "  7.7734839e-33 2.6874037e-18]\n",
      " [1.4932067e-20 3.7598165e-17 1.2244848e-07 ... 2.2230290e-25\n",
      "  6.7883383e-31 9.2003153e-26]\n",
      " [2.1422695e-26 3.3180989e-04 1.1936287e-22 ... 2.4414714e-17\n",
      "  4.6818343e-29 8.2387066e-20]\n",
      " ...\n",
      " [3.3075092e-23 3.7114620e-19 2.9572440e-28 ... 6.3050680e-18\n",
      "  4.6553058e-26 1.7657853e-18]\n",
      " [9.7727381e-22 9.7717021e-18 6.2918781e-34 ... 2.6935622e-21\n",
      "  2.9411314e-26 5.4323204e-27]\n",
      " [2.1780601e-19 8.4132637e-20 1.6706090e-24 ... 3.6532306e-27\n",
      "  6.9950493e-28 1.0373286e-23]]\n"
     ]
    }
   ],
   "source": [
    "for i in range(10000):\n",
    "    batch_xs, batch_ys = mnist.train.next_batch(10)\n",
    "    sess.run(step, feed_dict = {X: batch_xs, Y : batch_ys})\n",
    "    if i % 1000 == 0:\n",
    "        h, a = sess.run([H, accuracy], feed_dict ={X: mnist.test.images,Y : mnist.test.labels})\n",
    "        print(a,\"\\n\", h)"
   ]
  },
  {
   "cell_type": "code",
   "execution_count": null,
   "metadata": {},
   "outputs": [],
   "source": []
  },
  {
   "cell_type": "code",
   "execution_count": null,
   "metadata": {},
   "outputs": [],
   "source": []
  },
  {
   "cell_type": "code",
   "execution_count": null,
   "metadata": {},
   "outputs": [],
   "source": []
  },
  {
   "cell_type": "code",
   "execution_count": null,
   "metadata": {},
   "outputs": [],
   "source": []
  }
 ],
 "metadata": {
  "kernelspec": {
   "display_name": "Python [conda env:tf1.8]",
   "language": "python",
   "name": "conda-env-tf1.8-py"
  },
  "language_info": {
   "codemirror_mode": {
    "name": "ipython",
    "version": 3
   },
   "file_extension": ".py",
   "mimetype": "text/x-python",
   "name": "python",
   "nbconvert_exporter": "python",
   "pygments_lexer": "ipython3",
   "version": "3.5.6"
  }
 },
 "nbformat": 4,
 "nbformat_minor": 2
}
