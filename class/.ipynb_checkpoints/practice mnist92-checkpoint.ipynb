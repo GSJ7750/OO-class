{
 "cells": [
  {
   "cell_type": "code",
   "execution_count": 1,
   "metadata": {},
   "outputs": [],
   "source": [
    "import tensorflow as tf"
   ]
  },
  {
   "cell_type": "code",
   "execution_count": 2,
   "metadata": {},
   "outputs": [],
   "source": [
    "from tensorflow.contrib.learn.python.learn.datasets.mnist import read_data_sets"
   ]
  },
  {
   "cell_type": "code",
   "execution_count": 3,
   "metadata": {},
   "outputs": [
    {
     "name": "stdout",
     "output_type": "stream",
     "text": [
      "WARNING:tensorflow:From <ipython-input-3-044ebb54bd6b>:1: read_data_sets (from tensorflow.contrib.learn.python.learn.datasets.mnist) is deprecated and will be removed in a future version.\n",
      "Instructions for updating:\n",
      "Please use alternatives such as official/mnist/dataset.py from tensorflow/models.\n",
      "WARNING:tensorflow:From C:\\Users\\tjdwo\\Anaconda3\\envs\\tf1.8\\lib\\site-packages\\tensorflow\\contrib\\learn\\python\\learn\\datasets\\mnist.py:260: maybe_download (from tensorflow.contrib.learn.python.learn.datasets.base) is deprecated and will be removed in a future version.\n",
      "Instructions for updating:\n",
      "Please write your own downloading logic.\n",
      "WARNING:tensorflow:From C:\\Users\\tjdwo\\Anaconda3\\envs\\tf1.8\\lib\\site-packages\\tensorflow\\contrib\\learn\\python\\learn\\datasets\\mnist.py:262: extract_images (from tensorflow.contrib.learn.python.learn.datasets.mnist) is deprecated and will be removed in a future version.\n",
      "Instructions for updating:\n",
      "Please use tf.data to implement this functionality.\n",
      "Extracting data\\train-images-idx3-ubyte.gz\n",
      "WARNING:tensorflow:From C:\\Users\\tjdwo\\Anaconda3\\envs\\tf1.8\\lib\\site-packages\\tensorflow\\contrib\\learn\\python\\learn\\datasets\\mnist.py:267: extract_labels (from tensorflow.contrib.learn.python.learn.datasets.mnist) is deprecated and will be removed in a future version.\n",
      "Instructions for updating:\n",
      "Please use tf.data to implement this functionality.\n",
      "Extracting data\\train-labels-idx1-ubyte.gz\n",
      "WARNING:tensorflow:From C:\\Users\\tjdwo\\Anaconda3\\envs\\tf1.8\\lib\\site-packages\\tensorflow\\contrib\\learn\\python\\learn\\datasets\\mnist.py:110: dense_to_one_hot (from tensorflow.contrib.learn.python.learn.datasets.mnist) is deprecated and will be removed in a future version.\n",
      "Instructions for updating:\n",
      "Please use tf.one_hot on tensors.\n",
      "Extracting data\\t10k-images-idx3-ubyte.gz\n",
      "Extracting data\\t10k-labels-idx1-ubyte.gz\n",
      "WARNING:tensorflow:From C:\\Users\\tjdwo\\Anaconda3\\envs\\tf1.8\\lib\\site-packages\\tensorflow\\contrib\\learn\\python\\learn\\datasets\\mnist.py:290: DataSet.__init__ (from tensorflow.contrib.learn.python.learn.datasets.mnist) is deprecated and will be removed in a future version.\n",
      "Instructions for updating:\n",
      "Please use alternatives such as official/mnist/dataset.py from tensorflow/models.\n"
     ]
    }
   ],
   "source": [
    "mnist = read_data_sets(\"data\", one_hot=True, reshape=False)"
   ]
  },
  {
   "cell_type": "code",
   "execution_count": 4,
   "metadata": {},
   "outputs": [],
   "source": [
    "X = tf.placeholder(tf.float32, shape=[None, 28, 28, 1])\n",
    "Y = tf.placeholder(tf.float32, shape=[None,10])\n",
    "X2 = tf.reshape(X, shape=[-1, 784])"
   ]
  },
  {
   "cell_type": "code",
   "execution_count": 5,
   "metadata": {},
   "outputs": [],
   "source": [
    "W = tf.Variable(tf.random_normal([784, 10]))\n",
    "b = tf.Variable(tf.random_normal([10]))\n",
    "logits = tf.matmul(X2, W) + b\n",
    "H = tf.nn.softmax(logits)"
   ]
  },
  {
   "cell_type": "code",
   "execution_count": 6,
   "metadata": {},
   "outputs": [],
   "source": [
    "cost = tf.nn.softmax_cross_entropy_with_logits_v2(logits=H, labels=Y)"
   ]
  },
  {
   "cell_type": "code",
   "execution_count": 7,
   "metadata": {},
   "outputs": [],
   "source": [
    "optimizer = tf.train.AdamOptimizer(0.005)"
   ]
  },
  {
   "cell_type": "code",
   "execution_count": 8,
   "metadata": {},
   "outputs": [],
   "source": [
    "train = optimizer.minimize(cost)"
   ]
  },
  {
   "cell_type": "code",
   "execution_count": 9,
   "metadata": {},
   "outputs": [],
   "source": [
    "is_correct = tf.equal(tf.argmax(Y, 1), tf.argmax(H, 1))\n",
    "accuracy = tf.reduce_mean(tf.cast(is_correct, tf.float32))"
   ]
  },
  {
   "cell_type": "code",
   "execution_count": 10,
   "metadata": {},
   "outputs": [],
   "source": [
    "init = tf.global_variables_initializer()\n",
    "sess = tf.Session()\n",
    "sess.run(init)"
   ]
  },
  {
   "cell_type": "code",
   "execution_count": 13,
   "metadata": {},
   "outputs": [
    {
     "name": "stdout",
     "output_type": "stream",
     "text": [
      "0.9219 [1.4611502 1.4611502 1.461186  ... 1.4611512 1.4611502 1.4611502]\n",
      "0.9216 [1.4611502 1.4611502 1.4611917 ... 1.4611512 1.4611529 1.4611502]\n",
      "0.9246 [1.4611502 1.4611502 1.461197  ... 1.4611562 1.4611511 1.4611502]\n",
      "0.9253 [1.4611502 1.4611502 1.4611909 ... 1.4611516 1.4611521 1.4611502]\n",
      "0.926 [1.4611502 1.4611502 1.4611638 ... 1.4611546 1.4611504 1.4611502]\n",
      "0.9252 [1.4611502 1.4611502 1.4611638 ... 1.4611502 1.4611515 1.4611502]\n",
      "0.9273 [1.4611502 1.4611502 1.4611578 ... 1.461154  1.4611819 1.4611502]\n",
      "0.9276 [1.4611502 1.4611502 1.4611566 ... 1.4611505 1.4611548 1.4611502]\n",
      "0.9282 [1.4611502 1.4611502 1.4611555 ... 1.4611528 1.4611585 1.4611502]\n",
      "0.9274 [1.4611502 1.4611502 1.4611588 ... 1.4611502 1.4611503 1.4611502]\n",
      "0.9282 [1.4611502 1.4611502 1.4611577 ... 1.4611511 1.4611516 1.4611502]\n",
      "0.9287 [1.4611502 1.4611502 1.4611588 ... 1.4611506 1.4611874 1.4611502]\n",
      "0.9273 [1.4611502 1.4611502 1.4611584 ... 1.4611502 1.4615514 1.4611502]\n",
      "0.9293 [1.4611502 1.4611502 1.4611619 ... 1.4611502 1.4612333 1.4611502]\n",
      "0.9307 [1.4611502 1.4611502 1.4611567 ... 1.4611502 1.4611716 1.4611502]\n",
      "0.929 [1.4611502 1.4611502 1.4611516 ... 1.4611502 1.4611546 1.4611502]\n",
      "0.9299 [1.4611502 1.4611502 1.4611633 ... 1.4611504 1.4611505 1.4611502]\n",
      "0.9291 [1.4611502 1.4611502 1.4611543 ... 1.4611502 1.4611567 1.4611502]\n",
      "0.9304 [1.4611502 1.4611502 1.4611607 ... 1.4611502 1.4611552 1.4611502]\n",
      "0.9302 [1.4611502 1.4611502 1.461156  ... 1.4611505 1.4611526 1.4611502]\n",
      "0.9296 [1.4611502 1.4611502 1.461156  ... 1.4611502 1.4611523 1.4611502]\n"
     ]
    }
   ],
   "source": [
    "for i in range(10001):\n",
    "    batch_xs, batch_ys = mnist.train.next_batch(100)\n",
    "    sess.run(train, feed_dict={X:batch_xs, Y:batch_ys})\n",
    "    if i%500 == 0:\n",
    "        a , c = sess.run([accuracy, cost], feed_dict={X:mnist.test.images, Y:mnist.test.labels})\n",
    "        print(a, c)"
   ]
  },
  {
   "cell_type": "code",
   "execution_count": null,
   "metadata": {},
   "outputs": [],
   "source": []
  }
 ],
 "metadata": {
  "kernelspec": {
   "display_name": "Python [conda env:tf1.8]",
   "language": "python",
   "name": "conda-env-tf1.8-py"
  },
  "language_info": {
   "codemirror_mode": {
    "name": "ipython",
    "version": 3
   },
   "file_extension": ".py",
   "mimetype": "text/x-python",
   "name": "python",
   "nbconvert_exporter": "python",
   "pygments_lexer": "ipython3",
   "version": "3.5.6"
  }
 },
 "nbformat": 4,
 "nbformat_minor": 2
}
