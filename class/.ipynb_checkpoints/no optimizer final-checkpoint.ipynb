{
 "cells": [
  {
   "cell_type": "code",
   "execution_count": 7,
   "metadata": {},
   "outputs": [
    {
     "name": "stdout",
     "output_type": "stream",
     "text": [
      "Extracting MNIST_data/train-images-idx3-ubyte.gz\n",
      "Extracting MNIST_data/train-labels-idx1-ubyte.gz\n",
      "Extracting MNIST_data/t10k-images-idx3-ubyte.gz\n",
      "Extracting MNIST_data/t10k-labels-idx1-ubyte.gz\n",
      "0.087\n",
      "0.341\n",
      "0.713\n",
      "0.801\n",
      "0.882\n",
      "0.898\n",
      "0.916\n",
      "0.927\n",
      "0.918\n",
      "0.924\n",
      "0.93\n",
      "0.932\n",
      "0.938\n",
      "0.932\n",
      "0.943\n",
      "0.933\n",
      "0.941\n",
      "0.94\n",
      "0.937\n",
      "0.95\n"
     ]
    }
   ],
   "source": [
    "import tensorflow\n",
    "import tensorflow as tf\n",
    "\n",
    "from tensorflow.contrib.learn.python.learn.datasets.mnist import read_data_sets\n",
    "mnist = read_data_sets(\"MNIST_data/\", one_hot=True)\n",
    "\n",
    "X = tf.placeholder(tf.float32, [None, 784])\n",
    "y = tf.placeholder(tf.float32, [None, 10])\n",
    "\n",
    "w_1 = tf.Variable(tf.truncated_normal([784, 200]))\n",
    "b_1 = tf.Variable(tf.truncated_normal([200]))\n",
    "\n",
    "w_2 = tf.Variable(tf.truncated_normal([200, 100]))\n",
    "b_2 = tf.Variable(tf.truncated_normal([100]))\n",
    "\n",
    "w_3 = tf.Variable(tf.truncated_normal([100, 10]))\n",
    "b_3 = tf.Variable(tf.truncated_normal([10]))\n",
    "\n",
    "def sigma(x):\n",
    "    return tf.div(tf.constant(1.0), tf.add(tf.constant(1.0), tf.exp(tf.negative(x))))\n",
    "\n",
    "z_1 = tf.add(tf.matmul(X, w_1), b_1)\n",
    "a_1 = sigma(z_1)\n",
    "\n",
    "z_2 = tf.add(tf.matmul(a_1, w_2), b_2)\n",
    "a_2 = sigma(z_2)\n",
    "\n",
    "z_3 = tf.add(tf.matmul(a_2, w_3), b_3)\n",
    "a_3 = sigma(z_3)\n",
    "\n",
    "diff = tf.subtract(a_3, y)\n",
    "\n",
    "def sigmaprime(x):\n",
    "    return tf.multiply(sigma(x), tf.subtract(tf.constant(1.0), sigma(x)))\n",
    "\n",
    "d_z_3 = tf.multiply(diff, sigmaprime(z_3))\n",
    "d_b_3 = d_z_3\n",
    "d_w_3 = tf.matmul(tf.transpose(a_2), d_z_3)\n",
    "\n",
    "d_a_2 = tf.matmul(d_z_3, tf.transpose(w_3))\n",
    "d_z_2 = tf.multiply(d_a_2, sigmaprime(z_2))\n",
    "d_b_2 = d_z_2\n",
    "d_w_2 = tf.matmul(tf.transpose(a_1), d_z_2)\n",
    "\n",
    "d_a_1 = tf.matmul(d_z_2, tf.transpose(w_2))\n",
    "d_z_1 = tf.multiply(d_a_1, sigmaprime(z_1))\n",
    "d_b_1 = d_z_1\n",
    "d_w_1 = tf.matmul(tf.transpose(X), d_z_1)\n",
    "\n",
    "eta = tf.constant(0.5)\n",
    "step = [\n",
    "    tf.assign(w_1, tf.subtract(w_1, tf.multiply(eta, d_w_1)))\n",
    "  , tf.assign(b_1, tf.subtract(b_1, tf.multiply(eta, tf.reduce_mean(d_b_1, axis=[0]))))\n",
    "  , tf.assign(w_2, tf.subtract(w_2, tf.multiply(eta, d_w_2)))\n",
    "  , tf.assign(b_2, tf.subtract(b_2, tf.multiply(eta, tf.reduce_mean(d_b_2, axis=[0]))))\n",
    "  , tf.assign(w_3, tf.subtract(w_3, tf.multiply(eta, d_w_3)))\n",
    "  , tf.assign(b_3, tf.subtract(b_3, tf.multiply(eta, tf.reduce_mean(d_b_3, axis=[0]))))\n",
    "]\n",
    "\n",
    "is_correct = tf.equal(tf.argmax(a_3, 1), tf.argmax(y, 1))\n",
    "accuracy = tf.reduce_mean(tf.cast(is_correct, tf.float32))\n",
    "\n",
    "sess = tf.Session()\n",
    "sess.run(tf.global_variables_initializer())\n",
    "\n",
    "for i in range(20000):\n",
    "    batch_xs, batch_ys = mnist.train.next_batch(10)\n",
    "    sess.run(step, feed_dict = {X: batch_xs, y : batch_ys})\n",
    "    if i % 1000 == 0:\n",
    "        res = sess.run(accuracy, feed_dict ={X: mnist.test.images[:1000],y : mnist.test.labels[:1000]})\n",
    "        print(res)"
   ]
  },
  {
   "cell_type": "code",
   "execution_count": 10,
   "metadata": {},
   "outputs": [
    {
     "data": {
      "text/plain": [
       "<tf.Tensor 'div_19:0' shape=(?, 100) dtype=float32>"
      ]
     },
     "execution_count": 10,
     "metadata": {},
     "output_type": "execute_result"
    }
   ],
   "source": [
    "a_2"
   ]
  },
  {
   "cell_type": "code",
   "execution_count": null,
   "metadata": {},
   "outputs": [],
   "source": []
  }
 ],
 "metadata": {
  "kernelspec": {
   "display_name": "Python [conda env:tf1.8]",
   "language": "python",
   "name": "conda-env-tf1.8-py"
  },
  "language_info": {
   "codemirror_mode": {
    "name": "ipython",
    "version": 3
   },
   "file_extension": ".py",
   "mimetype": "text/x-python",
   "name": "python",
   "nbconvert_exporter": "python",
   "pygments_lexer": "ipython3",
   "version": "3.5.6"
  }
 },
 "nbformat": 4,
 "nbformat_minor": 2
}
