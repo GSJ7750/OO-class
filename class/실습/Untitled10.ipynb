{
 "cells": [
  {
   "cell_type": "code",
   "execution_count": 4,
   "metadata": {},
   "outputs": [
    {
     "name": "stdout",
     "output_type": "stream",
     "text": [
      "0.5 0.25121468\n",
      "1.0 0.00018601696\n",
      "1.0 5.2253843e-05\n",
      "1.0 2.2670647e-05\n",
      "1.0 1.1531366e-05\n",
      "1.0 6.32923e-06\n",
      "1.0 3.6185352e-06\n",
      "1.0 2.1172418e-06\n",
      "1.0 1.255799e-06\n",
      "1.0 7.5095454e-07\n",
      "1.0 4.5131824e-07\n"
     ]
    }
   ],
   "source": [
    "import tensorflow as tf\n",
    "\n",
    "xdata = [[0,0], [0,1], [1,0], [1,1]]\n",
    "ydata = [[0], [1], [1], [0]]\n",
    "\n",
    "X = tf.placeholder(tf.float32, shape=[None, 2])\n",
    "Y = tf.placeholder(tf.float32, shape=[None, 1])\n",
    "\n",
    "W1 = tf.Variable(tf.random_normal([2,2], stddev=0.1))\n",
    "b1 = tf.Variable(tf.zeros([2]))\n",
    "L1 = tf.nn.sigmoid(tf.matmul(X, W1)+b1)\n",
    "\n",
    "W2 = tf.Variable(tf.random_normal([2,1]))\n",
    "b2 = tf.Variable(tf.zeros([1]))\n",
    "logits = tf.matmul(L1, W2)+b2\n",
    "H = tf.nn.sigmoid(logits)\n",
    "H2 = tf.round(H)\n",
    "\n",
    "cost = tf.losses.mean_squared_error(H, Y)\n",
    "train = tf.train.AdamOptimizer(0.05).minimize(cost)\n",
    "\n",
    "is_correct = tf.equal(H2, Y)\n",
    "accuracy = tf.reduce_mean(tf.cast(is_correct, tf.float32))\n",
    "\n",
    "sess = tf.Session()\n",
    "sess.run(tf.global_variables_initializer())\n",
    "\n",
    "for i in range(10001):\n",
    "    sess.run(train, feed_dict={X:xdata, Y:ydata})\n",
    "    if i%1000 == 0:\n",
    "        a, c = sess.run([accuracy, cost], feed_dict={X:xdata, Y:ydata})\n",
    "        print(a, c)\n"
   ]
  },
  {
   "cell_type": "code",
   "execution_count": 5,
   "metadata": {},
   "outputs": [
    {
     "name": "stdout",
     "output_type": "stream",
     "text": [
      "[0, 0] [0.00060234]\n",
      "[0, 1] [0.9993642]\n",
      "[1, 0] [0.9993637]\n",
      "[1, 1] [0.00079584]\n"
     ]
    }
   ],
   "source": [
    "y = sess.run(H, feed_dict={X:xdata})\n",
    "for i in range(4):\n",
    "    print(xdata[i], y[i])"
   ]
  },
  {
   "cell_type": "code",
   "execution_count": null,
   "metadata": {},
   "outputs": [],
   "source": []
  }
 ],
 "metadata": {
  "kernelspec": {
   "display_name": "Python [conda env:tf1.8]",
   "language": "python",
   "name": "conda-env-tf1.8-py"
  },
  "language_info": {
   "codemirror_mode": {
    "name": "ipython",
    "version": 3
   },
   "file_extension": ".py",
   "mimetype": "text/x-python",
   "name": "python",
   "nbconvert_exporter": "python",
   "pygments_lexer": "ipython3",
   "version": "3.5.6"
  }
 },
 "nbformat": 4,
 "nbformat_minor": 2
}
