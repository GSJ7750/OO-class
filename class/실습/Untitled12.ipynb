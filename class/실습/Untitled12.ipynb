{
 "cells": [
  {
   "cell_type": "code",
   "execution_count": 1,
   "metadata": {},
   "outputs": [],
   "source": [
    "import tensorflow as tf\n",
    "import numpy as np"
   ]
  },
  {
   "cell_type": "code",
   "execution_count": 2,
   "metadata": {},
   "outputs": [],
   "source": [
    "xdata = np.array([[0,0], [0,1], [1,0], [1,1]], dtype='float32')\n",
    "ydata = np.array([[0], [1], [1], [0]], dtype='float32')\n",
    "\n",
    "X = tf.placeholder(tf.float32, shape=[None, 2])\n",
    "Y = tf.placeholder(tf.float32, shape=[None, 1])\n",
    "\n",
    "W1 = tf.Variable(tf.random_normal([2,2]))\n",
    "b1 = tf.Variable(tf.zeros([2]))\n",
    "L1 = tf.nn.sigmoid(tf.matmul(X, W1)+b1)\n",
    "\n",
    "W2 = tf.Variable(tf.random_normal([2,1]))\n",
    "b2 = tf.Variable(tf.zeros([1]))\n",
    "logits = tf.matmul(L1, W2)+b2\n",
    "H = tf.nn.sigmoid(logits)\n",
    "H2 = tf.round(H)"
   ]
  },
  {
   "cell_type": "code",
   "execution_count": 3,
   "metadata": {},
   "outputs": [],
   "source": [
    "cost = tf.losses.mean_squared_error(H, Y)\n",
    "train = tf.train.AdamOptimizer(0.05).minimize(cost)\n",
    "\n",
    "is_correct = tf.equal(H2, Y)\n",
    "accuracy = tf.reduce_mean(tf.cast(is_correct, tf.float32))\n",
    "\n",
    "sess = tf.Session()\n",
    "sess.run(tf.global_variables_initializer())"
   ]
  },
  {
   "cell_type": "code",
   "execution_count": 4,
   "metadata": {},
   "outputs": [
    {
     "name": "stdout",
     "output_type": "stream",
     "text": [
      "0.5 0.25937462\n",
      "1.0 0.0009705422\n",
      "1.0 0.000291246\n",
      "1.0 0.00014117184\n",
      "1.0 8.2168684e-05\n",
      "1.0 5.262284e-05\n",
      "1.0 3.5696292e-05\n",
      "1.0 2.5141395e-05\n",
      "1.0 1.8170622e-05\n",
      "1.0 1.3375826e-05\n",
      "1.0 9.978724e-06\n"
     ]
    }
   ],
   "source": [
    "for i in range(5001):\n",
    "    sess.run(train, feed_dict={X:xdata, Y:ydata})\n",
    "    if i%500 == 0:\n",
    "        a, c = sess.run([accuracy, cost], feed_dict={X:xdata, Y:ydata})\n",
    "        print(a, c)"
   ]
  },
  {
   "cell_type": "code",
   "execution_count": 5,
   "metadata": {},
   "outputs": [
    {
     "name": "stdout",
     "output_type": "stream",
     "text": [
      "[0. 0.] [0.]\n",
      "[0. 1.] [1.]\n",
      "[1. 0.] [1.]\n",
      "[1. 1.] [0.]\n"
     ]
    }
   ],
   "source": [
    "y = sess.run(H2, feed_dict={X:xdata})\n",
    "for i in range(4):\n",
    "    print(xdata[i], y[i])"
   ]
  },
  {
   "cell_type": "code",
   "execution_count": null,
   "metadata": {},
   "outputs": [],
   "source": []
  },
  {
   "cell_type": "code",
   "execution_count": null,
   "metadata": {},
   "outputs": [],
   "source": []
  }
 ],
 "metadata": {
  "kernelspec": {
   "display_name": "Python [conda env:tf1.8]",
   "language": "python",
   "name": "conda-env-tf1.8-py"
  },
  "language_info": {
   "codemirror_mode": {
    "name": "ipython",
    "version": 3
   },
   "file_extension": ".py",
   "mimetype": "text/x-python",
   "name": "python",
   "nbconvert_exporter": "python",
   "pygments_lexer": "ipython3",
   "version": "3.5.6"
  }
 },
 "nbformat": 4,
 "nbformat_minor": 2
}
