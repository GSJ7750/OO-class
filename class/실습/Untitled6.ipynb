{
 "cells": [
  {
   "cell_type": "code",
   "execution_count": 39,
   "metadata": {},
   "outputs": [],
   "source": [
    "import tensorflow as tf\n",
    "from tensorflow.contrib.learn.python.learn.datasets.mnist import read_data_sets"
   ]
  },
  {
   "cell_type": "code",
   "execution_count": 40,
   "metadata": {},
   "outputs": [
    {
     "name": "stdout",
     "output_type": "stream",
     "text": [
      "WARNING:tensorflow:From <ipython-input-40-044ebb54bd6b>:1: read_data_sets (from tensorflow.contrib.learn.python.learn.datasets.mnist) is deprecated and will be removed in a future version.\n",
      "Instructions for updating:\n",
      "Please use alternatives such as official/mnist/dataset.py from tensorflow/models.\n",
      "WARNING:tensorflow:From C:\\Users\\tjdwo\\Anaconda3\\envs\\tf1.8\\lib\\site-packages\\tensorflow\\contrib\\learn\\python\\learn\\datasets\\mnist.py:260: maybe_download (from tensorflow.contrib.learn.python.learn.datasets.base) is deprecated and will be removed in a future version.\n",
      "Instructions for updating:\n",
      "Please write your own downloading logic.\n",
      "WARNING:tensorflow:From C:\\Users\\tjdwo\\Anaconda3\\envs\\tf1.8\\lib\\site-packages\\tensorflow\\contrib\\learn\\python\\learn\\datasets\\mnist.py:262: extract_images (from tensorflow.contrib.learn.python.learn.datasets.mnist) is deprecated and will be removed in a future version.\n",
      "Instructions for updating:\n",
      "Please use tf.data to implement this functionality.\n",
      "Extracting data\\train-images-idx3-ubyte.gz\n",
      "WARNING:tensorflow:From C:\\Users\\tjdwo\\Anaconda3\\envs\\tf1.8\\lib\\site-packages\\tensorflow\\contrib\\learn\\python\\learn\\datasets\\mnist.py:267: extract_labels (from tensorflow.contrib.learn.python.learn.datasets.mnist) is deprecated and will be removed in a future version.\n",
      "Instructions for updating:\n",
      "Please use tf.data to implement this functionality.\n",
      "Extracting data\\train-labels-idx1-ubyte.gz\n",
      "WARNING:tensorflow:From C:\\Users\\tjdwo\\Anaconda3\\envs\\tf1.8\\lib\\site-packages\\tensorflow\\contrib\\learn\\python\\learn\\datasets\\mnist.py:110: dense_to_one_hot (from tensorflow.contrib.learn.python.learn.datasets.mnist) is deprecated and will be removed in a future version.\n",
      "Instructions for updating:\n",
      "Please use tf.one_hot on tensors.\n",
      "Extracting data\\t10k-images-idx3-ubyte.gz\n",
      "Extracting data\\t10k-labels-idx1-ubyte.gz\n",
      "WARNING:tensorflow:From C:\\Users\\tjdwo\\Anaconda3\\envs\\tf1.8\\lib\\site-packages\\tensorflow\\contrib\\learn\\python\\learn\\datasets\\mnist.py:290: DataSet.__init__ (from tensorflow.contrib.learn.python.learn.datasets.mnist) is deprecated and will be removed in a future version.\n",
      "Instructions for updating:\n",
      "Please use alternatives such as official/mnist/dataset.py from tensorflow/models.\n"
     ]
    }
   ],
   "source": [
    "mnist = read_data_sets(\"data\", one_hot=True, reshape=False)"
   ]
  },
  {
   "cell_type": "code",
   "execution_count": 41,
   "metadata": {},
   "outputs": [],
   "source": [
    "\"parameter\"\n",
    "epoch = 15\n",
    "batch_size = 100\n",
    "keep_prob = tf.placeholder(tf.float32)"
   ]
  },
  {
   "cell_type": "code",
   "execution_count": 42,
   "metadata": {},
   "outputs": [],
   "source": [
    "X = tf.placeholder(tf.float32, shape=[None, 28, 28 ,1])\n",
    "X2 = tf.reshape(X, [-1, 784])\n",
    "Y = tf.placeholder(tf.float32, shape=[None, 10])"
   ]
  },
  {
   "cell_type": "code",
   "execution_count": 43,
   "metadata": {},
   "outputs": [],
   "source": [
    "W1 = tf.Variable(tf.truncated_normal([784, 512], stddev=0.1))\n",
    "b1 = tf.Variable(tf.zeros([512]))\n",
    "L1 = tf.nn.relu(tf.matmul(X2, W1)+b1)\n",
    "L1 = tf.nn.dropout(L1, keep_prob=keep_prob)\n",
    "\n",
    "W2 = tf.Variable(tf.truncated_normal([512, 256], stddev=0.1))\n",
    "b2 = tf.Variable(tf.zeros([256]))\n",
    "L2 = tf.nn.relu(tf.matmul(L1, W2)+b2)\n",
    "L2 = tf.nn.dropout(L2, keep_prob=keep_prob)\n",
    "\n",
    "W3 = tf.Variable(tf.truncated_normal([256, 128], stddev=0.1))\n",
    "b3 = tf.Variable(tf.zeros([128]))\n",
    "L3 = tf.nn.relu(tf.matmul(L2, W3)+b3)\n",
    "L3 = tf.nn.dropout(L3, keep_prob=keep_prob)\n",
    "\n",
    "W4 = tf.Variable(tf.truncated_normal([128, 64], stddev=0.1))\n",
    "b4 = tf.Variable(tf.zeros([64]))\n",
    "L4 = tf.nn.relu(tf.matmul(L3, W4)+b4)\n",
    "L4 = tf.nn.dropout(L4, keep_prob=keep_prob)\n",
    "\n",
    "W5 = tf.Variable(tf.truncated_normal([64, 10], stddev=0.1))\n",
    "b5 = tf.Variable(tf.zeros([10]))\n",
    "logits = tf.matmul(L4, W5)+b5\n",
    "H = tf.nn.relu(logits)"
   ]
  },
  {
   "cell_type": "code",
   "execution_count": 44,
   "metadata": {},
   "outputs": [],
   "source": [
    "cost = tf.reduce_mean(tf.nn.softmax_cross_entropy_with_logits_v2(logits=logits, labels=Y))\n",
    "train = tf.train.AdamOptimizer(0.005).minimize(cost)\n",
    "\n",
    "is_correct = tf.equal(tf.argmax(H,1), tf.argmax(Y,1))\n",
    "accuracy = tf.reduce_mean(tf.cast(is_correct, tf.float32))\n",
    "\n",
    "sess =tf.Session()\n",
    "sess.run(tf.global_variables_initializer())"
   ]
  },
  {
   "cell_type": "code",
   "execution_count": 50,
   "metadata": {},
   "outputs": [
    {
     "name": "stdout",
     "output_type": "stream",
     "text": [
      "1\n",
      "0.9779 0.14097856 0.9779 \n",
      "\n",
      "2\n",
      "0.9765 0.15215576 0.9779 \n",
      "\n",
      "3\n",
      "0.9763 0.1566307 0.9779 \n",
      "\n",
      "4\n",
      "0.9777 0.18040377 0.9779 \n",
      "\n",
      "5\n",
      "0.9723 0.16572419 0.9779 \n",
      "\n",
      "6\n",
      "0.9775 0.19433914 0.9779 \n",
      "\n",
      "7\n",
      "0.9743 0.18792711 0.9779 \n",
      "\n",
      "8\n",
      "0.9767 0.20146659 0.9779 \n",
      "\n",
      "9\n",
      "0.9781 0.16475394 0.9781 \n",
      "\n",
      "10\n",
      "0.9752 0.17086434 0.9781 \n",
      "\n",
      "11\n",
      "0.979 0.17396548 0.979 \n",
      "\n",
      "12\n",
      "0.9776 0.17386131 0.979 \n",
      "\n",
      "13\n",
      "0.9774 0.1379271 0.979 \n",
      "\n",
      "14\n",
      "0.974 0.1957298 0.979 \n",
      "\n",
      "15\n",
      "0.9764 0.22694637 0.979 \n",
      "\n"
     ]
    }
   ],
   "source": [
    "for e in range(epoch):\n",
    "    total_batch = int(mnist.train.num_examples/batch_size)\n",
    "    print(e+1)\n",
    "    avg_cost = 0\n",
    "    global max_accuracy\n",
    "    for i in range(total_batch):\n",
    "        batch_xs, batch_ys = mnist.train.next_batch(batch_size)\n",
    "        sess.run(train, feed_dict={X:batch_xs, Y:batch_ys, keep_prob:0.7})\n",
    "        avg_cost += c/total_batch\n",
    "    a, c = sess.run([accuracy, cost], feed_dict={X:mnist.test.images, Y:mnist.test.labels, keep_prob:1})\n",
    "    if max_accuracy < a:\n",
    "        max_accuracy = a\n",
    "    print(a, c, max_accuracy, \"\\n\")"
   ]
  },
  {
   "cell_type": "code",
   "execution_count": null,
   "metadata": {},
   "outputs": [],
   "source": []
  },
  {
   "cell_type": "code",
   "execution_count": 51,
   "metadata": {},
   "outputs": [
    {
     "name": "stdout",
     "output_type": "stream",
     "text": [
      "0.5 0.32556728\n",
      "1.0 0.001432192\n",
      "1.0 0.00040869857\n",
      "1.0 0.00019543988\n",
      "1.0 0.00011305196\n",
      "1.0 7.214348e-05\n",
      "1.0 4.882589e-05\n",
      "1.0 3.4333403e-05\n",
      "1.0 2.4784149e-05\n",
      "1.0 1.8227838e-05\n",
      "1.0 1.3588813e-05\n",
      "[0, 0] [0.]\n",
      "[1, 0] [1.]\n",
      "[0, 1] [1.]\n",
      "[1, 1] [0.]\n"
     ]
    }
   ],
   "source": [
    "xdata = [[0,0], [1,0], [0,1], [1,1]]\n",
    "ydata = [[0], [1], [1], [0]]\n",
    "\n",
    "X = tf.placeholder(tf.float32, shape=[None, 2])\n",
    "Y = tf.placeholder(tf.float32, shape=[None, 1])\n",
    "\n",
    "W1 = tf.Variable(tf.random_normal([2, 2]))\n",
    "b1 = tf.Variable(tf.zeros([2]))\n",
    "L1 = tf.nn.sigmoid(tf.matmul(X, W1)+b1)\n",
    "\n",
    "W2 = tf.Variable(tf.random_normal([2, 1]))\n",
    "b2 = tf.Variable(tf.zeros([1]))\n",
    "logits = tf.matmul(L1, W2)+b2\n",
    "H = tf.sigmoid(logits)\n",
    "H2 = tf.round(H)\n",
    "\n",
    "cost = tf.losses.mean_squared_error(H, Y)\n",
    "train = tf.train.AdamOptimizer(0.05).minimize(cost)\n",
    "\n",
    "is_correct = tf.equal(H2, Y)\n",
    "accuracy = tf.reduce_mean(tf.cast(is_correct, tf.float32))\n",
    "\n",
    "sess = tf.Session()\n",
    "sess.run(tf.global_variables_initializer())\n",
    "\n",
    "for i in range(5001):\n",
    "    sess.run(train, feed_dict={X:xdata, Y:ydata})\n",
    "    if i%500 ==0:\n",
    "        a, c = sess.run([accuracy, cost], feed_dict={X:xdata, Y:ydata})\n",
    "        print(a, c)\n",
    "        \n",
    "y = sess.run(H2, feed_dict={X:xdata})\n",
    "for i in range(4):\n",
    "    print(xdata[i], y[i])"
   ]
  }
 ],
 "metadata": {
  "kernelspec": {
   "display_name": "Python [conda env:tf1.8]",
   "language": "python",
   "name": "conda-env-tf1.8-py"
  },
  "language_info": {
   "codemirror_mode": {
    "name": "ipython",
    "version": 3
   },
   "file_extension": ".py",
   "mimetype": "text/x-python",
   "name": "python",
   "nbconvert_exporter": "python",
   "pygments_lexer": "ipython3",
   "version": "3.5.6"
  }
 },
 "nbformat": 4,
 "nbformat_minor": 2
}
