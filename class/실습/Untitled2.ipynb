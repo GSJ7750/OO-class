{
 "cells": [
  {
   "cell_type": "code",
   "execution_count": 155,
   "metadata": {},
   "outputs": [],
   "source": [
    "import tensorflow as tf\n",
    "import numpy as np"
   ]
  },
  {
   "cell_type": "code",
   "execution_count": 157,
   "metadata": {},
   "outputs": [],
   "source": [
    "xdata = np.array([[0,0], [1,0], [0,1], [1,1]], dtype=np.float32)\n",
    "ydata = np.array([[0], [1], [1], [1]], dtype=np.float32)\n",
    "\n",
    "X = tf.placeholder(tf.float32, shape=[None,2])\n",
    "Y = tf.placeholder(tf.float32, shape=[None,1])"
   ]
  },
  {
   "cell_type": "code",
   "execution_count": 158,
   "metadata": {},
   "outputs": [],
   "source": [
    "W1 = tf.Variable(tf.random_normal([2,2]))\n",
    "b1 = tf.Variable(tf.random_normal([2]))\n",
    "L1 = tf.nn.sigmoid(tf.matmul(X, W1)+b1)\n",
    "#logits = tf.matmul(X, W1)+b1\n",
    "#H = tf.nn.sigmoid(logits)\n",
    "\n",
    "W2 = tf.Variable(tf.random_normal([2,1]))\n",
    "b2 = tf.Variable(tf.random_normal([1]))\n",
    "logits = tf.matmul(L1, W2)+b2\n",
    "H = tf.nn.sigmoid(logits)\n",
    "H2 = tf.round(H)"
   ]
  },
  {
   "cell_type": "code",
   "execution_count": 159,
   "metadata": {},
   "outputs": [],
   "source": [
    "cost = tf.losses.mean_squared_error(H, Y)\n",
    "train = tf.train.AdamOptimizer(0.01).minimize(cost)\n",
    "\n",
    "correct_prediction = tf.equal(H2, Y)\n",
    "accuracy = tf.reduce_mean(tf.cast(correct_prediction, tf.float32))\n",
    "predict = H2\n",
    "\n",
    "init = tf.global_variables_initializer()\n",
    "sess = tf.Session()\n",
    "sess.run(init)"
   ]
  },
  {
   "cell_type": "code",
   "execution_count": 160,
   "metadata": {},
   "outputs": [
    {
     "name": "stdout",
     "output_type": "stream",
     "text": [
      "0.25 0.3788979\n",
      "0.75 0.1438591\n",
      "1.0 0.0571508\n",
      "1.0 0.022599865\n",
      "1.0 0.011604199\n",
      "1.0 0.0070900125\n",
      "1.0 0.0048157657\n",
      "1.0 0.003504099\n",
      "1.0 0.0026743533\n",
      "1.0 0.0021134312\n",
      "1.0 0.0017149171\n",
      "1.0 0.0014206676\n",
      "1.0 0.0011966407\n",
      "1.0 0.001021761\n",
      "1.0 0.0008823958\n",
      "1.0 0.0007693821\n",
      "1.0 0.0006763632\n",
      "1.0 0.0005988147\n",
      "1.0 0.0005334392\n",
      "1.0 0.0004777849\n",
      "1.0 0.00042999134\n",
      "1.0 0.0003886348\n",
      "1.0 0.00035259468\n",
      "1.0 0.0003209985\n",
      "1.0 0.00029313815\n",
      "1.0 0.00026844698\n",
      "1.0 0.0002464645\n",
      "1.0 0.00022680903\n",
      "1.0 0.0002091655\n",
      "1.0 0.00019327285\n",
      "1.0 0.00017890778\n",
      "1.0 0.00016588584\n",
      "1.0 0.00015404585\n",
      "1.0 0.00014325572\n",
      "1.0 0.00013339514\n",
      "1.0 0.00012436563\n",
      "1.0 0.000116078496\n",
      "1.0 0.000108459004\n",
      "1.0 0.00010143907\n",
      "1.0 9.496132e-05\n",
      "1.0 8.8973684e-05\n",
      "1.0 8.3430845e-05\n",
      "1.0 7.829282e-05\n",
      "1.0 7.352282e-05\n",
      "1.0 6.908945e-05\n",
      "1.0 6.49646e-05\n",
      "1.0 6.112114e-05\n",
      "1.0 5.7537774e-05\n",
      "1.0 5.419228e-05\n",
      "1.0 5.106659e-05\n",
      "1.0 4.8143607e-05\n"
     ]
    }
   ],
   "source": [
    "for i in range(5001):\n",
    "    sess.run(train, feed_dict={X:xdata, Y:ydata})\n",
    "    if i%100 == 0:\n",
    "        a, c = sess.run([accuracy, cost], feed_dict={X:xdata, Y:ydata})\n",
    "        print(a, c)"
   ]
  },
  {
   "cell_type": "code",
   "execution_count": 161,
   "metadata": {},
   "outputs": [
    {
     "name": "stdout",
     "output_type": "stream",
     "text": [
      "[[0.00799705]\n",
      " [0.9924117 ]\n",
      " [0.99310124]\n",
      " [0.9951579 ]]\n"
     ]
    }
   ],
   "source": [
    "print(sess.run(H, feed_dict={X:xdata}))"
   ]
  },
  {
   "cell_type": "code",
   "execution_count": 162,
   "metadata": {},
   "outputs": [
    {
     "name": "stdout",
     "output_type": "stream",
     "text": [
      "[0. 0.] [0.]\n",
      "[1. 0.] [1.]\n",
      "[0. 1.] [1.]\n",
      "[1. 1.] [1.]\n"
     ]
    }
   ],
   "source": [
    "y  = sess.run(predict, feed_dict = {X:xdata, Y:ydata})\n",
    "for i in range(4):\n",
    "    print(xdata[i], y[i])"
   ]
  },
  {
   "cell_type": "code",
   "execution_count": null,
   "metadata": {},
   "outputs": [],
   "source": []
  }
 ],
 "metadata": {
  "kernelspec": {
   "display_name": "Python [conda env:tf1.8]",
   "language": "python",
   "name": "conda-env-tf1.8-py"
  },
  "language_info": {
   "codemirror_mode": {
    "name": "ipython",
    "version": 3
   },
   "file_extension": ".py",
   "mimetype": "text/x-python",
   "name": "python",
   "nbconvert_exporter": "python",
   "pygments_lexer": "ipython3",
   "version": "3.5.6"
  }
 },
 "nbformat": 4,
 "nbformat_minor": 2
}
