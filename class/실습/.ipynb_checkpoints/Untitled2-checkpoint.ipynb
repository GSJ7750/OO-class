{
 "cells": [
  {
   "cell_type": "code",
   "execution_count": 139,
   "metadata": {},
   "outputs": [],
   "source": [
    "import tensorflow as tf"
   ]
  },
  {
   "cell_type": "code",
   "execution_count": 140,
   "metadata": {},
   "outputs": [],
   "source": [
    "xdata = [[0,0], [1,0], [0,1], [1,1]]\n",
    "ydata = [[0], [1], [1], [1]]\n",
    "\n",
    "X = tf.placeholder(tf.float32, shape=[None,2])\n",
    "Y = tf.placeholder(tf.float32, shape=[None,1])"
   ]
  },
  {
   "cell_type": "code",
   "execution_count": 141,
   "metadata": {},
   "outputs": [],
   "source": [
    "W1 = tf.Variable(tf.random_normal([2,2]))\n",
    "b1 = tf.Variable(tf.random_normal([2]))\n",
    "L1 = tf.nn.sigmoid(tf.matmul(X, W1)+b1)\n",
    "#logits = tf.matmul(X, W1)+b1\n",
    "#H = tf.nn.sigmoid(logits)\n",
    "\n",
    "W2 = tf.Variable(tf.random_normal([2,1]))\n",
    "b2 = tf.Variable(tf.random_normal([1]))\n",
    "logits = tf.matmul(L1, W2)+b2\n",
    "H = tf.nn.sigmoid(logits)\n",
    "H2 = tf.round(H)"
   ]
  },
  {
   "cell_type": "code",
   "execution_count": 142,
   "metadata": {},
   "outputs": [],
   "source": [
    "cost = tf.losses.mean_squared_error(H, Y)\n",
    "train = tf.train.AdamOptimizer(0.01).minimize(cost)\n",
    "\n",
    "correct_prediction = tf.equal(H2, Y)\n",
    "accuracy = tf.reduce_mean(tf.cast(correct_prediction, tf.float32))\n",
    "predict = H2\n",
    "\n",
    "init = tf.global_variables_initializer()\n",
    "sess = tf.Session()\n",
    "sess.run(init)"
   ]
  },
  {
   "cell_type": "code",
   "execution_count": 150,
   "metadata": {},
   "outputs": [
    {
     "name": "stdout",
     "output_type": "stream",
     "text": [
      "1.0 0.00014186012\n",
      "1.0 0.00012869909\n",
      "1.0 0.00011712872\n",
      "1.0 0.000106901585\n",
      "1.0 9.782376e-05\n",
      "1.0 8.9730034e-05\n",
      "1.0 8.248644e-05\n",
      "1.0 7.597996e-05\n",
      "1.0 7.011742e-05\n",
      "1.0 6.481765e-05\n",
      "1.0 6.001375e-05\n",
      "1.0 5.564728e-05\n",
      "1.0 5.166932e-05\n",
      "1.0 4.8037153e-05\n",
      "1.0 4.471322e-05\n",
      "1.0 4.166475e-05\n",
      "1.0 3.8864942e-05\n",
      "1.0 3.6288046e-05\n",
      "1.0 3.391278e-05\n",
      "1.0 3.1720112e-05\n",
      "1.0 2.9692663e-05\n",
      "1.0 2.7815931e-05\n",
      "1.0 2.6076115e-05\n",
      "1.0 2.4461258e-05\n",
      "1.0 2.2960876e-05\n",
      "1.0 2.1565374e-05\n",
      "1.0 2.0266101e-05\n",
      "1.0 1.9054885e-05\n",
      "1.0 1.7925091e-05\n",
      "1.0 1.6870188e-05\n",
      "1.0 1.5884316e-05\n",
      "1.0 1.4962654e-05\n",
      "1.0 1.409984e-05\n",
      "1.0 1.32921505e-05\n",
      "1.0 1.2535088e-05\n",
      "1.0 1.1825162e-05\n",
      "1.0 1.1159063e-05\n",
      "1.0 1.0533695e-05\n",
      "1.0 9.946301e-06\n",
      "1.0 9.394424e-06\n",
      "1.0 8.875319e-06\n",
      "1.0 8.387052e-06\n",
      "1.0 7.927702e-06\n",
      "1.0 7.495183e-06\n",
      "1.0 7.0876754e-06\n",
      "1.0 6.70393e-06\n",
      "1.0 6.3423045e-06\n",
      "1.0 6.001019e-06\n",
      "1.0 5.6792273e-06\n",
      "1.0 5.375723e-06\n",
      "1.0 5.0892554e-06\n"
     ]
    }
   ],
   "source": [
    "for i in range(5001):\n",
    "    sess.run(train, feed_dict={X:xdata, Y:ydata})\n",
    "    if i%100 == 0:\n",
    "        a, c = sess.run([accuracy, cost], feed_dict={X:xdata, Y:ydata})\n",
    "        print(a, c)"
   ]
  },
  {
   "cell_type": "code",
   "execution_count": 151,
   "metadata": {},
   "outputs": [
    {
     "name": "stdout",
     "output_type": "stream",
     "text": [
      "[[0.00297861]\n",
      " [0.9985397 ]\n",
      " [0.9970649 ]\n",
      " [0.9991412 ]]\n"
     ]
    }
   ],
   "source": [
    "print(sess.run(H, feed_dict={X:xdata}))"
   ]
  },
  {
   "cell_type": "code",
   "execution_count": 154,
   "metadata": {},
   "outputs": [
    {
     "name": "stdout",
     "output_type": "stream",
     "text": [
      "[0, 0] [0.]\n",
      "[1, 0] [1.]\n",
      "[0, 1] [1.]\n",
      "[1, 1] [1.]\n"
     ]
    }
   ],
   "source": [
    "y  = sess.run(predict, feed_dict = {X:xdata, Y:ydata})\n",
    "for i in range(4):\n",
    "    print(xdata[i], y[i])"
   ]
  },
  {
   "cell_type": "code",
   "execution_count": null,
   "metadata": {},
   "outputs": [],
   "source": []
  }
 ],
 "metadata": {
  "kernelspec": {
   "display_name": "Python [conda env:tf1.8]",
   "language": "python",
   "name": "conda-env-tf1.8-py"
  },
  "language_info": {
   "codemirror_mode": {
    "name": "ipython",
    "version": 3
   },
   "file_extension": ".py",
   "mimetype": "text/x-python",
   "name": "python",
   "nbconvert_exporter": "python",
   "pygments_lexer": "ipython3",
   "version": "3.5.6"
  }
 },
 "nbformat": 4,
 "nbformat_minor": 2
}
