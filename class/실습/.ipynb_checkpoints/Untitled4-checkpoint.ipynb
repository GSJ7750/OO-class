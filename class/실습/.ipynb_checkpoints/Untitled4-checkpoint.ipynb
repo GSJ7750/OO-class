{
 "cells": [
  {
   "cell_type": "code",
   "execution_count": 1,
   "metadata": {},
   "outputs": [],
   "source": [
    "import tensorflow as tf"
   ]
  },
  {
   "cell_type": "code",
   "execution_count": 2,
   "metadata": {},
   "outputs": [],
   "source": [
    "xdata = [[0,0], [1,0], [0,1], [1,1]]\n",
    "ydata = [[0], [1], [1], [0]]\n",
    "\n",
    "X = tf.placeholder(tf.float32, shape=[None, 2])\n",
    "Y = tf.placeholder(tf.float32, shape=[None, 1])"
   ]
  },
  {
   "cell_type": "code",
   "execution_count": 3,
   "metadata": {},
   "outputs": [],
   "source": [
    "W1 = tf.Variable(tf.random_normal([2, 2]))\n",
    "b1 = tf.Variable(tf.zeros([2]))\n",
    "L1 = tf.nn.sigmoid(tf.matmul(X, W1)+b1)\n",
    "\n",
    "W2 = tf.Variable(tf.random_normal([2, 1]))\n",
    "b2 = tf.Variable(tf.zeros([1]))\n",
    "logits = tf.matmul(L1, W2)+b2\n",
    "H = tf.nn.sigmoid(logits)\n",
    "H2 = tf.round(H)"
   ]
  },
  {
   "cell_type": "code",
   "execution_count": 4,
   "metadata": {},
   "outputs": [],
   "source": [
    "cost = tf.losses.mean_squared_error(H, Y)\n",
    "train = tf.train.AdamOptimizer(0.01).minimize(cost)"
   ]
  },
  {
   "cell_type": "code",
   "execution_count": 5,
   "metadata": {},
   "outputs": [],
   "source": [
    "is_correct = tf.equal(H2, Y)\n",
    "accuracy = tf.reduce_mean(tf.cast(is_correct, tf.float32))\n",
    "\n",
    "sess = tf.Session()\n",
    "sess.run(tf.global_variables_initializer())"
   ]
  },
  {
   "cell_type": "code",
   "execution_count": 6,
   "metadata": {},
   "outputs": [
    {
     "name": "stdout",
     "output_type": "stream",
     "text": [
      "0.5 0.25234073\n",
      "1.0 0.014060462\n",
      "1.0 0.003450296\n",
      "1.0 0.0015614341\n",
      "1.0 0.00087751617\n",
      "1.0 0.0005500438\n",
      "1.0 0.00036773193\n",
      "1.0 0.0002562895\n",
      "1.0 0.00018376284\n",
      "1.0 0.00013443934\n",
      "1.0 9.980572e-05\n"
     ]
    }
   ],
   "source": [
    "for i in range(5001):\n",
    "    sess.run(train, feed_dict={X:xdata, Y:ydata})\n",
    "    if i%500 == 0:\n",
    "        a, c = sess.run([accuracy, cost], feed_dict={X:xdata, Y:ydata})\n",
    "        print(a, c)"
   ]
  },
  {
   "cell_type": "code",
   "execution_count": 7,
   "metadata": {},
   "outputs": [
    {
     "name": "stdout",
     "output_type": "stream",
     "text": [
      "[[1.]]\n"
     ]
    }
   ],
   "source": [
    "print(sess.run(H2, feed_dict={X:[[1,0]]}))"
   ]
  },
  {
   "cell_type": "code",
   "execution_count": 8,
   "metadata": {},
   "outputs": [],
   "source": [
    "y = sess.run(H2, feed_dict={X:xdata, Y:ydata})"
   ]
  },
  {
   "cell_type": "code",
   "execution_count": 9,
   "metadata": {},
   "outputs": [
    {
     "name": "stdout",
     "output_type": "stream",
     "text": [
      "[0, 0] [0.]\n",
      "[1, 0] [1.]\n",
      "[0, 1] [1.]\n",
      "[1, 1] [0.]\n"
     ]
    }
   ],
   "source": [
    "for i in range(4):\n",
    "    print(xdata[i], y[i])"
   ]
  }
 ],
 "metadata": {
  "kernelspec": {
   "display_name": "Python [conda env:tf1.8]",
   "language": "python",
   "name": "conda-env-tf1.8-py"
  },
  "language_info": {
   "codemirror_mode": {
    "name": "ipython",
    "version": 3
   },
   "file_extension": ".py",
   "mimetype": "text/x-python",
   "name": "python",
   "nbconvert_exporter": "python",
   "pygments_lexer": "ipython3",
   "version": "3.5.6"
  }
 },
 "nbformat": 4,
 "nbformat_minor": 2
}
