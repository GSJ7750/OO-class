{
 "cells": [
  {
   "cell_type": "code",
   "execution_count": 5,
   "metadata": {},
   "outputs": [
    {
     "name": "stdout",
     "output_type": "stream",
     "text": [
      "WARNING:tensorflow:From C:\\Users\\tjdwo\\Anaconda3\\envs\\tf1.8\\lib\\site-packages\\tensorflow\\python\\util\\tf_should_use.py:118: initialize_all_variables (from tensorflow.python.ops.variables) is deprecated and will be removed after 2017-03-02.\n",
      "Instructions for updating:\n",
      "Use `tf.global_variables_initializer` instead.\n",
      "0 1.6910696 [0.39802653]\n",
      "1 0.48101544 [0.67894745]\n",
      "2 0.13682224 [0.82877195]\n",
      "3 0.038918305 [0.9086784]\n",
      "4 0.011070098 [0.95129514]\n",
      "5 0.0031488314 [0.97402406]\n",
      "6 0.00089567085 [0.98614615]\n",
      "7 0.00025476931 [0.9926113]\n",
      "8 7.246754e-05 [0.99605936]\n",
      "9 2.0612546e-05 [0.99789834]\n",
      "10 5.86305e-06 [0.99887913]\n",
      "11 1.6676344e-06 [0.9994022]\n",
      "12 4.7440253e-07 [0.9996812]\n",
      "13 1.3496954e-07 [0.99982995]\n",
      "14 3.8427387e-08 [0.9999093]\n",
      "15 1.0931482e-08 [0.9999516]\n",
      "16 3.11152e-09 [0.9999742]\n",
      "17 8.8304947e-10 [0.99998623]\n",
      "18 2.4995592e-10 [0.99999267]\n",
      "19 7.316222e-11 [0.99999607]\n"
     ]
    }
   ],
   "source": [
    "import tensorflow as tf \n",
    "x_data = [1., 2., 3.] \n",
    "y_data = [1., 2., 3.] \n",
    "W = tf.Variable(tf.random_uniform([1],-10.0, 10.0)) \n",
    "X = tf.placeholder(tf.float32) \n",
    "Y = tf.placeholder(tf.float32) \n",
    "hyphothesis = W * X \n",
    "cost = tf.reduce_mean(tf.square(hyphothesis - Y)) \n",
    "descent = W - tf.multiply( 0.1, tf.reduce_mean(tf.multiply( (tf.multiply(W,X)-Y), X ) )) \n",
    "init = tf.initialize_all_variables() \n",
    "sess = tf.Session() \n",
    "sess.run(init) \n",
    "for step in range(20): \n",
    "    sess.run(W.assign(descent), feed_dict={X:x_data, Y:y_data}) \n",
    "    print( step, sess.run(cost, feed_dict={X:x_data, Y:y_data}), sess.run(W))\n"
   ]
  },
  {
   "cell_type": "code",
   "execution_count": null,
   "metadata": {},
   "outputs": [],
   "source": []
  }
 ],
 "metadata": {
  "kernelspec": {
   "display_name": "Python [conda env:tf1.8]",
   "language": "python",
   "name": "conda-env-tf1.8-py"
  },
  "language_info": {
   "codemirror_mode": {
    "name": "ipython",
    "version": 3
   },
   "file_extension": ".py",
   "mimetype": "text/x-python",
   "name": "python",
   "nbconvert_exporter": "python",
   "pygments_lexer": "ipython3",
   "version": "3.5.6"
  }
 },
 "nbformat": 4,
 "nbformat_minor": 2
}
