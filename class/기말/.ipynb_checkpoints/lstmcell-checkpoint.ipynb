{
 "cells": [
  {
   "cell_type": "code",
   "execution_count": 2,
   "metadata": {},
   "outputs": [],
   "source": [
    "import numpy as np\n",
    "x = np.array([[1., 1., 1.]])\n",
    "c = 0.1 * np.asarray([[0, 1]])\n",
    "h = 0.1 * np.asarray([[2, 3]])"
   ]
  },
  {
   "cell_type": "code",
   "execution_count": 18,
   "metadata": {},
   "outputs": [
    {
     "name": "stdout",
     "output_type": "stream",
     "text": [
      "[[1.  1.  1.  0.2 0.3]]\n"
     ]
    }
   ],
   "source": [
    "num_units = 2\n",
    "\n",
    "args = np.concatenate((x,h), axis=1)\n",
    "print(args)"
   ]
  },
  {
   "cell_type": "code",
   "execution_count": 4,
   "metadata": {},
   "outputs": [
    {
     "name": "stdout",
     "output_type": "stream",
     "text": [
      "8\n",
      "5\n"
     ]
    }
   ],
   "source": [
    "out_size = 4 * num_units\n",
    "proj_size = args.shape[-1]\n",
    "print(out_size)\n",
    "print(proj_size)"
   ]
  },
  {
   "cell_type": "code",
   "execution_count": 5,
   "metadata": {},
   "outputs": [
    {
     "name": "stdout",
     "output_type": "stream",
     "text": [
      "[[0.5 0.5 0.5 0.5 0.5 0.5 0.5 0.5]\n",
      " [0.5 0.5 0.5 0.5 0.5 0.5 0.5 0.5]\n",
      " [0.5 0.5 0.5 0.5 0.5 0.5 0.5 0.5]\n",
      " [0.5 0.5 0.5 0.5 0.5 0.5 0.5 0.5]\n",
      " [0.5 0.5 0.5 0.5 0.5 0.5 0.5 0.5]]\n"
     ]
    }
   ],
   "source": [
    "weights = np.ones([proj_size, out_size]) * 0.5\n",
    "print(weights)"
   ]
  },
  {
   "cell_type": "code",
   "execution_count": 6,
   "metadata": {},
   "outputs": [
    {
     "name": "stdout",
     "output_type": "stream",
     "text": [
      "[[1.75 1.75 1.75 1.75 1.75 1.75 1.75 1.75]]\n"
     ]
    }
   ],
   "source": [
    "out = np.matmul(args, weights)\n",
    "print(out)"
   ]
  },
  {
   "cell_type": "code",
   "execution_count": 7,
   "metadata": {},
   "outputs": [
    {
     "name": "stdout",
     "output_type": "stream",
     "text": [
      "[0.5 0.5 0.5 0.5 0.5 0.5 0.5 0.5]\n"
     ]
    }
   ],
   "source": [
    "bias = np.ones([out_size]) * 0.5\n",
    "print(bias)"
   ]
  },
  {
   "cell_type": "code",
   "execution_count": 8,
   "metadata": {},
   "outputs": [
    {
     "name": "stdout",
     "output_type": "stream",
     "text": [
      "[[2.25 2.25 2.25 2.25 2.25 2.25 2.25 2.25]]\n"
     ]
    }
   ],
   "source": [
    "concat = out + bias\n",
    "print(concat)"
   ]
  },
  {
   "cell_type": "code",
   "execution_count": 9,
   "metadata": {},
   "outputs": [
    {
     "name": "stdout",
     "output_type": "stream",
     "text": [
      "[[2.25 2.25]]\n",
      "[[2.25 2.25]]\n",
      "[[2.25 2.25]]\n",
      "[[2.25 2.25]]\n"
     ]
    }
   ],
   "source": [
    "i, j, f, o = np.split(concat, 4, 1)\n",
    "print(i)\n",
    "print(j)\n",
    "print(f)\n",
    "print(o)"
   ]
  },
  {
   "cell_type": "code",
   "execution_count": 10,
   "metadata": {},
   "outputs": [
    {
     "name": "stdout",
     "output_type": "stream",
     "text": [
      "[[0.97802611 0.97802611]]\n"
     ]
    }
   ],
   "source": [
    "g = np.tanh(j)\n",
    "print(g)"
   ]
  },
  {
   "cell_type": "code",
   "execution_count": 11,
   "metadata": {},
   "outputs": [],
   "source": [
    "def sigmoid_array(x):\n",
    "    return 1 / (1 + np.exp(-x))"
   ]
  },
  {
   "cell_type": "code",
   "execution_count": 12,
   "metadata": {},
   "outputs": [
    {
     "name": "stdout",
     "output_type": "stream",
     "text": [
      "[[0.96267311 0.96267311]]\n"
     ]
    }
   ],
   "source": [
    "forget_bias = 1.0\n",
    "\n",
    "sigmoid_f = sigmoid_array(f + forget_bias)\n",
    "print(sigmoid_f)"
   ]
  },
  {
   "cell_type": "code",
   "execution_count": 13,
   "metadata": {},
   "outputs": [
    {
     "name": "stdout",
     "output_type": "stream",
     "text": [
      "[[0.88477185 0.98103916]]\n"
     ]
    }
   ],
   "source": [
    "sigmoid_array(i) * g\n",
    "\n",
    "new_c = c * sigmoid_f + sigmoid_array(i) * g\n",
    "print(new_c)"
   ]
  },
  {
   "cell_type": "code",
   "execution_count": 14,
   "metadata": {},
   "outputs": [
    {
     "name": "stdout",
     "output_type": "stream",
     "text": [
      "[[0.64121796 0.68166811]]\n"
     ]
    }
   ],
   "source": [
    "new_h = np.tanh(new_c) * sigmoid_array(o)\n",
    "print(new_h)"
   ]
  },
  {
   "cell_type": "code",
   "execution_count": 15,
   "metadata": {},
   "outputs": [
    {
     "name": "stdout",
     "output_type": "stream",
     "text": [
      "[[0.64121796 0.68166811]]\n",
      "[[0.88477185 0.98103916]]\n"
     ]
    }
   ],
   "source": [
    "print(new_h)\n",
    "print(new_c)"
   ]
  },
  {
   "cell_type": "code",
   "execution_count": null,
   "metadata": {},
   "outputs": [],
   "source": []
  },
  {
   "cell_type": "code",
   "execution_count": null,
   "metadata": {},
   "outputs": [],
   "source": []
  },
  {
   "cell_type": "code",
   "execution_count": null,
   "metadata": {},
   "outputs": [],
   "source": []
  }
 ],
 "metadata": {
  "kernelspec": {
   "display_name": "Python [conda env:tf1.8]",
   "language": "python",
   "name": "conda-env-tf1.8-py"
  },
  "language_info": {
   "codemirror_mode": {
    "name": "ipython",
    "version": 3
   },
   "file_extension": ".py",
   "mimetype": "text/x-python",
   "name": "python",
   "nbconvert_exporter": "python",
   "pygments_lexer": "ipython3",
   "version": "3.5.6"
  }
 },
 "nbformat": 4,
 "nbformat_minor": 2
}
