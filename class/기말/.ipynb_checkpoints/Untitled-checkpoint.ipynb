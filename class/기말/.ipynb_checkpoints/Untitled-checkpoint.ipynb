{
 "cells": [
  {
   "cell_type": "code",
   "execution_count": 1,
   "metadata": {},
   "outputs": [],
   "source": [
    "import numpy as np\n",
    "import tensorflow as tf\n",
    "\n",
    "class RNN():\n",
    "  def __init__(self, batch_size, input_dim, hidden_dim, output_dim):\n",
    "    self.input = tf.placeholder(tf.float32, [batch_size, None, input_dim])\n",
    "    self.target = tf.placeholder(tf.float32, [batch_size, None, output_dim])\n",
    "    self.seq_len = tf.placeholder(tf.int32)\n",
    "    self.hidden_dim = hidden_dim\n",
    "    \n",
    "    self.U = tf.get_variable(name='U', shape = [input_dim, hidden_dim], dtype = tf.float32)     # from input to hidden\n",
    "    self.b_U = tf.get_variable(name='b_U', shape = [hidden_dim], dtype = tf.float32)\n",
    "    \n",
    "    self.V = tf.get_variable(name='V', shape = [hidden_dim, output_dim], dtype = tf.float32)      # from hidden to output\n",
    "    self.b_V = tf.get_variable(name='b_V', shape = [output_dim], dtype = tf.float32)\n",
    "    \n",
    "    self.W = tf.get_variable(name='W', shape = [hidden_dim, hidden_dim], dtype = tf.float32)      # from hidden to hidden\n",
    "    self.b_W = tf.get_variable(name='b_W', shape = [hidden_dim], dtype = tf.float32)\n",
    "    \n",
    "    def input_to_TensorArray(value, axis, size=None):\n",
    "      shape = value.get_shape().as_list()\n",
    "      rank = len(shape)\n",
    "      dtype = value.dtype\n",
    "      array_size = shape[axis] if not shape[axis] is None else size\n",
    "\n",
    "      if array_size is None:\n",
    "        raise ValueError(\"Can't create TensorArray with size None\")\n",
    "\n",
    "      array = tf.TensorArray(dtype=dtype, size=array_size)\n",
    "      dim_permutation = [axis] + list(range(1, axis)) + [0] + list(range(axis + 1, rank))\n",
    "      unpack_axis_major_value = tf.transpose(value, dim_permutation)\n",
    "      full_array = array.unstack(unpack_axis_major_value)\n",
    "\n",
    "      return full_array\n",
    "    \n",
    "    # input data should be converted to TensorArray. However, since input data does not change, it can be declared as self.\n",
    "    self.input_TA = input_to_TensorArray(self.input, 1, self.seq_len)\n",
    "    \n",
    "    # variables that will change in each loop\n",
    "    h = tf.TensorArray(tf.float32, self.seq_len)\n",
    "    output = tf.TensorArray(tf.float32, self.seq_len)\n",
    "    time = tf.constant(0, dtype=tf.int32)\n",
    "    \n",
    "    # build graph using while_loop\n",
    "    _loop_cond = lambda time, _1,_2: time<self.seq_len\n",
    "    final_state_ = tf.while_loop(cond=_loop_cond, body=self._loop_body, loop_vars=(time, h, output))\n",
    "    \n",
    "    self.final_state = final_state_\n",
    "    self.final_output = self.final_state[-1].read(-1)\n",
    "    \n",
    "  \n",
    "  def _loop_body(self, time, h, output):   # what variable should change in each loop? like hidden states and outputs. If there is memory state, that should change as well.\n",
    "    input_step = self.input_TA.read(time)\n",
    "    \n",
    "    def h_prev_0(h):\n",
    "      return tf.Variable(np.zeros(self.hidden_dim),dtype=tf.float32)\n",
    "    def h_prev_1(h):\n",
    "      return h.read(time-1)\n",
    "    \n",
    "    h_prev = tf.cond(tf.equal(time,0), lambda:h_prev_0(h), lambda:h_prev_1(h))\n",
    "    h.write(time, tf.sigmoid(tf.matmul(input_step, self.U)+self.b_U+tf.matmul(h_prev, self.W)+self.b_W))\n",
    "    output.write(time, tf.matmul(h.read(time), self.V)+self.b_V)\n",
    "\n",
    "    return (time+1, h, output)\n",
    "    \n",
    "rnn_1 = RNN(1,20,50,20)\n",
    "with tf.Session() as sess:\n",
    "  init = tf.global_variables_initializer()\n",
    "  sess.run(init)"
   ]
  },
  {
   "cell_type": "code",
   "execution_count": 2,
   "metadata": {},
   "outputs": [
    {
     "data": {
      "text/plain": [
       "'batch_size, input_dim, hidden_dim, output_dim'"
      ]
     },
     "execution_count": 2,
     "metadata": {},
     "output_type": "execute_result"
    }
   ],
   "source": [
    "epoch = 15\n",
    "batch_size = 100\n",
    "'batch_size, input_dim, hidden_dim, output_dim'"
   ]
  },
  {
   "cell_type": "code",
   "execution_count": 3,
   "metadata": {},
   "outputs": [],
   "source": [
    "X = tf.placeholder(tf.float32, [None, 28, 28])\n",
    "Y = tf.placeholder(tf.float32, [None, 10])\n",
    "\n",
    "W = tf.Variable(tf.random_normal([100, 10]))\n",
    "b = tf.Variable(tf.random_normal([10]))"
   ]
  },
  {
   "cell_type": "code",
   "execution_count": 4,
   "metadata": {},
   "outputs": [],
   "source": [
    "hidden_layer_size = 30\n",
    "input_size = 784\n",
    "target_size = 10\n",
    "batch_size = 10\n",
    "epoch = 15"
   ]
  },
  {
   "cell_type": "code",
   "execution_count": 6,
   "metadata": {},
   "outputs": [
    {
     "ename": "TypeError",
     "evalue": "__init__() missing 1 required positional argument: 'output_dim'",
     "output_type": "error",
     "traceback": [
      "\u001b[1;31m---------------------------------------------------------------------------\u001b[0m",
      "\u001b[1;31mTypeError\u001b[0m                                 Traceback (most recent call last)",
      "\u001b[1;32m<ipython-input-6-9a0e6a06f307>\u001b[0m in \u001b[0;36m<module>\u001b[1;34m()\u001b[0m\n\u001b[1;32m----> 1\u001b[1;33m cell = RNN(batch_size, input_dim=input_size, hidden_dim=hidden_layer_size,\n\u001b[0m\u001b[0;32m      2\u001b[0m           )\n",
      "\u001b[1;31mTypeError\u001b[0m: __init__() missing 1 required positional argument: 'output_dim'"
     ]
    }
   ],
   "source": [
    "cell = RNN(batch_size, input_dim=input_size, hidden_dim=hidden_layer_size,\n",
    "          output_dim=target_size)"
   ]
  },
  {
   "cell_type": "code",
   "execution_count": null,
   "metadata": {},
   "outputs": [],
   "source": []
  }
 ],
 "metadata": {
  "kernelspec": {
   "display_name": "Python [conda env:tf1.8]",
   "language": "python",
   "name": "conda-env-tf1.8-py"
  },
  "language_info": {
   "codemirror_mode": {
    "name": "ipython",
    "version": 3
   },
   "file_extension": ".py",
   "mimetype": "text/x-python",
   "name": "python",
   "nbconvert_exporter": "python",
   "pygments_lexer": "ipython3",
   "version": "3.5.6"
  }
 },
 "nbformat": 4,
 "nbformat_minor": 2
}
