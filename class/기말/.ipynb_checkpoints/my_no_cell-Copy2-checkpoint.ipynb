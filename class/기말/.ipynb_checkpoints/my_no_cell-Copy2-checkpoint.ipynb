{
 "cells": [
  {
   "cell_type": "code",
   "execution_count": 1,
   "metadata": {},
   "outputs": [],
   "source": [
    "import numpy as np\n",
    "import tensorflow as tf\n",
    "import matplotlib.pyplot as plt\n",
    "#%matplotlib notebook\n",
    "\n",
    "x = np.array([[1, 2]])\n",
    "c = 0.1 * np.asarray([[0, 1]])#gate 가중치 = 0.1\n",
    "h = 0.1 * np.asarray([[0, 1]])"
   ]
  },
  {
   "cell_type": "code",
   "execution_count": 2,
   "metadata": {},
   "outputs": [
    {
     "data": {
      "text/plain": [
       "(1, 2)"
      ]
     },
     "execution_count": 2,
     "metadata": {},
     "output_type": "execute_result"
    }
   ],
   "source": [
    "x.shape"
   ]
  },
  {
   "cell_type": "code",
   "execution_count": 3,
   "metadata": {},
   "outputs": [
    {
     "data": {
      "text/plain": [
       "(1, 2)"
      ]
     },
     "execution_count": 3,
     "metadata": {},
     "output_type": "execute_result"
    }
   ],
   "source": [
    "c.shape"
   ]
  },
  {
   "cell_type": "code",
   "execution_count": 4,
   "metadata": {},
   "outputs": [
    {
     "data": {
      "text/plain": [
       "(1, 2)"
      ]
     },
     "execution_count": 4,
     "metadata": {},
     "output_type": "execute_result"
    }
   ],
   "source": [
    "h.shape"
   ]
  },
  {
   "cell_type": "code",
   "execution_count": 5,
   "metadata": {},
   "outputs": [
    {
     "data": {
      "text/plain": [
       "2"
      ]
     },
     "execution_count": 5,
     "metadata": {},
     "output_type": "execute_result"
    }
   ],
   "source": [
    "c.size # num units"
   ]
  },
  {
   "cell_type": "code",
   "execution_count": 6,
   "metadata": {},
   "outputs": [],
   "source": [
    "def sigmoid_array(x):\n",
    "     return 1 / (1 + np.exp(-x))\n",
    "    \n",
    "class lstmcell:\n",
    "    def __init__(self, num, x_, c_, h_):\n",
    "        self.x = x_ #input\n",
    "        self.c = c_# 초기 state\n",
    "        self.h = h_# 초기 output\n",
    "        self.num = num\n",
    "\n",
    "    \n",
    "    def build(self):\n",
    "        num_units = self.num #hidden layer 갯수\n",
    "\n",
    "        args = np.concatenate((self.x, self.h), axis=1)\n",
    "\n",
    "        out_size = 4 * num_units#n_gate = 4\n",
    "        proj_size = args.shape[-1]\n",
    "\n",
    "        weights = np.ones([proj_size, out_size]) * 0.5\n",
    "\n",
    "        out = np.matmul(args, weights)\n",
    "\n",
    "        bias = np.ones([out_size]) * 0.5\n",
    "\n",
    "        concat = out + bias\n",
    "\n",
    "        i, j, f, o = np.split(concat, 4, 1)\n",
    "\n",
    "        g = np.tanh(j)#Cell 현재값\n",
    "        \n",
    "        forget_bias = 1.0\n",
    "\n",
    "        sigmoid_f = sigmoid_array(f + forget_bias)#forget gate\n",
    "\n",
    "        sigmoid_array(i) * g\n",
    "\n",
    "        new_c = c * sigmoid_f + sigmoid_array(i) * g\n",
    "\n",
    "        new_h = np.tanh(new_c) * sigmoid_array(o)\n",
    "\n",
    "        new_c = np.split(new_c, 1, 1)\n",
    "        new_h = np.split(new_h, 1, 1)\n",
    "\n",
    "        return new_h, new_c"
   ]
  },
  {
   "cell_type": "code",
   "execution_count": 7,
   "metadata": {},
   "outputs": [],
   "source": [
    "num_units = c.size"
   ]
  },
  {
   "cell_type": "code",
   "execution_count": 8,
   "metadata": {},
   "outputs": [],
   "source": [
    "def propagation(num_units, data, new_state, new_output):\n",
    "    cell = lstmcell(num_units, x, new_state, new_output)\n",
    "    output, state = cell.build()\n",
    "    new_output = np.asarray(output)\n",
    "    new_state = np.asarray(state)\n",
    "    new_output = new_output.reshape(1, num_units)\n",
    "    new_state = new_state.reshape(1, num_units)\n",
    "    return new_state, new_output"
   ]
  },
  {
   "cell_type": "markdown",
   "metadata": {},
   "source": [
    "#Prediction part"
   ]
  },
  {
   "cell_type": "markdown",
   "metadata": {},
   "source": [
    "#Recurrent model with numpy"
   ]
  },
  {
   "cell_type": "code",
   "execution_count": 9,
   "metadata": {},
   "outputs": [],
   "source": [
    "new_state, new_output = c, h\n",
    "error = np.array([0, 0])\n",
    "state_predict = np.array([0.88490995, 1.84762319])\n",
    "losses1 = []"
   ]
  },
  {
   "cell_type": "code",
   "execution_count": 10,
   "metadata": {},
   "outputs": [
    {
     "name": "stdout",
     "output_type": "stream",
     "text": [
      "1\n",
      "loss :         [1.048020532935948]\n",
      "current output [[0.61550367 0.6564257 ]]\n",
      "current state  [[0.8570613  0.95253955]] \n",
      "\n",
      "2\n",
      "loss :         [0.4606346266746184]\n",
      "current output [[0.67895323 0.71878891]]\n",
      "current state  [[0.92360866 1.0210405 ]] \n",
      "\n",
      "3\n",
      "loss :         [0.3038513340868129]\n",
      "current output [[0.68388801 0.72365118]]\n",
      "current state  [[0.92851538 1.02610002]] \n",
      "\n",
      "4\n",
      "loss :         [0.22770577694345825]\n",
      "current output [[0.6842599  0.72401769]]\n",
      "current state  [[0.92888348 1.02647964]] \n",
      "\n",
      "5\n",
      "loss :         [0.18215363345901234]\n",
      "current output [[0.68428786 0.72404524]]\n",
      "current state  [[0.92891115 1.02650817]] \n",
      "\n",
      "6\n",
      "loss :         [0.15179400628816256]\n",
      "current output [[0.68428996 0.72404731]]\n",
      "current state  [[0.92891322 1.02651031]] \n",
      "\n",
      "7\n",
      "loss :         [0.1301091039048785]\n",
      "current output [[0.68429012 0.72404747]]\n",
      "current state  [[0.92891338 1.02651047]] \n",
      "\n",
      "8\n",
      "loss :         [0.11384546300045398]\n",
      "current output [[0.68429013 0.72404748]]\n",
      "current state  [[0.92891339 1.02651049]] \n",
      "\n",
      "9\n",
      "loss :         [0.10119596691666854]\n",
      "current output [[0.68429013 0.72404748]]\n",
      "current state  [[0.92891339 1.02651049]] \n",
      "\n",
      "10\n",
      "loss :         [0.09107637021182081]\n",
      "current output [[0.68429013 0.72404748]]\n",
      "current state  [[0.92891339 1.02651049]] \n",
      "\n",
      "11\n",
      "loss :         [0.0827967001916637]\n",
      "current output [[0.68429013 0.72404748]]\n",
      "current state  [[0.92891339 1.02651049]] \n",
      "\n",
      "12\n",
      "loss :         [0.07589697517562967]\n",
      "current output [[0.68429013 0.72404748]]\n",
      "current state  [[0.92891339 1.02651049]] \n",
      "\n",
      "13\n",
      "loss :         [0.07005874631596155]\n",
      "current output [[0.68429013 0.72404748]]\n",
      "current state  [[0.92891339 1.02651049]] \n",
      "\n",
      "14\n",
      "loss :         [0.06505455015053543]\n",
      "current output [[0.68429013 0.72404748]]\n",
      "current state  [[0.92891339 1.02651049]] \n",
      "\n",
      "15\n",
      "loss :         [0.06071758014049974]\n",
      "current output [[0.68429013 0.72404748]]\n",
      "current state  [[0.92891339 1.02651049]] \n",
      "\n",
      "16\n",
      "loss :         [0.0569227313817185]\n",
      "current output [[0.68429013 0.72404748]]\n",
      "current state  [[0.92891339 1.02651049]] \n",
      "\n",
      "17\n",
      "loss :         [0.053574335418088]\n",
      "current output [[0.68429013 0.72404748]]\n",
      "current state  [[0.92891339 1.02651049]] \n",
      "\n",
      "18\n",
      "loss :         [0.050597983450416446]\n",
      "current output [[0.68429013 0.72404748]]\n",
      "current state  [[0.92891339 1.02651049]] \n",
      "\n",
      "19\n",
      "loss :         [0.04793493168986821]\n",
      "current output [[0.68429013 0.72404748]]\n",
      "current state  [[0.92891339 1.02651049]] \n",
      "\n",
      "20\n",
      "loss :         [0.0455381851053748]\n",
      "current output [[0.68429013 0.72404748]]\n",
      "current state  [[0.92891339 1.02651049]] \n",
      "\n",
      "21\n",
      "loss :         [0.043369700100356956]\n",
      "current output [[0.68429013 0.72404748]]\n",
      "current state  [[0.92891339 1.02651049]] \n",
      "\n",
      "22\n",
      "loss :         [0.041398350095795275]\n",
      "current output [[0.68429013 0.72404748]]\n",
      "current state  [[0.92891339 1.02651049]] \n",
      "\n",
      "23\n",
      "loss :         [0.0395984218307607]\n",
      "current output [[0.68429013 0.72404748]]\n",
      "current state  [[0.92891339 1.02651049]] \n",
      "\n",
      "24\n",
      "loss :         [0.037948487587812336]\n",
      "current output [[0.68429013 0.72404748]]\n",
      "current state  [[0.92891339 1.02651049]] \n",
      "\n",
      "25\n",
      "loss :         [0.03643054808429984]\n",
      "current output [[0.68429013 0.72404748]]\n",
      "current state  [[0.92891339 1.02651049]] \n",
      "\n",
      "26\n",
      "loss :         [0.03502937315798062]\n",
      "current output [[0.68429013 0.72404748]]\n",
      "current state  [[0.92891339 1.02651049]] \n",
      "\n",
      "27\n",
      "loss :         [0.0337319889669443]\n",
      "current output [[0.68429013 0.72404748]]\n",
      "current state  [[0.92891339 1.02651049]] \n",
      "\n",
      "28\n",
      "loss :         [0.03252727507526772]\n",
      "current output [[0.68429013 0.72404748]]\n",
      "current state  [[0.92891339 1.02651049]] \n",
      "\n",
      "29\n",
      "loss :         [0.03140564490025848]\n",
      "current output [[0.68429013 0.72404748]]\n",
      "current state  [[0.92891339 1.02651049]] \n",
      "\n",
      "30\n",
      "loss :         [0.03035879007024987]\n",
      "current output [[0.68429013 0.72404748]]\n",
      "current state  [[0.92891339 1.02651049]] \n",
      "\n"
     ]
    }
   ],
   "source": [
    "for i in range(1, 31, 1):\n",
    "    new_state, new_output = propagation(num_units, x, new_state, new_output)\n",
    "    global states\n",
    "    error = (state_predict.mean()**2 - new_state.mean()**2)\n",
    "    loss = error/i\n",
    "    losses1.append(loss)\n",
    "    \n",
    "    print(i)\n",
    "    print(\"loss :        \", [loss.mean()])\n",
    "    print(\"current output\",new_output)\n",
    "    print(\"current state \", new_state, \"\\n\")"
   ]
  },
  {
   "cell_type": "code",
   "execution_count": 11,
   "metadata": {},
   "outputs": [
    {
     "data": {
      "text/plain": [
       "Text(0.5,0,'Step')"
      ]
     },
     "execution_count": 11,
     "metadata": {},
     "output_type": "execute_result"
    },
    {
     "data": {
      "image/png": "[encoded data removed]",
      "text/plain": [
       "<Figure size 576x288 with 1 Axes>"
      ]
     },
     "metadata": {
      "needs_background": "light"
     },
     "output_type": "display_data"
    }
   ],
   "source": [
    "plt.rcParams[\"figure.figsize\"] = (8, 4)\n",
    "plt.plot(losses1)\n",
    "plt.title('Loss1')\n",
    "plt.ylabel('Loss value')\n",
    "plt.xlabel('Step')"
   ]
  },
  {
   "cell_type": "markdown",
   "metadata": {},
   "source": [
    "########################################"
   ]
  },
  {
   "cell_type": "markdown",
   "metadata": {},
   "source": [
    "#Recurrent model with tensorflow squared_error loss"
   ]
  },
  {
   "cell_type": "code",
   "execution_count": 12,
   "metadata": {},
   "outputs": [],
   "source": [
    "sess = tf.Session()"
   ]
  },
  {
   "cell_type": "code",
   "execution_count": 13,
   "metadata": {},
   "outputs": [],
   "source": [
    "new_state, new_output = c, h\n",
    "error = np.array([0, 0])\n",
    "state_predict = np.array([0.88490995, 1.84762319])\n",
    "losses2 = []"
   ]
  },
  {
   "cell_type": "code",
   "execution_count": 14,
   "metadata": {},
   "outputs": [
    {
     "name": "stdout",
     "output_type": "stream",
     "text": [
      "1\n",
      "loss :         [0.21295105]\n",
      "current output [[0.61550367 0.6564257 ]]\n",
      "current state  [[0.8570613  0.95253955]] \n",
      "\n",
      "2\n",
      "loss :         [0.15519035]\n",
      "current output [[0.67895323 0.71878891]]\n",
      "current state  [[0.92360866 1.0210405 ]] \n",
      "\n",
      "3\n",
      "loss :         [0.15128905]\n",
      "current output [[0.68388801 0.72365118]]\n",
      "current state  [[0.92851538 1.02610002]] \n",
      "\n",
      "4\n",
      "loss :         [0.15099832]\n",
      "current output [[0.6842599  0.72401769]]\n",
      "current state  [[0.92888348 1.02647964]] \n",
      "\n",
      "5\n",
      "loss :         [0.15097651]\n",
      "current output [[0.68428786 0.72404524]]\n",
      "current state  [[0.92891115 1.02650817]] \n",
      "\n",
      "6\n",
      "loss :         [0.15097484]\n",
      "current output [[0.68428996 0.72404731]]\n",
      "current state  [[0.92891322 1.02651031]] \n",
      "\n",
      "7\n",
      "loss :         [0.15097475]\n",
      "current output [[0.68429012 0.72404747]]\n",
      "current state  [[0.92891338 1.02651047]] \n",
      "\n",
      "8\n",
      "loss :         [0.15097475]\n",
      "current output [[0.68429013 0.72404748]]\n",
      "current state  [[0.92891339 1.02651049]] \n",
      "\n",
      "9\n",
      "loss :         [0.15097475]\n",
      "current output [[0.68429013 0.72404748]]\n",
      "current state  [[0.92891339 1.02651049]] \n",
      "\n",
      "10\n",
      "loss :         [0.15097475]\n",
      "current output [[0.68429013 0.72404748]]\n",
      "current state  [[0.92891339 1.02651049]] \n",
      "\n",
      "11\n",
      "loss :         [0.15097475]\n",
      "current output [[0.68429013 0.72404748]]\n",
      "current state  [[0.92891339 1.02651049]] \n",
      "\n",
      "12\n",
      "loss :         [0.15097475]\n",
      "current output [[0.68429013 0.72404748]]\n",
      "current state  [[0.92891339 1.02651049]] \n",
      "\n",
      "13\n",
      "loss :         [0.15097475]\n",
      "current output [[0.68429013 0.72404748]]\n",
      "current state  [[0.92891339 1.02651049]] \n",
      "\n",
      "14\n",
      "loss :         [0.15097475]\n",
      "current output [[0.68429013 0.72404748]]\n",
      "current state  [[0.92891339 1.02651049]] \n",
      "\n",
      "15\n",
      "loss :         [0.15097475]\n",
      "current output [[0.68429013 0.72404748]]\n",
      "current state  [[0.92891339 1.02651049]] \n",
      "\n",
      "16\n",
      "loss :         [0.15097475]\n",
      "current output [[0.68429013 0.72404748]]\n",
      "current state  [[0.92891339 1.02651049]] \n",
      "\n",
      "17\n",
      "loss :         [0.15097475]\n",
      "current output [[0.68429013 0.72404748]]\n",
      "current state  [[0.92891339 1.02651049]] \n",
      "\n",
      "18\n",
      "loss :         [0.15097475]\n",
      "current output [[0.68429013 0.72404748]]\n",
      "current state  [[0.92891339 1.02651049]] \n",
      "\n",
      "19\n",
      "loss :         [0.15097475]\n",
      "current output [[0.68429013 0.72404748]]\n",
      "current state  [[0.92891339 1.02651049]] \n",
      "\n",
      "20\n",
      "loss :         [0.15097475]\n",
      "current output [[0.68429013 0.72404748]]\n",
      "current state  [[0.92891339 1.02651049]] \n",
      "\n",
      "21\n",
      "loss :         [0.15097475]\n",
      "current output [[0.68429013 0.72404748]]\n",
      "current state  [[0.92891339 1.02651049]] \n",
      "\n",
      "22\n",
      "loss :         [0.15097475]\n",
      "current output [[0.68429013 0.72404748]]\n",
      "current state  [[0.92891339 1.02651049]] \n",
      "\n",
      "23\n",
      "loss :         [0.15097475]\n",
      "current output [[0.68429013 0.72404748]]\n",
      "current state  [[0.92891339 1.02651049]] \n",
      "\n",
      "24\n",
      "loss :         [0.15097475]\n",
      "current output [[0.68429013 0.72404748]]\n",
      "current state  [[0.92891339 1.02651049]] \n",
      "\n",
      "25\n",
      "loss :         [0.15097475]\n",
      "current output [[0.68429013 0.72404748]]\n",
      "current state  [[0.92891339 1.02651049]] \n",
      "\n",
      "26\n",
      "loss :         [0.15097475]\n",
      "current output [[0.68429013 0.72404748]]\n",
      "current state  [[0.92891339 1.02651049]] \n",
      "\n",
      "27\n",
      "loss :         [0.15097475]\n",
      "current output [[0.68429013 0.72404748]]\n",
      "current state  [[0.92891339 1.02651049]] \n",
      "\n",
      "28\n",
      "loss :         [0.15097475]\n",
      "current output [[0.68429013 0.72404748]]\n",
      "current state  [[0.92891339 1.02651049]] \n",
      "\n",
      "29\n",
      "loss :         [0.15097475]\n",
      "current output [[0.68429013 0.72404748]]\n",
      "current state  [[0.92891339 1.02651049]] \n",
      "\n",
      "30\n",
      "loss :         [0.15097475]\n",
      "current output [[0.68429013 0.72404748]]\n",
      "current state  [[0.92891339 1.02651049]] \n",
      "\n"
     ]
    }
   ],
   "source": [
    "for i in range(1, 31, 1):\n",
    "    new_state, new_output = propagation(num_units, x, new_state, new_output)\n",
    "    loss = sess.run(tf.losses.mean_squared_error(labels=state_predict.mean(), predictions=new_state.mean()))\n",
    "    global losses\n",
    "    losses2.append(loss)\n",
    "    \n",
    "    print(i)\n",
    "    print(\"loss :        \", [loss])\n",
    "    print(\"current output\",new_output)\n",
    "    print(\"current state \", new_state, \"\\n\")"
   ]
  },
  {
   "cell_type": "code",
   "execution_count": 15,
   "metadata": {},
   "outputs": [
    {
     "data": {
      "text/plain": [
       "Text(0.5,0,'Step')"
      ]
     },
     "execution_count": 15,
     "metadata": {},
     "output_type": "execute_result"
    },
    {
     "data": {
      "image/png": "[encoded data removed]",
      "text/plain": [
       "<Figure size 576x288 with 1 Axes>"
      ]
     },
     "metadata": {
      "needs_background": "light"
     },
     "output_type": "display_data"
    }
   ],
   "source": [
    "plt.rcParams[\"figure.figsize\"] = (8, 4)\n",
    "plt.plot(losses2)\n",
    "plt.title('Loss2')\n",
    "plt.ylabel('Loss value')\n",
    "plt.xlabel('Step')"
   ]
  },
  {
   "cell_type": "markdown",
   "metadata": {},
   "source": [
    "###########################################"
   ]
  },
  {
   "cell_type": "markdown",
   "metadata": {},
   "source": [
    "#while_loop rnn"
   ]
  },
  {
   "cell_type": "code",
   "execution_count": 16,
   "metadata": {},
   "outputs": [],
   "source": [
    "x_2 = np.asarray([[1, 2]])\n",
    "c = 0.1 * np.asarray([[1, 1]])#gate 가중치 = 0.1\n",
    "h = 0.1 * np.asarray([[1, 1]])\n",
    "num = c.size\n",
    "def sigmoid_array(x):\n",
    "     return 1 / (1 + tf.exp(-x))\n",
    "    \n",
    "class lstmcell2:\n",
    "    def __init__(self, c_, h_):\n",
    "        global x_2\n",
    "        global num\n",
    "        self.x = x_2 #input\n",
    "        self.c = c_# 초기 state\n",
    "        self.h = h_# 초기 output\n",
    "        self.num = num#self.c.size\n",
    "\n",
    "    \n",
    "    def build(self):\n",
    "        num_units = self.num #hidden layer 갯수\n",
    "        args = tf.concat((self.x, self.h), axis=1)\n",
    "\n",
    "        out_size = 4 * num_units#n_gate = 4\n",
    "        proj_size = args.shape[-1]\n",
    "\n",
    "        weights = np.ones([proj_size, out_size]) * 0.5\n",
    "\n",
    "        out = tf.matmul(args, weights)\n",
    "\n",
    "        bias = np.ones([out_size]) * 0.5\n",
    "\n",
    "        concat = out + bias\n",
    "\n",
    "        i, j, f, o = tf.split(concat, 4, 1)\n",
    "\n",
    "        g = tf.tanh(j)#Cell 현재값\n",
    "        \n",
    "        forget_bias = 1.0\n",
    "\n",
    "        sigmoid_f = sigmoid_array(f + forget_bias)#forget gate\n",
    "\n",
    "        sigmoid_array(i) * g\n",
    "\n",
    "        new_c = c * sigmoid_f + sigmoid_array(i) * g\n",
    "\n",
    "        new_h = tf.tanh(new_c) * sigmoid_array(o)\n",
    "\n",
    "        new_c = tf.split(new_c, 1, 1)\n",
    "        new_h = tf.split(new_h, 1, 1)\n",
    "        \n",
    "        \n",
    "        return new_h + new_c"
   ]
  },
  {
   "cell_type": "code",
   "execution_count": 17,
   "metadata": {},
   "outputs": [],
   "source": [
    "def body(last_output, last_state, step):\n",
    "    \n",
    "    output = lstmcell2(last_output,last_state).build()[0]\n",
    "    state = lstmcell2(last_output,last_state).build()[1]\n",
    "    \n",
    "    return output, state, tf.add(step, 1)\n",
    "    \n",
    "\n",
    "timesteps = 100\n",
    "\n",
    "steps = lambda a, b, step: tf.less(step, timesteps)\n",
    "\n",
    "lstm_output, lstm_state, step = tf.while_loop(steps, body, (h, c, 0), parallel_iterations=20)"
   ]
  },
  {
   "cell_type": "code",
   "execution_count": 18,
   "metadata": {},
   "outputs": [],
   "source": [
    "sess = tf.Session()"
   ]
  },
  {
   "cell_type": "code",
   "execution_count": 19,
   "metadata": {},
   "outputs": [],
   "source": [
    "state_predict = sess.run(lstm_state)\n",
    "state_predict = state_predict.mean()"
   ]
  },
  {
   "cell_type": "code",
   "execution_count": 20,
   "metadata": {},
   "outputs": [],
   "source": [
    "states_costs = []\n",
    "error = []\n",
    "loss = []\n",
    "losses = []"
   ]
  },
  {
   "cell_type": "code",
   "execution_count": 21,
   "metadata": {},
   "outputs": [],
   "source": [
    "time = 10\n",
    "for i in range(time):\n",
    "    timesteps = i\n",
    "\n",
    "    steps = lambda a, b, step: tf.less(step, timesteps)\n",
    "\n",
    "    lstm_output, lstm_state, step = tf.while_loop(steps, body, (h, c, 0), parallel_iterations=20)\n",
    "    \n",
    "    states_costs.append(lstm_state)"
   ]
  },
  {
   "cell_type": "code",
   "execution_count": 22,
   "metadata": {},
   "outputs": [],
   "source": [
    "states_costs = sess.run(states_costs)"
   ]
  },
  {
   "cell_type": "code",
   "execution_count": 23,
   "metadata": {
    "scrolled": true
   },
   "outputs": [],
   "source": [
    "for j in range(time):\n",
    "    error.append(states_costs[j])\n",
    "    loss.append(error[j].mean())\n",
    "    losses.append(tf.losses.mean_squared_error(labels=state_predict, predictions=loss[j]))"
   ]
  },
  {
   "cell_type": "code",
   "execution_count": 24,
   "metadata": {},
   "outputs": [],
   "source": [
    "losses = sess.run(losses)"
   ]
  },
  {
   "cell_type": "code",
   "execution_count": 25,
   "metadata": {},
   "outputs": [
    {
     "data": {
      "text/plain": [
       "Text(0.5,0,'Step')"
      ]
     },
     "execution_count": 25,
     "metadata": {},
     "output_type": "execute_result"
    },
    {
     "data": {
      "image/png": "[encoded data removed]",
      "text/plain": [
       "<Figure size 576x288 with 1 Axes>"
      ]
     },
     "metadata": {
      "needs_background": "light"
     },
     "output_type": "display_data"
    }
   ],
   "source": [
    "plt.plot(losses)\n",
    "plt.title('while_loop Loss')\n",
    "plt.ylabel('Loss value')\n",
    "plt.xlabel('Step')"
   ]
  },
  {
   "cell_type": "code",
   "execution_count": null,
   "metadata": {},
   "outputs": [],
   "source": []
  }
 ],
 "metadata": {
  "kernelspec": {
   "display_name": "Python [conda env:tf1.8]",
   "language": "python",
   "name": "conda-env-tf1.8-py"
  },
  "language_info": {
   "codemirror_mode": {
    "name": "ipython",
    "version": 3
   },
   "file_extension": ".py",
   "mimetype": "text/x-python",
   "name": "python",
   "nbconvert_exporter": "python",
   "pygments_lexer": "ipython3",
   "version": "3.5.6"
  }
 },
 "nbformat": 4,
 "nbformat_minor": 2
}
