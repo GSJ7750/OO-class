{
 "cells": [
  {
   "cell_type": "code",
   "execution_count": 605,
   "metadata": {},
   "outputs": [],
   "source": [
    "\n",
    "c_ = 0.1 * tf.Variable(tf.truncated_normal([4,4], dtype=tf.float32))\n",
    "h_ = 0.1 * tf.Variable(tf.truncated_normal([4,4], dtype=tf.float32))"
   ]
  },
  {
   "cell_type": "code",
   "execution_count": 1,
   "metadata": {},
   "outputs": [
    {
     "ename": "NameError",
     "evalue": "name 'x' is not defined",
     "output_type": "error",
     "traceback": [
      "\u001b[1;31m---------------------------------------------------------------------------\u001b[0m",
      "\u001b[1;31mNameError\u001b[0m                                 Traceback (most recent call last)",
      "\u001b[1;32m<ipython-input-1-bb114bcb52e4>\u001b[0m in \u001b[0;36m<module>\u001b[1;34m()\u001b[0m\n\u001b[0;32m     21\u001b[0m \u001b[1;31m#lo\u001b[0m\u001b[1;33m\u001b[0m\u001b[1;33m\u001b[0m\u001b[0m\n\u001b[0;32m     22\u001b[0m \u001b[1;33m\u001b[0m\u001b[0m\n\u001b[1;32m---> 23\u001b[1;33m \u001b[0mseq_len\u001b[0m \u001b[1;33m=\u001b[0m \u001b[0mlen\u001b[0m\u001b[1;33m(\u001b[0m\u001b[0msess\u001b[0m\u001b[1;33m.\u001b[0m\u001b[0mrun\u001b[0m\u001b[1;33m(\u001b[0m\u001b[0mx\u001b[0m\u001b[1;33m)\u001b[0m\u001b[1;33m)\u001b[0m\u001b[1;31m#cell 갯수, 인풋이 몇 덩어리인지\u001b[0m\u001b[1;33m\u001b[0m\u001b[0m\n\u001b[0m\u001b[0;32m     24\u001b[0m \u001b[1;31m#num_units = len(sess.run(c_))# hiddenlayer 갯수, c값이 몇 덩어리인지\u001b[0m\u001b[1;33m\u001b[0m\u001b[1;33m\u001b[0m\u001b[0m\n\u001b[0;32m     25\u001b[0m \u001b[1;33m\u001b[0m\u001b[0m\n",
      "\u001b[1;31mNameError\u001b[0m: name 'x' is not defined"
     ]
    }
   ],
   "source": [
    "import numpy as np\n",
    "import tensorflow as tf\n",
    "sess = tf.Session()\n",
    "\n",
    "xdata = [[1,0,0,0],# 4*4  #h\n",
    "        [0,1,0,0], #e\n",
    "        [0,0,1,0], #l\n",
    "        [0,0,0,1]] #o\n",
    "\n",
    "ydata = [[0,1,0,0], # 5*4\n",
    "        [0,0,1,0],\n",
    "        [0,0,1,0],\n",
    "        [0,0,0,1]]\n",
    "c_ = 0.1 * tf.constant([[1,0,0,0], # 4*4\n",
    "                        [0,1,0,0],\n",
    "                        [0,0,1,0],\n",
    "                        [0,0,0,1]], dtype=tf.float32)\n",
    "\n",
    "h_ = 0.1 * tf.constant([[1,0,0,0], # 4*4\n",
    "                       [0,1,0,0],\n",
    "                       [0,0,1,0],\n",
    "                       [0,0,0,1]], dtype=tf.float32)\n",
    "c_ = 0.1 * tf.Variable(tf.truncated_normal([4,4], dtype=tf.float32))\n",
    "h_ = 0.1 * tf.Variable(tf.truncated_normal([4,4], dtype=tf.float32))\n",
    "\n",
    "#he\n",
    "#el\n",
    "#ll\n",
    "#lo\n",
    "\n",
    "seq_len = len(sess.run(x))#cell 갯수, 인풋이 몇 덩어리인지\n",
    "#num_units = len(sess.run(c_))# hiddenlayer 갯수, c값이 몇 덩어리인지\n",
    "\n",
    "#seq_len = len(sess.run(x))#cell 갯수, 인풋이 몇 덩어리인지\n",
    "#num_units = len(sess.run(c_))# hiddenlayer 갯수, c값이 몇 덩어리인지\n",
    "#x행 = h행\n",
    "#c행 = 노상관\n",
    "#h행 = c행\n",
    "##########달라도 되는건 x열뿐############\n",
    "class lstm:\n",
    "    def build(c, h):\n",
    "        args = tf.concat((x,h), axis=1)\n",
    "#        print(args)\n",
    "\n",
    "        out_size = 4 * num_units\n",
    "        proj_size = args.shape[-1]\n",
    "#        print(out_size)\n",
    "#        print(proj_size)\n",
    "\n",
    "        weights = tf.ones([proj_size, out_size]) * 0.5\n",
    "#        print(weights)\n",
    "\n",
    "\n",
    "        out = tf.matmul(args, weights)\n",
    "#        print(out)\n",
    "\n",
    "        bias = tf.ones([out_size]) * 0.5\n",
    "#        print(bias)\n",
    "\n",
    "        concat = out + bias\n",
    "#        print(concat)\n",
    "\n",
    "        i, j, f, o = tf.split(concat, 4, 1)\n",
    "#        print(i)\n",
    "#        print(j)\n",
    "#        print(f)\n",
    "#        print(o)\n",
    "\n",
    "        g = tf.tanh(j)\n",
    "#        print(g)\n",
    "\n",
    "        def sigmoid_array(x):\n",
    "            return 1 / (1 + tf.exp(-x))\n",
    "\n",
    "        forget_bias = 1.0\n",
    "\n",
    "        sigmoid_f = sigmoid_array(f + forget_bias)\n",
    "#        print(sigmoid_f)\n",
    "\n",
    "        sigmoid_array(i) * g\n",
    "\n",
    "        new_c = c * sigmoid_f + sigmoid_array(i) * g\n",
    "#        print(new_c)\n",
    "\n",
    "        new_h = tf.tanh(new_c) * sigmoid_array(o)\n",
    "#        print(new_h)\n",
    "\n",
    "#        print('\\n new_h:',new_h)\n",
    "#        print('\\n new_c',new_c)\n",
    "\n",
    "#        print(res[1].h)\n",
    "#        print(res[1].c)\n",
    "\n",
    "        return new_c, new_h"
   ]
  },
  {
   "cell_type": "code",
   "execution_count": null,
   "metadata": {},
   "outputs": [],
   "source": [
    "#ta = tf.TensorArray(size=1, dtype=tf.float32)\n",
    "ta_c = tf.TensorArray(size=seq_len, dtype=tf.float32)\n",
    "ta_h = tf.TensorArray(size=seq_len, dtype=tf.float32)"
   ]
  },
  {
   "cell_type": "code",
   "execution_count": null,
   "metadata": {},
   "outputs": [],
   "source": [
    "def body(last_state, last_output, step):\n",
    "    \n",
    "    output = lstm.build(last_state, last_output)[0]\n",
    "    state = lstm.build(last_state, last_output)[1]\n",
    "\n",
    "\n",
    "    return state, output, tf.add(step, 1)\n",
    "    \n",
    "\n",
    "timesteps = seq_len\n",
    "\n",
    "steps = lambda a, b, step: tf.less(step, timesteps)\n",
    "\n",
    "lstm_output, lstm_state, step = tf.while_loop(steps, body, (c_, h_, 0), parallel_iterations=20)\n"
   ]
  },
  {
   "cell_type": "markdown",
   "metadata": {},
   "source": [
    "def body(last_state, last_output, step, ta_c, ta_h):\n",
    "    \n",
    "    output = lstm.build(last_state, last_output)[0]\n",
    "    state = lstm.build(last_state, last_output)[1]\n",
    "    ta_c = ta_c.write(step, state)\n",
    "    ta_h = ta_h.write(step, output)\n",
    "    return state, output, tf.add(step, 1), ta_c, ta_h\n",
    "    \n",
    "\n",
    "timesteps = 100\n",
    "\n",
    "steps = lambda a, b, step, c, d: tf.less(step, timesteps)\n",
    "\n",
    "lstm_output, lstm_state, step, ta_c, ta_h = tf.while_loop(steps, body, (c_, h_, 0, ta_c, ta_h), parallel_iterations=20)\n"
   ]
  },
  {
   "cell_type": "code",
   "execution_count": null,
   "metadata": {},
   "outputs": [],
   "source": [
    "xdata = [[1,0,0,0],# 4*4  #h\n",
    "        [0,1,0,0], #e\n",
    "        [0,0,1,0], #l\n",
    "        [0,0,0,1]] #o\n",
    "\n",
    "ydata = [[0,1,0,0], # 5*4\n",
    "        [0,0,1,0],\n",
    "        [0,0,1,0],\n",
    "        [0,0,0,1]]\n",
    "\n",
    "X = tf.placeholder(dtype=tf.float32, shape=[None, 4])\n",
    "Y = tf.placeholder(dtype=tf.float32, shape=[None, 4])\n",
    "\n",
    "W = tf.Variable(tf.random_normal([4, 1]))\n",
    "b = tf.Variable(tf.random_normal([1]))\n",
    "\n",
    "logits = tf.matmul(sess.run(lstm_output), W) + b"
   ]
  },
  {
   "cell_type": "code",
   "execution_count": null,
   "metadata": {},
   "outputs": [],
   "source": [
    "cost = tf.reduce_mean(tf.nn.softmax_cross_entropy_with_logits_v2(logits=logits, labels=Y))\n",
    "train = tf.train.AdamOptimizer(1).minimize(cost)"
   ]
  },
  {
   "cell_type": "code",
   "execution_count": 643,
   "metadata": {},
   "outputs": [],
   "source": [
    "is_correct = tf.equal(tf.argmax(logits, 1), tf.argmax(Y, 1))\n",
    "accuracy = tf.reduce_mean(tf.cast(is_correct, tf.float32))"
   ]
  },
  {
   "cell_type": "code",
   "execution_count": 644,
   "metadata": {},
   "outputs": [],
   "source": [
    "sess.run(tf.global_variables_initializer())"
   ]
  },
  {
   "cell_type": "markdown",
   "metadata": {},
   "source": [
    "for i in range(3):\n",
    "    sess.run(tf.while_loop(steps, body, (c_, h_, 0, ta_c, ta_h), parallel_iterations=20), feed_dict={X:xdata, Y:ydata})\n",
    "    a,c  = sess.run([accuracy,cost],feed_dict={X:xdata, Y:ydata})\n",
    "    print(\"##########################\",a)\n",
    "    print(\"##########################\",c)"
   ]
  },
  {
   "cell_type": "code",
   "execution_count": 645,
   "metadata": {},
   "outputs": [
    {
     "name": "stdout",
     "output_type": "stream",
     "text": [
      "########################## 0.0\n",
      "########################## 1.3862944\n",
      "########################## 0.0\n",
      "########################## 1.3862944\n",
      "########################## 0.0\n",
      "########################## 1.3862944\n"
     ]
    }
   ],
   "source": [
    "for i in range(3):\n",
    "    sess.run(tf.while_loop(steps, body, (c_, h_, 0), parallel_iterations=20), feed_dict={X:xdata, Y:ydata})\n",
    "    a,c  = sess.run([accuracy,cost],feed_dict={X:xdata, Y:ydata})\n",
    "    print(\"##########################\",a)\n",
    "    print(\"##########################\",c)"
   ]
  },
  {
   "cell_type": "code",
   "execution_count": null,
   "metadata": {},
   "outputs": [],
   "source": [
    "sess.run(lstm_output[1])"
   ]
  },
  {
   "cell_type": "code",
   "execution_count": null,
   "metadata": {},
   "outputs": [],
   "source": [
    "sess.run(logits)"
   ]
  },
  {
   "cell_type": "code",
   "execution_count": null,
   "metadata": {},
   "outputs": [],
   "source": []
  },
  {
   "cell_type": "code",
   "execution_count": null,
   "metadata": {},
   "outputs": [],
   "source": []
  },
  {
   "cell_type": "code",
   "execution_count": null,
   "metadata": {},
   "outputs": [],
   "source": []
  }
 ],
 "metadata": {
  "kernelspec": {
   "display_name": "Python [conda env:tf1.8]",
   "language": "python",
   "name": "conda-env-tf1.8-py"
  }
 },
 "nbformat": 4,
 "nbformat_minor": 2
}
