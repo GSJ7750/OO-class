{
 "cells": [
  {
   "cell_type": "code",
   "execution_count": 22,
   "metadata": {},
   "outputs": [],
   "source": [
    "import numpy as np\n",
    "x = np.array([[2., 3., 1.]])\n",
    "c = 0.1 * np.asarray([[0, 1]])\n",
    "h = 0.1 * np.asarray([[2, 3]])"
   ]
  },
  {
   "cell_type": "code",
   "execution_count": 23,
   "metadata": {},
   "outputs": [],
   "source": [
    "import tensorflow as tf"
   ]
  },
  {
   "cell_type": "code",
   "execution_count": 24,
   "metadata": {},
   "outputs": [
    {
     "name": "stdout",
     "output_type": "stream",
     "text": [
      "[[2.  3.  1.  0.2 0.3]]\n"
     ]
    }
   ],
   "source": [
    "num_units = 2\n",
    "\n",
    "args = np.concatenate((x,h), axis=1)\n",
    "print(args)"
   ]
  },
  {
   "cell_type": "code",
   "execution_count": 25,
   "metadata": {},
   "outputs": [
    {
     "name": "stdout",
     "output_type": "stream",
     "text": [
      "8\n",
      "5\n"
     ]
    }
   ],
   "source": [
    "out_size = 4 * num_units\n",
    "proj_size = args.shape[-1]\n",
    "print(out_size)\n",
    "print(proj_size)"
   ]
  },
  {
   "cell_type": "code",
   "execution_count": 26,
   "metadata": {},
   "outputs": [
    {
     "name": "stdout",
     "output_type": "stream",
     "text": [
      "[[0.5 0.5 0.5 0.5 0.5 0.5 0.5 0.5]\n",
      " [0.5 0.5 0.5 0.5 0.5 0.5 0.5 0.5]\n",
      " [0.5 0.5 0.5 0.5 0.5 0.5 0.5 0.5]\n",
      " [0.5 0.5 0.5 0.5 0.5 0.5 0.5 0.5]\n",
      " [0.5 0.5 0.5 0.5 0.5 0.5 0.5 0.5]]\n"
     ]
    }
   ],
   "source": [
    "weights = np.ones([proj_size, out_size]) * 0.5\n",
    "print(weights)"
   ]
  },
  {
   "cell_type": "code",
   "execution_count": 27,
   "metadata": {},
   "outputs": [
    {
     "name": "stdout",
     "output_type": "stream",
     "text": [
      "[[3.25 3.25 3.25 3.25 3.25 3.25 3.25 3.25]]\n"
     ]
    }
   ],
   "source": [
    "out = np.matmul(args, weights)\n",
    "print(out)"
   ]
  },
  {
   "cell_type": "code",
   "execution_count": 28,
   "metadata": {},
   "outputs": [
    {
     "name": "stdout",
     "output_type": "stream",
     "text": [
      "[0.5 0.5 0.5 0.5 0.5 0.5 0.5 0.5]\n"
     ]
    }
   ],
   "source": [
    "bias = np.ones([out_size]) * 0.5\n",
    "print(bias)"
   ]
  },
  {
   "cell_type": "code",
   "execution_count": 29,
   "metadata": {},
   "outputs": [
    {
     "name": "stdout",
     "output_type": "stream",
     "text": [
      "[[3.75 3.75 3.75 3.75 3.75 3.75 3.75 3.75]]\n"
     ]
    }
   ],
   "source": [
    "concat = out + bias\n",
    "print(concat)"
   ]
  },
  {
   "cell_type": "code",
   "execution_count": 30,
   "metadata": {},
   "outputs": [
    {
     "name": "stdout",
     "output_type": "stream",
     "text": [
      "[[3.75 3.75]]\n",
      "[[3.75 3.75]]\n",
      "[[3.75 3.75]]\n",
      "[[3.75 3.75]]\n"
     ]
    }
   ],
   "source": [
    "i, j, f, o = np.split(concat, 4, 1)\n",
    "print(i)\n",
    "print(j)\n",
    "print(f)\n",
    "print(o)"
   ]
  },
  {
   "cell_type": "code",
   "execution_count": 31,
   "metadata": {},
   "outputs": [
    {
     "name": "stdout",
     "output_type": "stream",
     "text": [
      "[[0.99889444 0.99889444]]\n"
     ]
    }
   ],
   "source": [
    "g = np.tanh(j)\n",
    "print(g)"
   ]
  },
  {
   "cell_type": "code",
   "execution_count": 32,
   "metadata": {},
   "outputs": [],
   "source": [
    "def sigmoid_array(x):\n",
    "    return 1 / (1 + np.exp(-x))"
   ]
  },
  {
   "cell_type": "code",
   "execution_count": 33,
   "metadata": {},
   "outputs": [
    {
     "name": "stdout",
     "output_type": "stream",
     "text": [
      "[[0.99142251 0.99142251]]\n"
     ]
    }
   ],
   "source": [
    "forget_bias = 1.0\n",
    "\n",
    "sigmoid_f = sigmoid_array(f + forget_bias)\n",
    "print(sigmoid_f)"
   ]
  },
  {
   "cell_type": "code",
   "execution_count": 34,
   "metadata": {},
   "outputs": [
    {
     "name": "stdout",
     "output_type": "stream",
     "text": [
      "[[0.97594248 1.07508473]]\n"
     ]
    }
   ],
   "source": [
    "sigmoid_array(i) * g\n",
    "\n",
    "new_c = c * sigmoid_f + sigmoid_array(i) * g\n",
    "print(new_c)"
   ]
  },
  {
   "cell_type": "code",
   "execution_count": 35,
   "metadata": {},
   "outputs": [
    {
     "name": "stdout",
     "output_type": "stream",
     "text": [
      "[[0.73404107 0.77318564]]\n"
     ]
    }
   ],
   "source": [
    "new_h = np.tanh(new_c) * sigmoid_array(o)\n",
    "print(new_h)"
   ]
  },
  {
   "cell_type": "code",
   "execution_count": 36,
   "metadata": {},
   "outputs": [
    {
     "name": "stdout",
     "output_type": "stream",
     "text": [
      "[[0.73404107 0.77318564]]\n",
      "[[0.97594248 1.07508473]]\n"
     ]
    }
   ],
   "source": [
    "print(new_h)\n",
    "print(new_c)"
   ]
  },
  {
   "cell_type": "code",
   "execution_count": 21,
   "metadata": {},
   "outputs": [
    {
     "ename": "NameError",
     "evalue": "name 'max_time' is not defined",
     "output_type": "error",
     "traceback": [
      "\u001b[1;31m---------------------------------------------------------------------------\u001b[0m",
      "\u001b[1;31mNameError\u001b[0m                                 Traceback (most recent call last)",
      "\u001b[1;32m<ipython-input-21-1e57fdea891f>\u001b[0m in \u001b[0;36m<module>\u001b[1;34m()\u001b[0m\n\u001b[1;32m----> 1\u001b[1;33m inputs = tf.placeholder(shape=(max_time, batch_size, input_depth),\n\u001b[0m\u001b[0;32m      2\u001b[0m                         dtype=tf.float32)\n\u001b[0;32m      3\u001b[0m \u001b[0msequence_length\u001b[0m \u001b[1;33m=\u001b[0m \u001b[0mtf\u001b[0m\u001b[1;33m.\u001b[0m\u001b[0mplaceholder\u001b[0m\u001b[1;33m(\u001b[0m\u001b[0mshape\u001b[0m\u001b[1;33m=\u001b[0m\u001b[1;33m(\u001b[0m\u001b[0mbatch_size\u001b[0m\u001b[1;33m,\u001b[0m\u001b[1;33m)\u001b[0m\u001b[1;33m,\u001b[0m \u001b[0mdtype\u001b[0m\u001b[1;33m=\u001b[0m\u001b[0mtf\u001b[0m\u001b[1;33m.\u001b[0m\u001b[0mint32\u001b[0m\u001b[1;33m)\u001b[0m\u001b[1;33m\u001b[0m\u001b[0m\n\u001b[0;32m      4\u001b[0m \u001b[0minputs_ta\u001b[0m \u001b[1;33m=\u001b[0m \u001b[0mtf\u001b[0m\u001b[1;33m.\u001b[0m\u001b[0mTensorArray\u001b[0m\u001b[1;33m(\u001b[0m\u001b[0mdtype\u001b[0m\u001b[1;33m=\u001b[0m\u001b[0mtf\u001b[0m\u001b[1;33m.\u001b[0m\u001b[0mfloat32\u001b[0m\u001b[1;33m,\u001b[0m \u001b[0msize\u001b[0m\u001b[1;33m=\u001b[0m\u001b[0mmax_time\u001b[0m\u001b[1;33m)\u001b[0m\u001b[1;33m\u001b[0m\u001b[0m\n\u001b[0;32m      5\u001b[0m \u001b[0minputs_ta\u001b[0m \u001b[1;33m=\u001b[0m \u001b[0minputs_ta\u001b[0m\u001b[1;33m.\u001b[0m\u001b[0munstack\u001b[0m\u001b[1;33m(\u001b[0m\u001b[0minputs\u001b[0m\u001b[1;33m)\u001b[0m\u001b[1;33m\u001b[0m\u001b[0m\n",
      "\u001b[1;31mNameError\u001b[0m: name 'max_time' is not defined"
     ]
    }
   ],
   "source": [
    "inputs = tf.placeholder(shape=(max_time, batch_size, input_depth),\n",
    "                        dtype=tf.float32)\n",
    "sequence_length = tf.placeholder(shape=(batch_size,), dtype=tf.int32)\n",
    "inputs_ta = tf.TensorArray(dtype=tf.float32, size=max_time)\n",
    "inputs_ta = inputs_ta.unstack(inputs)\n",
    "\n",
    "cell = tf.contrib.rnn.LSTMCell(num_units)\n",
    "\n",
    "def loop_fn(time, cell_output, cell_state, loop_state):\n",
    "  emit_output = cell_output  # == None for time == 0\n",
    "  if cell_output is None:  # time == 0\n",
    "    next_cell_state = cell.zero_state(batch_size, tf.float32)\n",
    "  else:\n",
    "    next_cell_state = cell_state\n",
    "  elements_finished = (time >= sequence_length)\n",
    "  finished = tf.reduce_all(elements_finished)\n",
    "  next_input = tf.cond(\n",
    "      finished,\n",
    "      lambda: tf.zeros([batch_size, input_depth], dtype=tf.float32),\n",
    "      lambda: inputs_ta.read(time))\n",
    "  next_loop_state = None\n",
    "  return (elements_finished, next_input, next_cell_state,\n",
    "          emit_output, next_loop_state)\n",
    "\n",
    "outputs_ta, final_state, _ = raw_rnn(cell, loop_fn)\n",
    "outputs = outputs_ta.stack()"
   ]
  },
  {
   "cell_type": "code",
   "execution_count": null,
   "metadata": {},
   "outputs": [],
   "source": [
    "outputs, states = tf.nn.dynamic_rnn(cell, X, dtype=tf.float32)"
   ]
  },
  {
   "cell_type": "code",
   "execution_count": null,
   "metadata": {},
   "outputs": [],
   "source": []
  }
 ],
 "metadata": {
  "kernelspec": {
   "display_name": "Python [conda env:tf1.8]",
   "language": "python",
   "name": "conda-env-tf1.8-py"
  },
  "language_info": {
   "codemirror_mode": {
    "name": "ipython",
    "version": 3
   },
   "file_extension": ".py",
   "mimetype": "text/x-python",
   "name": "python",
   "nbconvert_exporter": "python",
   "pygments_lexer": "ipython3",
   "version": "3.5.6"
  }
 },
 "nbformat": 4,
 "nbformat_minor": 2
}
