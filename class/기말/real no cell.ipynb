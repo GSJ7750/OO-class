{
 "cells": [
  {
   "cell_type": "code",
   "execution_count": 11,
   "metadata": {},
   "outputs": [],
   "source": [
    "import numpy as np\n",
    "import tensorflow as tf\n",
    "sess = tf.Session()\n",
    "\n",
    "x = tf.constant([[1,1,1],#4*3\n",
    "                [1,1,1],\n",
    "                [1,1,1],\n",
    "                [1,1,1]], dtype=tf.float32)\n",
    "c_ = 0.1 * tf.constant([[1,0,0,0],#4*4\n",
    "                        [0,1,0,0],\n",
    "                        [0,0,1,0],\n",
    "                        [0,0,0,1]], dtype=tf.float32)\n",
    "h_ = 0.1 * tf.constant([[1,1,1,1],#4*4\n",
    "                       [1,1,1,1],\n",
    "                       [1,1,1,1],\n",
    "                       [1,1,1,1]], dtype=tf.float32)\n",
    "\n",
    "num_units = len(sess.run(c_))\n",
    "class lstm:\n",
    "    def build(c, h):\n",
    "        args = tf.concat((x,h), axis=1)\n",
    "        print(args)\n",
    "\n",
    "        out_size = 4 * num_units\n",
    "        proj_size = args.shape[-1]\n",
    "        print(out_size)\n",
    "        print(proj_size)\n",
    "\n",
    "        weights = tf.ones([proj_size, out_size]) * 0.5\n",
    "        print(weights)\n",
    "\n",
    "\n",
    "        out = tf.matmul(args, weights)\n",
    "        print(out)\n",
    "\n",
    "        bias = tf.ones([out_size]) * 0.5\n",
    "        print(bias)\n",
    "\n",
    "        concat = out + bias\n",
    "        print(concat)\n",
    "\n",
    "        i, j, f, o = tf.split(concat, 4, 1)\n",
    "        print(i)\n",
    "        print(j)\n",
    "        print(f)\n",
    "        print(o)\n",
    "\n",
    "        g = tf.tanh(j)\n",
    "        print(g)\n",
    "\n",
    "        def sigmoid_array(x):\n",
    "          return 1 / (1 + tf.exp(-x))\n",
    "\n",
    "        forget_bias = 1.0\n",
    "\n",
    "        sigmoid_f = sigmoid_array(f + forget_bias)\n",
    "        print(sigmoid_f)\n",
    "\n",
    "        sigmoid_array(i) * g\n",
    "\n",
    "        new_c = c * sigmoid_f + sigmoid_array(i) * g\n",
    "        print(new_c)\n",
    "\n",
    "        new_h = tf.tanh(new_c) * sigmoid_array(o)\n",
    "        print(new_h)\n",
    "\n",
    "        print('\\n new_h:',new_h)\n",
    "        print('\\n new_c',new_c)\n",
    "\n",
    "#        print(res[1].h)\n",
    "#        print(res[1].c)\n",
    "\n",
    "        return new_c, new_h"
   ]
  },
  {
   "cell_type": "code",
   "execution_count": 12,
   "metadata": {},
   "outputs": [],
   "source": [
    "#ta = tf.TensorArray(size=1, dtype=tf.float32)\n",
    "ta_c = tf.TensorArray(size=100, dtype=tf.float32)\n",
    "ta_h = tf.TensorArray(size=100, dtype=tf.float32)"
   ]
  },
  {
   "cell_type": "code",
   "execution_count": 13,
   "metadata": {},
   "outputs": [
    {
     "name": "stdout",
     "output_type": "stream",
     "text": [
      "Tensor(\"while_2/concat:0\", shape=(4, 7), dtype=float32)\n",
      "16\n",
      "7\n",
      "Tensor(\"while_2/mul:0\", shape=(7, 16), dtype=float32)\n",
      "Tensor(\"while_2/MatMul:0\", shape=(4, 16), dtype=float32)\n",
      "Tensor(\"while_2/mul_1:0\", shape=(16,), dtype=float32)\n",
      "Tensor(\"while_2/add:0\", shape=(4, 16), dtype=float32)\n",
      "Tensor(\"while_2/split:0\", shape=(4, 4), dtype=float32)\n",
      "Tensor(\"while_2/split:1\", shape=(4, 4), dtype=float32)\n",
      "Tensor(\"while_2/split:2\", shape=(4, 4), dtype=float32)\n",
      "Tensor(\"while_2/split:3\", shape=(4, 4), dtype=float32)\n",
      "Tensor(\"while_2/Tanh:0\", shape=(4, 4), dtype=float32)\n",
      "Tensor(\"while_2/truediv:0\", shape=(4, 4), dtype=float32)\n",
      "Tensor(\"while_2/add_5:0\", shape=(4, 4), dtype=float32)\n",
      "Tensor(\"while_2/mul_5:0\", shape=(4, 4), dtype=float32)\n",
      "\n",
      " new_h: Tensor(\"while_2/mul_5:0\", shape=(4, 4), dtype=float32)\n",
      "\n",
      " new_c Tensor(\"while_2/add_5:0\", shape=(4, 4), dtype=float32)\n",
      "Tensor(\"while_2/concat_1:0\", shape=(4, 7), dtype=float32)\n",
      "16\n",
      "7\n",
      "Tensor(\"while_2/mul_6:0\", shape=(7, 16), dtype=float32)\n",
      "Tensor(\"while_2/MatMul_1:0\", shape=(4, 16), dtype=float32)\n",
      "Tensor(\"while_2/mul_7:0\", shape=(16,), dtype=float32)\n",
      "Tensor(\"while_2/add_7:0\", shape=(4, 16), dtype=float32)\n",
      "Tensor(\"while_2/split_1:0\", shape=(4, 4), dtype=float32)\n",
      "Tensor(\"while_2/split_1:1\", shape=(4, 4), dtype=float32)\n",
      "Tensor(\"while_2/split_1:2\", shape=(4, 4), dtype=float32)\n",
      "Tensor(\"while_2/split_1:3\", shape=(4, 4), dtype=float32)\n",
      "Tensor(\"while_2/Tanh_2:0\", shape=(4, 4), dtype=float32)\n",
      "Tensor(\"while_2/truediv_4:0\", shape=(4, 4), dtype=float32)\n",
      "Tensor(\"while_2/add_12:0\", shape=(4, 4), dtype=float32)\n",
      "Tensor(\"while_2/mul_11:0\", shape=(4, 4), dtype=float32)\n",
      "\n",
      " new_h: Tensor(\"while_2/mul_11:0\", shape=(4, 4), dtype=float32)\n",
      "\n",
      " new_c Tensor(\"while_2/add_12:0\", shape=(4, 4), dtype=float32)\n"
     ]
    }
   ],
   "source": [
    "def body(last_state, last_output, step, ta_c, ta_h):\n",
    "    \n",
    "    output = lstm.build(last_state, last_output)[0]\n",
    "    state = lstm.build(last_state, last_output)[1]\n",
    "    ta_c = ta_c.write(step, state)\n",
    "    ta_h = ta_h.write(step, output)\n",
    "    return state, output, tf.add(step, 1), ta_c, ta_h\n",
    "    \n",
    "\n",
    "timesteps = 100\n",
    "\n",
    "steps = lambda a, b, step, c, d: tf.less(step, timesteps)\n",
    "\n",
    "lstm_output, lstm_state, step, ta_c, ta_h = tf.while_loop(steps, body, (c_, h_, 0, ta_c, ta_h), parallel_iterations=20)\n"
   ]
  },
  {
   "cell_type": "code",
   "execution_count": 14,
   "metadata": {},
   "outputs": [
    {
     "name": "stdout",
     "output_type": "stream",
     "text": [
      "[[0.95805687 0.95805687 0.95805687 0.95805687]\n",
      " [0.95805687 0.95805687 0.95805687 0.95805687]\n",
      " [0.95805687 0.95805687 0.95805687 0.95805687]\n",
      " [0.95805687 0.95805687 0.95805687 0.95805687]]\n"
     ]
    }
   ],
   "source": [
    "print(sess.run(ta_c.read(99)))"
   ]
  },
  {
   "cell_type": "code",
   "execution_count": 15,
   "metadata": {},
   "outputs": [
    {
     "name": "stdout",
     "output_type": "stream",
     "text": [
      "[[1.9543779 1.9543779 1.9543779 1.9543779]\n",
      " [1.9543779 1.9543779 1.9543779 1.9543779]\n",
      " [1.9543779 1.9543779 1.9543779 1.9543779]\n",
      " [1.9543779 1.9543779 1.9543779 1.9543779]]\n"
     ]
    }
   ],
   "source": [
    "print(sess.run(ta_h.read(95)))"
   ]
  },
  {
   "cell_type": "code",
   "execution_count": 16,
   "metadata": {},
   "outputs": [
    {
     "name": "stdout",
     "output_type": "stream",
     "text": [
      "[[1.9543779 1.9543779 1.9543779 1.9543779]\n",
      " [1.9543779 1.9543779 1.9543779 1.9543779]\n",
      " [1.9543779 1.9543779 1.9543779 1.9543779]\n",
      " [1.9543779 1.9543779 1.9543779 1.9543779]]\n"
     ]
    }
   ],
   "source": [
    "print(sess.run(ta_h.read(99)))"
   ]
  },
  {
   "cell_type": "code",
   "execution_count": null,
   "metadata": {},
   "outputs": [],
   "source": []
  }
 ],
 "metadata": {
  "kernelspec": {
   "display_name": "Python [conda env:tf1.8]",
   "language": "python",
   "name": "conda-env-tf1.8-py"
  },
  "language_info": {
   "codemirror_mode": {
    "name": "ipython",
    "version": 3
   },
   "file_extension": ".py",
   "mimetype": "text/x-python",
   "name": "python",
   "nbconvert_exporter": "python",
   "pygments_lexer": "ipython3",
   "version": "3.5.6"
  }
 },
 "nbformat": 4,
 "nbformat_minor": 2
}
