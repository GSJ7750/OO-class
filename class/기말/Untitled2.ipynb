{
 "cells": [
  {
   "cell_type": "code",
   "execution_count": 1,
   "metadata": {},
   "outputs": [],
   "source": [
    "import tensorflow as tf"
   ]
  },
  {
   "cell_type": "code",
   "execution_count": 2,
   "metadata": {},
   "outputs": [],
   "source": [
    "def initialize_LSTMcell(vocabulary_size, num_nodes, initializer):\n",
    "    '''initialize LSTMcell weights and biases, set variables to reuse mode'''\n",
    "    gates = ['input_gate', 'forget_gate', 'memory_cell', 'output_gate']\n",
    "    with tf.variable_scope('LSTMcell') as scope:\n",
    "        for gate in (gates):\n",
    "            with tf.variable_scope(gate) as gate_scope:\n",
    "                wx = tf.get_variable(\"wx\", [vocabulary_size, num_nodes], initializer)\n",
    "                wt = tf.get_variable(\"wt\", [num_nodes, num_nodes], initializer)\n",
    "                bi = tf.get_variable(\"bi\", [1, num_nodes, tf.constant_initializer(0.0)])\n",
    "                gate_scope.reuse_variables() #this line can probably be omitted, b.z. by setting 'LSTMcell' scope variables to 'reuse' as the next line, it'll turn on the reuse mode for all its child scope variables\n",
    "        scope.reuse_variables()\n",
    "\n",
    "def get_scope_variables(scope_name, variable_names):\n",
    "    '''a helper function to fetch variable based on scope_name and variable_name'''\n",
    "    vars = {}\n",
    "    with tf.variable_scope(scope_name, reuse=True):\n",
    "        for var_name in (variable_names):\n",
    "            var = tf.get_variable(var_name)\n",
    "            vars[var_name] = var\n",
    "    return vars\n",
    "\n",
    "def LSTMcell(i, o, state):\n",
    "    '''a function for performing LSTMcell computation'''\n",
    "    gates = ['input_gate', 'forget_gate', 'memory_cell', 'output_gate']\n",
    "    var_names = ['wx', 'wt', 'bi']\n",
    "    gate_comp = {}\n",
    "    with tf.variable_scope('LSTMcell', reuse=True):\n",
    "        for gate in (gates):\n",
    "            vars = get_scope_variables(gate, var_names)\n",
    "            gate_comp[gate] = tf.matmul(i, vars['wx']) + tf.matmul(o, vars['wt']) + vars['bi']\n",
    "    state = tf.sigmoid(gate_comp['forget_gate']) * state + tf.sigmoid(gate_comp['input_gate']) * tf.tanh(gate_comp['memory_cell'])\n",
    "    output = tf.sigmoid(gate_comp['output_gate']) * tf.tanh(state)\n",
    "    return output, state"
   ]
  },
  {
   "cell_type": "code",
   "execution_count": 14,
   "metadata": {},
   "outputs": [
    {
     "ename": "SyntaxError",
     "evalue": "positional argument follows keyword argument (<ipython-input-14-36f1a8e5641c>, line 1)",
     "output_type": "error",
     "traceback": [
      "\u001b[1;36m  File \u001b[1;32m\"<ipython-input-14-36f1a8e5641c>\"\u001b[1;36m, line \u001b[1;32m1\u001b[0m\n\u001b[1;33m    initialize_LSTMcell(volcabulary_size=5, num_nodes=100, tf.truncated_normal_initializer(mean=-0.1, stddev=.01))\u001b[0m\n\u001b[1;37m                                                          ^\u001b[0m\n\u001b[1;31mSyntaxError\u001b[0m\u001b[1;31m:\u001b[0m positional argument follows keyword argument\n"
     ]
    }
   ],
   "source": [
    "initialize_LSTMcell(volcabulary_size=5, num_nodes=100, tf.truncated_normal_initializer(mean=-0.1, stddev=.01))"
   ]
  },
  {
   "cell_type": "code",
   "execution_count": 7,
   "metadata": {},
   "outputs": [
    {
     "ename": "NameError",
     "evalue": "name 'input_tensor' is not defined",
     "output_type": "error",
     "traceback": [
      "\u001b[1;31m---------------------------------------------------------------------------\u001b[0m",
      "\u001b[1;31mNameError\u001b[0m                                 Traceback (most recent call last)",
      "\u001b[1;32m<ipython-input-7-cd7263b3db2d>\u001b[0m in \u001b[0;36m<module>\u001b[1;34m()\u001b[0m\n\u001b[1;32m----> 1\u001b[1;33m \u001b[0mLSTMcell\u001b[0m\u001b[1;33m(\u001b[0m\u001b[0minput_tensor\u001b[0m\u001b[1;33m,\u001b[0m \u001b[0moutput_tensor\u001b[0m\u001b[1;33m,\u001b[0m \u001b[0mstate\u001b[0m\u001b[1;33m)\u001b[0m\u001b[1;33m\u001b[0m\u001b[0m\n\u001b[0m",
      "\u001b[1;31mNameError\u001b[0m: name 'input_tensor' is not defined"
     ]
    }
   ],
   "source": [
    "LSTMcell(input_tensor, output_tensor, state)"
   ]
  }
 ],
 "metadata": {
  "kernelspec": {
   "display_name": "Python [conda env:tf1.8]",
   "language": "python",
   "name": "conda-env-tf1.8-py"
  },
  "language_info": {
   "codemirror_mode": {
    "name": "ipython",
    "version": 3
   },
   "file_extension": ".py",
   "mimetype": "text/x-python",
   "name": "python",
   "nbconvert_exporter": "python",
   "pygments_lexer": "ipython3",
   "version": "3.5.6"
  }
 },
 "nbformat": 4,
 "nbformat_minor": 2
}
