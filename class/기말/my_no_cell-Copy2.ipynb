{
 "cells": [
  {
   "cell_type": "code",
   "execution_count": 71,
   "metadata": {},
   "outputs": [],
   "source": [
    "import numpy as np\n",
    "import tensorflow as tf\n",
    "import matplotlib.pyplot as plt\n",
    "#%matplotlib notebook\n",
    "\n",
    "x = np.array([[1, 2, 3]])\n",
    "c = 0.1 * np.asarray([[0, 1], [1, 0]])#gate 가중치 = 0.1\n",
    "h = 0.1 * np.asarray([[0, 1]])"
   ]
  },
  {
   "cell_type": "code",
   "execution_count": 72,
   "metadata": {},
   "outputs": [
    {
     "data": {
      "text/plain": [
       "(1, 3)"
      ]
     },
     "execution_count": 72,
     "metadata": {},
     "output_type": "execute_result"
    }
   ],
   "source": [
    "x.shape"
   ]
  },
  {
   "cell_type": "code",
   "execution_count": 73,
   "metadata": {},
   "outputs": [
    {
     "data": {
      "text/plain": [
       "(2, 2)"
      ]
     },
     "execution_count": 73,
     "metadata": {},
     "output_type": "execute_result"
    }
   ],
   "source": [
    "c.shape"
   ]
  },
  {
   "cell_type": "code",
   "execution_count": 74,
   "metadata": {},
   "outputs": [
    {
     "data": {
      "text/plain": [
       "(1, 2)"
      ]
     },
     "execution_count": 74,
     "metadata": {},
     "output_type": "execute_result"
    }
   ],
   "source": [
    "h.shape"
   ]
  },
  {
   "cell_type": "code",
   "execution_count": 75,
   "metadata": {},
   "outputs": [
    {
     "data": {
      "text/plain": [
       "4"
      ]
     },
     "execution_count": 75,
     "metadata": {},
     "output_type": "execute_result"
    }
   ],
   "source": [
    "c.size # num units"
   ]
  },
  {
   "cell_type": "code",
   "execution_count": 81,
   "metadata": {},
   "outputs": [],
   "source": [
    "def sigmoid_array(x):\n",
    "     return 1 / (1 + np.exp(-x))\n",
    "    \n",
    "class lstmcell:\n",
    "    def __init__(self, num, x_, c_, h_):\n",
    "        self.x = x_ #input\n",
    "        self.c = c_# 초기 state\n",
    "        self.h = h_# 초기 output\n",
    "        self.num = 2\n",
    "\n",
    "    \n",
    "    def build(self):\n",
    "        num_units = self.num #hidden layer 갯수\n",
    "\n",
    "        args = np.concatenate((self.x, self.h), axis=1)\n",
    "\n",
    "        out_size = 4 * num_units#n_gate = 4\n",
    "        proj_size = args.shape[-1]\n",
    "\n",
    "        weights = np.ones([proj_size, out_size]) * 0.5\n",
    "\n",
    "        out = np.matmul(args, weights)\n",
    "\n",
    "        bias = np.ones([out_size]) * 0.5\n",
    "\n",
    "        concat = out + bias\n",
    "\n",
    "        i, j, f, o = np.split(concat, 4, 1)\n",
    "\n",
    "        g = np.tanh(j)#Cell 현재값\n",
    "        \n",
    "        forget_bias = 1.0\n",
    "\n",
    "        sigmoid_f = sigmoid_array(f + forget_bias)#forget gate\n",
    "\n",
    "        sigmoid_array(i) * g\n",
    "\n",
    "        new_c = c * sigmoid_f + sigmoid_array(i) * g\n",
    "\n",
    "        new_h = np.tanh(new_c) * sigmoid_array(o)\n",
    "\n",
    "        new_c = np.split(new_c, 1, 1)\n",
    "        new_h = np.split(new_h, 1, 1)\n",
    "\n",
    "        return new_h, new_c"
   ]
  },
  {
   "cell_type": "code",
   "execution_count": 82,
   "metadata": {},
   "outputs": [],
   "source": [
    "num_units = c.size"
   ]
  },
  {
   "cell_type": "code",
   "execution_count": 83,
   "metadata": {},
   "outputs": [],
   "source": [
    "def propagation(num_units, data, new_state, new_output):\n",
    "    cell = lstmcell(num_units, x, new_state, new_output)\n",
    "    output, state = cell.build()\n",
    "    new_output = np.asarray(output)\n",
    "    new_state = np.asarray(state)\n",
    "    new_output = new_output.reshape(1, num_units)\n",
    "    new_state = new_state.reshape(1, num_units)\n",
    "    return new_state, new_output"
   ]
  },
  {
   "cell_type": "markdown",
   "metadata": {},
   "source": [
    "#Prediction part"
   ]
  },
  {
   "cell_type": "markdown",
   "metadata": {},
   "source": [
    "#Recurrent model with numpy"
   ]
  },
  {
   "cell_type": "code",
   "execution_count": 84,
   "metadata": {},
   "outputs": [],
   "source": [
    "new_state, new_output = c, h\n",
    "error = np.array([0, 0])\n",
    "state_predict = np.array([0.88490995, 1.84762319])\n",
    "losses1 = []"
   ]
  },
  {
   "cell_type": "code",
   "execution_count": 85,
   "metadata": {},
   "outputs": [
    {
     "name": "stdout",
     "output_type": "stream",
     "text": [
      "1\n",
      "loss :         [0.8263827034089533]\n",
      "current output [[0.72800121 0.7672082  0.7672082  0.72800121]]\n",
      "current state  [[0.97047462 1.06942895 1.06942895 0.97047462]] \n",
      "\n",
      "2\n",
      "loss :         [0.38935514171347485]\n",
      "current output [[0.75361459 0.79258112 0.79258112 0.75361459]]\n",
      "current state  [[0.99318417 1.09293573 1.09293573 0.99318417]] \n",
      "\n",
      "3\n",
      "loss :         [0.2593286902171008]\n",
      "current output [[0.75401031 0.79297363 0.79297363 0.75401031]]\n",
      "current state  [[0.99352511 1.09328899 1.09328899 0.99352511]] \n",
      "\n",
      "4\n",
      "loss :         [0.19449379091509267]\n",
      "current output [[0.75401627 0.79297954 0.79297954 0.75401627]]\n",
      "current state  [[0.99353025 1.09329431 1.09329431 0.99353025]] \n",
      "\n",
      "5\n",
      "loss :         [0.1555949998829392]\n",
      "current output [[0.75401636 0.79297963 0.79297963 0.75401636]]\n",
      "current state  [[0.99353032 1.09329439 1.09329439 0.99353032]] \n",
      "\n",
      "6\n",
      "loss :         [0.12966249949022748]\n",
      "current output [[0.75401636 0.79297963 0.79297963 0.75401636]]\n",
      "current state  [[0.99353032 1.09329439 1.09329439 0.99353032]] \n",
      "\n",
      "7\n",
      "loss :         [0.11113928527201722]\n",
      "current output [[0.75401636 0.79297963 0.79297963 0.75401636]]\n",
      "current state  [[0.99353032 1.09329439 1.09329439 0.99353032]] \n",
      "\n",
      "8\n",
      "loss :         [0.0972468746129449]\n",
      "current output [[0.75401636 0.79297963 0.79297963 0.75401636]]\n",
      "current state  [[0.99353032 1.09329439 1.09329439 0.99353032]] \n",
      "\n",
      "9\n",
      "loss :         [0.08644166632261678]\n",
      "current output [[0.75401636 0.79297963 0.79297963 0.75401636]]\n",
      "current state  [[0.99353032 1.09329439 1.09329439 0.99353032]] \n",
      "\n",
      "10\n",
      "loss :         [0.0777974996903551]\n",
      "current output [[0.75401636 0.79297963 0.79297963 0.75401636]]\n",
      "current state  [[0.99353032 1.09329439 1.09329439 0.99353032]] \n",
      "\n",
      "11\n",
      "loss :         [0.07072499971850464]\n",
      "current output [[0.75401636 0.79297963 0.79297963 0.75401636]]\n",
      "current state  [[0.99353032 1.09329439 1.09329439 0.99353032]] \n",
      "\n",
      "12\n",
      "loss :         [0.06483124974196258]\n",
      "current output [[0.75401636 0.79297963 0.79297963 0.75401636]]\n",
      "current state  [[0.99353032 1.09329439 1.09329439 0.99353032]] \n",
      "\n",
      "13\n",
      "loss :         [0.05984423053104238]\n",
      "current output [[0.75401636 0.79297963 0.79297963 0.75401636]]\n",
      "current state  [[0.99353032 1.09329439 1.09329439 0.99353032]] \n",
      "\n",
      "14\n",
      "loss :         [0.05556964263596793]\n",
      "current output [[0.75401636 0.79297963 0.79297963 0.75401636]]\n",
      "current state  [[0.99353032 1.09329439 1.09329439 0.99353032]] \n",
      "\n",
      "15\n",
      "loss :         [0.051864999793570066]\n",
      "current output [[0.75401636 0.79297963 0.79297963 0.75401636]]\n",
      "current state  [[0.99353032 1.09329439 1.09329439 0.99353032]] \n",
      "\n",
      "16\n",
      "loss :         [0.04862343730647194]\n",
      "current output [[0.75401636 0.79297963 0.79297963 0.75401636]]\n",
      "current state  [[0.99353032 1.09329439 1.09329439 0.99353032]] \n",
      "\n",
      "17\n",
      "loss :         [0.04576323511197359]\n",
      "current output [[0.75401636 0.79297963 0.79297963 0.75401636]]\n",
      "current state  [[0.99353032 1.09329439 1.09329439 0.99353032]] \n",
      "\n",
      "18\n",
      "loss :         [0.04322083316130839]\n",
      "current output [[0.75401636 0.79297963 0.79297963 0.75401636]]\n",
      "current state  [[0.99353032 1.09329439 1.09329439 0.99353032]] \n",
      "\n",
      "19\n",
      "loss :         [0.04094605246860795]\n",
      "current output [[0.75401636 0.79297963 0.79297963 0.75401636]]\n",
      "current state  [[0.99353032 1.09329439 1.09329439 0.99353032]] \n",
      "\n",
      "20\n",
      "loss :         [0.03889874984517755]\n",
      "current output [[0.75401636 0.79297963 0.79297963 0.75401636]]\n",
      "current state  [[0.99353032 1.09329439 1.09329439 0.99353032]] \n",
      "\n",
      "21\n",
      "loss :         [0.037046428423978615]\n",
      "current output [[0.75401636 0.79297963 0.79297963 0.75401636]]\n",
      "current state  [[0.99353032 1.09329439 1.09329439 0.99353032]] \n",
      "\n",
      "22\n",
      "loss :         [0.03536249985925232]\n",
      "current output [[0.75401636 0.79297963 0.79297963 0.75401636]]\n",
      "current state  [[0.99353032 1.09329439 1.09329439 0.99353032]] \n",
      "\n",
      "23\n",
      "loss :         [0.03382499986537178]\n",
      "current output [[0.75401636 0.79297963 0.79297963 0.75401636]]\n",
      "current state  [[0.99353032 1.09329439 1.09329439 0.99353032]] \n",
      "\n",
      "24\n",
      "loss :         [0.03241562487098129]\n",
      "current output [[0.75401636 0.79297963 0.79297963 0.75401636]]\n",
      "current state  [[0.99353032 1.09329439 1.09329439 0.99353032]] \n",
      "\n",
      "25\n",
      "loss :         [0.03111899987614204]\n",
      "current output [[0.75401636 0.79297963 0.79297963 0.75401636]]\n",
      "current state  [[0.99353032 1.09329439 1.09329439 0.99353032]] \n",
      "\n",
      "26\n",
      "loss :         [0.02992211526552119]\n",
      "current output [[0.75401636 0.79297963 0.79297963 0.75401636]]\n",
      "current state  [[0.99353032 1.09329439 1.09329439 0.99353032]] \n",
      "\n",
      "27\n",
      "loss :         [0.02881388877420559]\n",
      "current output [[0.75401636 0.79297963 0.79297963 0.75401636]]\n",
      "current state  [[0.99353032 1.09329439 1.09329439 0.99353032]] \n",
      "\n",
      "28\n",
      "loss :         [0.027784821317983963]\n",
      "current output [[0.75401636 0.79297963 0.79297963 0.75401636]]\n",
      "current state  [[0.99353032 1.09329439 1.09329439 0.99353032]] \n",
      "\n",
      "29\n",
      "loss :         [0.02682672403115693]\n",
      "current output [[0.75401636 0.79297963 0.79297963 0.75401636]]\n",
      "current state  [[0.99353032 1.09329439 1.09329439 0.99353032]] \n",
      "\n",
      "30\n",
      "loss :         [0.025932499896785033]\n",
      "current output [[0.75401636 0.79297963 0.79297963 0.75401636]]\n",
      "current state  [[0.99353032 1.09329439 1.09329439 0.99353032]] \n",
      "\n"
     ]
    }
   ],
   "source": [
    "for i in range(1, 31, 1):\n",
    "    new_state, new_output = propagation(num_units, x, new_state, new_output)\n",
    "    global states\n",
    "    error = (state_predict.mean()**2 - new_state.mean()**2)\n",
    "    loss = error/i\n",
    "    losses1.append(loss)\n",
    "    \n",
    "    print(i)\n",
    "    print(\"loss :        \", [loss.mean()])\n",
    "    print(\"current output\",new_output)\n",
    "    print(\"current state \", new_state, \"\\n\")"
   ]
  },
  {
   "cell_type": "code",
   "execution_count": 86,
   "metadata": {},
   "outputs": [
    {
     "data": {
      "text/plain": [
       "Text(0.5,0,'Step')"
      ]
     },
     "execution_count": 86,
     "metadata": {},
     "output_type": "execute_result"
    },
    {
     "data": {
      "image/png": "[encoded data removed]",
      "text/plain": [
       "<Figure size 576x288 with 1 Axes>"
      ]
     },
     "metadata": {
      "needs_background": "light"
     },
     "output_type": "display_data"
    }
   ],
   "source": [
    "plt.rcParams[\"figure.figsize\"] = (8, 4)\n",
    "plt.plot(losses1)\n",
    "plt.title('Loss1')\n",
    "plt.ylabel('Loss value')\n",
    "plt.xlabel('Step')"
   ]
  },
  {
   "cell_type": "markdown",
   "metadata": {},
   "source": [
    "########################################"
   ]
  },
  {
   "cell_type": "markdown",
   "metadata": {},
   "source": [
    "#Recurrent model with tensorflow squared_error loss"
   ]
  },
  {
   "cell_type": "code",
   "execution_count": 17,
   "metadata": {},
   "outputs": [],
   "source": [
    "sess = tf.Session()"
   ]
  },
  {
   "cell_type": "code",
   "execution_count": 18,
   "metadata": {},
   "outputs": [],
   "source": [
    "new_state, new_output = c, h\n",
    "error = np.array([0, 0])\n",
    "state_predict = np.array([0.88490995, 1.84762319])\n",
    "losses2 = []"
   ]
  },
  {
   "cell_type": "code",
   "execution_count": 19,
   "metadata": {},
   "outputs": [
    {
     "ename": "ValueError",
     "evalue": "operands could not be broadcast together with shapes (2,2) (1,4) ",
     "output_type": "error",
     "traceback": [
      "\u001b[1;31m---------------------------------------------------------------------------\u001b[0m",
      "\u001b[1;31mValueError\u001b[0m                                Traceback (most recent call last)",
      "\u001b[1;32m<ipython-input-19-d7d06127f3f6>\u001b[0m in \u001b[0;36m<module>\u001b[1;34m()\u001b[0m\n\u001b[0;32m      1\u001b[0m \u001b[1;32mfor\u001b[0m \u001b[0mi\u001b[0m \u001b[1;32min\u001b[0m \u001b[0mrange\u001b[0m\u001b[1;33m(\u001b[0m\u001b[1;36m1\u001b[0m\u001b[1;33m,\u001b[0m \u001b[1;36m31\u001b[0m\u001b[1;33m,\u001b[0m \u001b[1;36m1\u001b[0m\u001b[1;33m)\u001b[0m\u001b[1;33m:\u001b[0m\u001b[1;33m\u001b[0m\u001b[0m\n\u001b[1;32m----> 2\u001b[1;33m     \u001b[0mnew_state\u001b[0m\u001b[1;33m,\u001b[0m \u001b[0mnew_output\u001b[0m \u001b[1;33m=\u001b[0m \u001b[0mpropagation\u001b[0m\u001b[1;33m(\u001b[0m\u001b[0mnum_units\u001b[0m\u001b[1;33m,\u001b[0m \u001b[0mx\u001b[0m\u001b[1;33m,\u001b[0m \u001b[0mnew_state\u001b[0m\u001b[1;33m,\u001b[0m \u001b[0mnew_output\u001b[0m\u001b[1;33m)\u001b[0m\u001b[1;33m\u001b[0m\u001b[0m\n\u001b[0m\u001b[0;32m      3\u001b[0m     \u001b[0mloss\u001b[0m \u001b[1;33m=\u001b[0m \u001b[0msess\u001b[0m\u001b[1;33m.\u001b[0m\u001b[0mrun\u001b[0m\u001b[1;33m(\u001b[0m\u001b[0mtf\u001b[0m\u001b[1;33m.\u001b[0m\u001b[0mlosses\u001b[0m\u001b[1;33m.\u001b[0m\u001b[0mmean_squared_error\u001b[0m\u001b[1;33m(\u001b[0m\u001b[0mlabels\u001b[0m\u001b[1;33m=\u001b[0m\u001b[0mstate_predict\u001b[0m\u001b[1;33m.\u001b[0m\u001b[0mmean\u001b[0m\u001b[1;33m(\u001b[0m\u001b[1;33m)\u001b[0m\u001b[1;33m,\u001b[0m \u001b[0mpredictions\u001b[0m\u001b[1;33m=\u001b[0m\u001b[0mnew_state\u001b[0m\u001b[1;33m.\u001b[0m\u001b[0mmean\u001b[0m\u001b[1;33m(\u001b[0m\u001b[1;33m)\u001b[0m\u001b[1;33m)\u001b[0m\u001b[1;33m)\u001b[0m\u001b[1;33m\u001b[0m\u001b[0m\n\u001b[0;32m      4\u001b[0m     \u001b[1;32mglobal\u001b[0m \u001b[0mlosses\u001b[0m\u001b[1;33m\u001b[0m\u001b[0m\n\u001b[0;32m      5\u001b[0m     \u001b[0mlosses2\u001b[0m\u001b[1;33m.\u001b[0m\u001b[0mappend\u001b[0m\u001b[1;33m(\u001b[0m\u001b[0mloss\u001b[0m\u001b[1;33m)\u001b[0m\u001b[1;33m\u001b[0m\u001b[0m\n",
      "\u001b[1;32m<ipython-input-13-b910981885bf>\u001b[0m in \u001b[0;36mpropagation\u001b[1;34m(num_units, data, new_state, new_output)\u001b[0m\n\u001b[0;32m      1\u001b[0m \u001b[1;32mdef\u001b[0m \u001b[0mpropagation\u001b[0m\u001b[1;33m(\u001b[0m\u001b[0mnum_units\u001b[0m\u001b[1;33m,\u001b[0m \u001b[0mdata\u001b[0m\u001b[1;33m,\u001b[0m \u001b[0mnew_state\u001b[0m\u001b[1;33m,\u001b[0m \u001b[0mnew_output\u001b[0m\u001b[1;33m)\u001b[0m\u001b[1;33m:\u001b[0m\u001b[1;33m\u001b[0m\u001b[0m\n\u001b[0;32m      2\u001b[0m     \u001b[0mcell\u001b[0m \u001b[1;33m=\u001b[0m \u001b[0mlstmcell\u001b[0m\u001b[1;33m(\u001b[0m\u001b[0mnum_units\u001b[0m\u001b[1;33m,\u001b[0m \u001b[0mx\u001b[0m\u001b[1;33m,\u001b[0m \u001b[0mnew_state\u001b[0m\u001b[1;33m,\u001b[0m \u001b[0mnew_output\u001b[0m\u001b[1;33m)\u001b[0m\u001b[1;33m\u001b[0m\u001b[0m\n\u001b[1;32m----> 3\u001b[1;33m     \u001b[0moutput\u001b[0m\u001b[1;33m,\u001b[0m \u001b[0mstate\u001b[0m \u001b[1;33m=\u001b[0m \u001b[0mcell\u001b[0m\u001b[1;33m.\u001b[0m\u001b[0mbuild\u001b[0m\u001b[1;33m(\u001b[0m\u001b[1;33m)\u001b[0m\u001b[1;33m\u001b[0m\u001b[0m\n\u001b[0m\u001b[0;32m      4\u001b[0m     \u001b[0mnew_output\u001b[0m \u001b[1;33m=\u001b[0m \u001b[0mnp\u001b[0m\u001b[1;33m.\u001b[0m\u001b[0masarray\u001b[0m\u001b[1;33m(\u001b[0m\u001b[0moutput\u001b[0m\u001b[1;33m)\u001b[0m\u001b[1;33m\u001b[0m\u001b[0m\n\u001b[0;32m      5\u001b[0m     \u001b[0mnew_state\u001b[0m \u001b[1;33m=\u001b[0m \u001b[0mnp\u001b[0m\u001b[1;33m.\u001b[0m\u001b[0masarray\u001b[0m\u001b[1;33m(\u001b[0m\u001b[0mstate\u001b[0m\u001b[1;33m)\u001b[0m\u001b[1;33m\u001b[0m\u001b[0m\n",
      "\u001b[1;32m<ipython-input-11-0b2189c76eda>\u001b[0m in \u001b[0;36mbuild\u001b[1;34m(self)\u001b[0m\n\u001b[0;32m     36\u001b[0m         \u001b[0msigmoid_array\u001b[0m\u001b[1;33m(\u001b[0m\u001b[0mi\u001b[0m\u001b[1;33m)\u001b[0m \u001b[1;33m*\u001b[0m \u001b[0mg\u001b[0m\u001b[1;33m\u001b[0m\u001b[0m\n\u001b[0;32m     37\u001b[0m \u001b[1;33m\u001b[0m\u001b[0m\n\u001b[1;32m---> 38\u001b[1;33m         \u001b[0mnew_c\u001b[0m \u001b[1;33m=\u001b[0m \u001b[0mc\u001b[0m \u001b[1;33m*\u001b[0m \u001b[0msigmoid_f\u001b[0m \u001b[1;33m+\u001b[0m \u001b[0msigmoid_array\u001b[0m\u001b[1;33m(\u001b[0m\u001b[0mi\u001b[0m\u001b[1;33m)\u001b[0m \u001b[1;33m*\u001b[0m \u001b[0mg\u001b[0m\u001b[1;33m\u001b[0m\u001b[0m\n\u001b[0m\u001b[0;32m     39\u001b[0m \u001b[1;33m\u001b[0m\u001b[0m\n\u001b[0;32m     40\u001b[0m         \u001b[0mnew_h\u001b[0m \u001b[1;33m=\u001b[0m \u001b[0mnp\u001b[0m\u001b[1;33m.\u001b[0m\u001b[0mtanh\u001b[0m\u001b[1;33m(\u001b[0m\u001b[0mnew_c\u001b[0m\u001b[1;33m)\u001b[0m \u001b[1;33m*\u001b[0m \u001b[0msigmoid_array\u001b[0m\u001b[1;33m(\u001b[0m\u001b[0mo\u001b[0m\u001b[1;33m)\u001b[0m\u001b[1;33m\u001b[0m\u001b[0m\n",
      "\u001b[1;31mValueError\u001b[0m: operands could not be broadcast together with shapes (2,2) (1,4) "
     ]
    }
   ],
   "source": [
    "for i in range(1, 31, 1):\n",
    "    new_state, new_output = propagation(num_units, x, new_state, new_output)\n",
    "    loss = sess.run(tf.losses.mean_squared_error(labels=state_predict.mean(), predictions=new_state.mean()))\n",
    "    global losses\n",
    "    losses2.append(loss)\n",
    "    \n",
    "    print(i)\n",
    "    print(\"loss :        \", [loss])\n",
    "    print(\"current output\",new_output)\n",
    "    print(\"current state \", new_state, \"\\n\")"
   ]
  },
  {
   "cell_type": "code",
   "execution_count": 20,
   "metadata": {},
   "outputs": [
    {
     "data": {
      "text/plain": [
       "Text(0.5,0,'Step')"
      ]
     },
     "execution_count": 20,
     "metadata": {},
     "output_type": "execute_result"
    },
    {
     "data": {
      "image/png": "[encoded data removed]",
      "text/plain": [
       "<Figure size 576x288 with 1 Axes>"
      ]
     },
     "metadata": {
      "needs_background": "light"
     },
     "output_type": "display_data"
    }
   ],
   "source": [
    "plt.rcParams[\"figure.figsize\"] = (8, 4)\n",
    "plt.plot(losses2)\n",
    "plt.title('Loss2')\n",
    "plt.ylabel('Loss value')\n",
    "plt.xlabel('Step')"
   ]
  },
  {
   "cell_type": "markdown",
   "metadata": {},
   "source": [
    "###########################################"
   ]
  },
  {
   "cell_type": "markdown",
   "metadata": {},
   "source": [
    "#while_loop rnn"
   ]
  },
  {
   "cell_type": "code",
   "execution_count": 93,
   "metadata": {},
   "outputs": [],
   "source": [
    "x_2 = np.asarray([[1, 2]])\n",
    "c = 0.1 * np.asarray([[8, 7]])#gate 가중치 = 0.1\n",
    "h = 0.1 * np.asarray([[0, 5]])\n",
    "num = c.size\n",
    "def sigmoid_array(x):\n",
    "     return 1 / (1 + tf.exp(-x))\n",
    "    \n",
    "class lstmcell2:\n",
    "    def __init__(self, c_, h_):\n",
    "        global x_2\n",
    "        global num\n",
    "        self.x = x_2 #input\n",
    "        self.c = c_# 초기 state\n",
    "        self.h = h_# 초기 output\n",
    "        self.num = num#self.c.size\n",
    "\n",
    "    \n",
    "    def build(self):\n",
    "        num_units = self.num #hidden layer 갯수\n",
    "        args = tf.concat((self.x, self.h), axis=1)\n",
    "\n",
    "        out_size = 4 * num_units#n_gate = 4\n",
    "        proj_size = args.shape[-1]\n",
    "\n",
    "        weights = np.ones([proj_size, out_size]) * 0.5\n",
    "\n",
    "        out = tf.matmul(args, weights)\n",
    "\n",
    "        bias = np.ones([out_size]) * 0.5\n",
    "\n",
    "        concat = out + bias\n",
    "\n",
    "        i, j, f, o = tf.split(concat, 4, 1)\n",
    "\n",
    "        g = tf.tanh(j)#Cell 현재값\n",
    "        \n",
    "        forget_bias = 1.0\n",
    "\n",
    "        sigmoid_f = sigmoid_array(f + forget_bias)#forget gate\n",
    "\n",
    "        sigmoid_array(i) * g\n",
    "\n",
    "        new_c = c * sigmoid_f + sigmoid_array(i) * g\n",
    "\n",
    "        new_h = tf.tanh(new_c) * sigmoid_array(o)\n",
    "\n",
    "        new_c = tf.split(new_c, 1, 1)\n",
    "        new_h = tf.split(new_h, 1, 1)\n",
    "        \n",
    "        \n",
    "        return new_h + new_c"
   ]
  },
  {
   "cell_type": "code",
   "execution_count": 94,
   "metadata": {},
   "outputs": [],
   "source": [
    "def body(last_output, last_state, step):\n",
    "    \n",
    "    output = lstmcell2(last_output,last_state).build()[0]\n",
    "    state = lstmcell2(last_output,last_state).build()[1]\n",
    "    \n",
    "    return output, state, tf.add(step, 1)\n",
    "    \n",
    "\n",
    "timesteps = 100\n",
    "\n",
    "steps = lambda a, b, step: tf.less(step, timesteps)\n",
    "\n",
    "lstm_output, lstm_state, step = tf.while_loop(steps, body, (h, c, 0), parallel_iterations=20)"
   ]
  },
  {
   "cell_type": "code",
   "execution_count": 89,
   "metadata": {},
   "outputs": [],
   "source": [
    "sess = tf.Session()"
   ]
  },
  {
   "cell_type": "code",
   "execution_count": 39,
   "metadata": {},
   "outputs": [],
   "source": [
    "state_predict = sess.run(lstm_state)\n",
    "state_predict = state_predict.mean()"
   ]
  },
  {
   "cell_type": "code",
   "execution_count": 40,
   "metadata": {},
   "outputs": [],
   "source": [
    "states_costs = []\n",
    "error = []\n",
    "loss = []\n",
    "losses = []"
   ]
  },
  {
   "cell_type": "code",
   "execution_count": 41,
   "metadata": {},
   "outputs": [],
   "source": [
    "time = 10\n",
    "for i in range(time):\n",
    "    timesteps = i\n",
    "\n",
    "    steps = lambda a, b, step: tf.less(step, timesteps)\n",
    "\n",
    "    lstm_output, lstm_state, step = tf.while_loop(steps, body, (h, c, 0), parallel_iterations=20)\n",
    "    \n",
    "    states_costs.append(lstm_state)"
   ]
  },
  {
   "cell_type": "code",
   "execution_count": 42,
   "metadata": {},
   "outputs": [],
   "source": [
    "states_costs = sess.run(states_costs)"
   ]
  },
  {
   "cell_type": "code",
   "execution_count": 43,
   "metadata": {
    "scrolled": true
   },
   "outputs": [],
   "source": [
    "for j in range(time):\n",
    "    error.append(states_costs[j])\n",
    "    loss.append(error[j].mean())\n",
    "    losses.append(tf.losses.mean_squared_error(labels=state_predict, predictions=loss[j]))"
   ]
  },
  {
   "cell_type": "code",
   "execution_count": 44,
   "metadata": {},
   "outputs": [],
   "source": [
    "losses = sess.run(losses)"
   ]
  },
  {
   "cell_type": "code",
   "execution_count": 45,
   "metadata": {},
   "outputs": [
    {
     "data": {
      "text/plain": [
       "Text(0.5,0,'Step')"
      ]
     },
     "execution_count": 45,
     "metadata": {},
     "output_type": "execute_result"
    },
    {
     "data": {
      "image/png": "[encoded data removed]",
      "text/plain": [
       "<Figure size 576x288 with 1 Axes>"
      ]
     },
     "metadata": {
      "needs_background": "light"
     },
     "output_type": "display_data"
    }
   ],
   "source": [
    "plt.plot(losses)\n",
    "plt.title('while_loop Loss')\n",
    "plt.ylabel('Loss value')\n",
    "plt.xlabel('Step')"
   ]
  },
  {
   "cell_type": "code",
   "execution_count": null,
   "metadata": {},
   "outputs": [],
   "source": []
  }
 ],
 "metadata": {
  "kernelspec": {
   "display_name": "Python [conda env:tf1.8]",
   "language": "python",
   "name": "conda-env-tf1.8-py"
  },
  "language_info": {
   "codemirror_mode": {
    "name": "ipython",
    "version": 3
   },
   "file_extension": ".py",
   "mimetype": "text/x-python",
   "name": "python",
   "nbconvert_exporter": "python",
   "pygments_lexer": "ipython3",
   "version": "3.5.6"
  }
 },
 "nbformat": 4,
 "nbformat_minor": 2
}
