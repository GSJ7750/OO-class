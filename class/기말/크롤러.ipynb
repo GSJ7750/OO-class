{
 "cells": [
  {
   "cell_type": "code",
   "execution_count": 1,
   "metadata": {},
   "outputs": [],
   "source": [
    "from bs4 import BeautifulSoup\n",
    "import requests\n",
    "import pandas as pd\n",
    "import numpy as np\n",
    "url = 'https://www.bbc.com/korean/news-46562902'\n",
    "r = requests.get(url)\n",
    "\n",
    "soup = BeautifulSoup(r.text, \"html.parser\")"
   ]
  },
  {
   "cell_type": "code",
   "execution_count": 2,
   "metadata": {},
   "outputs": [],
   "source": [
    "mr = soup.find(class_=\"story-body__introduction\")"
   ]
  },
  {
   "cell_type": "code",
   "execution_count": 3,
   "metadata": {},
   "outputs": [],
   "source": [
    "text = mr.get_text()"
   ]
  },
  {
   "cell_type": "code",
   "execution_count": 4,
   "metadata": {},
   "outputs": [],
   "source": [
    "split_text = list(text)"
   ]
  },
  {
   "cell_type": "code",
   "execution_count": 5,
   "metadata": {},
   "outputs": [],
   "source": [
    "spacing = []\n",
    "for i in range(len(split_text)):\n",
    "    if split_text[i] == ' ':\n",
    "        spacing.append(([split_text[i-1], split_text[i+1]]))"
   ]
  },
  {
   "cell_type": "code",
   "execution_count": 6,
   "metadata": {},
   "outputs": [
    {
     "data": {
      "text/plain": [
       "[['늘', '밤'],\n",
       " [',', '쌍'],\n",
       " ['리', '유'],\n",
       " ['가', '쏟'],\n",
       " ['서', '2'],\n",
       " ['의', '가'],\n",
       " ['장', '화'],\n",
       " ['한', '우'],\n",
       " ['가', '밤'],\n",
       " ['에', '펼'],\n",
       " ['질', '것'],\n",
       " ['로', '보']]"
      ]
     },
     "execution_count": 6,
     "metadata": {},
     "output_type": "execute_result"
    }
   ],
   "source": [
    "spacing"
   ]
  },
  {
   "cell_type": "code",
   "execution_count": 535,
   "metadata": {},
   "outputs": [],
   "source": [
    "split1 = split_text"
   ]
  },
  {
   "cell_type": "code",
   "execution_count": 536,
   "metadata": {},
   "outputs": [
    {
     "data": {
      "text/plain": [
       "['오',\n",
       " '늘',\n",
       " ' ',\n",
       " '밤',\n",
       " ',',\n",
       " ' ',\n",
       " '쌍',\n",
       " '둥',\n",
       " '이',\n",
       " '자',\n",
       " '리',\n",
       " ' ',\n",
       " '유',\n",
       " '성',\n",
       " '우',\n",
       " '가',\n",
       " ' ',\n",
       " '쏟',\n",
       " '아',\n",
       " '지',\n",
       " '면',\n",
       " '서',\n",
       " ' ',\n",
       " '2',\n",
       " '0',\n",
       " '1',\n",
       " '8',\n",
       " '년',\n",
       " '의',\n",
       " ' ',\n",
       " '가',\n",
       " '장',\n",
       " ' ',\n",
       " '화',\n",
       " '려',\n",
       " '한',\n",
       " ' ',\n",
       " '우',\n",
       " '주',\n",
       " '쇼',\n",
       " '가',\n",
       " ' ',\n",
       " '밤',\n",
       " '하',\n",
       " '늘',\n",
       " '에',\n",
       " ' ',\n",
       " '펼',\n",
       " '쳐',\n",
       " '질',\n",
       " ' ',\n",
       " '것',\n",
       " '으',\n",
       " '로',\n",
       " ' ',\n",
       " '보',\n",
       " '인',\n",
       " '다',\n",
       " '.']"
      ]
     },
     "execution_count": 536,
     "metadata": {},
     "output_type": "execute_result"
    }
   ],
   "source": [
    "split1"
   ]
  },
  {
   "cell_type": "code",
   "execution_count": 537,
   "metadata": {},
   "outputs": [],
   "source": [
    "df = pd.get_dummies(split1)"
   ]
  },
  {
   "cell_type": "code",
   "execution_count": 538,
   "metadata": {},
   "outputs": [
    {
     "data": {
      "text/plain": [
       "array([[0, 0, 0, ..., 0, 0, 0],\n",
       "       [0, 0, 0, ..., 0, 0, 0],\n",
       "       [1, 0, 0, ..., 0, 0, 0],\n",
       "       ...,\n",
       "       [0, 0, 0, ..., 0, 0, 0],\n",
       "       [0, 0, 0, ..., 0, 0, 0],\n",
       "       [0, 0, 1, ..., 0, 0, 0]], dtype=uint8)"
      ]
     },
     "execution_count": 538,
     "metadata": {},
     "output_type": "execute_result"
    }
   ],
   "source": [
    "df.values"
   ]
  },
  {
   "cell_type": "code",
   "execution_count": 539,
   "metadata": {},
   "outputs": [],
   "source": [
    "split_text = list(filter((' ').__ne__, split_text))"
   ]
  },
  {
   "cell_type": "code",
   "execution_count": 540,
   "metadata": {},
   "outputs": [
    {
     "data": {
      "text/plain": [
       "['오',\n",
       " '늘',\n",
       " '밤',\n",
       " ',',\n",
       " '쌍',\n",
       " '둥',\n",
       " '이',\n",
       " '자',\n",
       " '리',\n",
       " '유',\n",
       " '성',\n",
       " '우',\n",
       " '가',\n",
       " '쏟',\n",
       " '아',\n",
       " '지',\n",
       " '면',\n",
       " '서',\n",
       " '2',\n",
       " '0',\n",
       " '1',\n",
       " '8',\n",
       " '년',\n",
       " '의',\n",
       " '가',\n",
       " '장',\n",
       " '화',\n",
       " '려',\n",
       " '한',\n",
       " '우',\n",
       " '주',\n",
       " '쇼',\n",
       " '가',\n",
       " '밤',\n",
       " '하',\n",
       " '늘',\n",
       " '에',\n",
       " '펼',\n",
       " '쳐',\n",
       " '질',\n",
       " '것',\n",
       " '으',\n",
       " '로',\n",
       " '보',\n",
       " '인',\n",
       " '다',\n",
       " '.']"
      ]
     },
     "execution_count": 540,
     "metadata": {},
     "output_type": "execute_result"
    }
   ],
   "source": [
    "split_text"
   ]
  },
  {
   "cell_type": "code",
   "execution_count": 541,
   "metadata": {},
   "outputs": [],
   "source": [
    "split2 = split_text"
   ]
  },
  {
   "cell_type": "code",
   "execution_count": 542,
   "metadata": {},
   "outputs": [
    {
     "data": {
      "text/plain": [
       "['오',\n",
       " '늘',\n",
       " '밤',\n",
       " ',',\n",
       " '쌍',\n",
       " '둥',\n",
       " '이',\n",
       " '자',\n",
       " '리',\n",
       " '유',\n",
       " '성',\n",
       " '우',\n",
       " '가',\n",
       " '쏟',\n",
       " '아',\n",
       " '지',\n",
       " '면',\n",
       " '서',\n",
       " '2',\n",
       " '0',\n",
       " '1',\n",
       " '8',\n",
       " '년',\n",
       " '의',\n",
       " '가',\n",
       " '장',\n",
       " '화',\n",
       " '려',\n",
       " '한',\n",
       " '우',\n",
       " '주',\n",
       " '쇼',\n",
       " '가',\n",
       " '밤',\n",
       " '하',\n",
       " '늘',\n",
       " '에',\n",
       " '펼',\n",
       " '쳐',\n",
       " '질',\n",
       " '것',\n",
       " '으',\n",
       " '로',\n",
       " '보',\n",
       " '인',\n",
       " '다',\n",
       " '.']"
      ]
     },
     "execution_count": 542,
     "metadata": {},
     "output_type": "execute_result"
    }
   ],
   "source": [
    "split2"
   ]
  },
  {
   "cell_type": "code",
   "execution_count": 543,
   "metadata": {},
   "outputs": [],
   "source": [
    "df2 = pd.get_dummies(split2)"
   ]
  },
  {
   "cell_type": "code",
   "execution_count": 544,
   "metadata": {},
   "outputs": [
    {
     "data": {
      "text/plain": [
       "(47, 42)"
      ]
     },
     "execution_count": 544,
     "metadata": {},
     "output_type": "execute_result"
    }
   ],
   "source": [
    "df2.values.shape"
   ]
  },
  {
   "cell_type": "code",
   "execution_count": 545,
   "metadata": {},
   "outputs": [
    {
     "data": {
      "text/plain": [
       "'늘'"
      ]
     },
     "execution_count": 545,
     "metadata": {},
     "output_type": "execute_result"
    }
   ],
   "source": [
    "spacing[0][0]"
   ]
  },
  {
   "cell_type": "code",
   "execution_count": 546,
   "metadata": {},
   "outputs": [
    {
     "data": {
      "text/plain": [
       "'밤'"
      ]
     },
     "execution_count": 546,
     "metadata": {},
     "output_type": "execute_result"
    }
   ],
   "source": [
    "spacing[0][1]"
   ]
  },
  {
   "cell_type": "code",
   "execution_count": 547,
   "metadata": {},
   "outputs": [],
   "source": [
    "y = np.ones([47, 2])"
   ]
  },
  {
   "cell_type": "code",
   "execution_count": 548,
   "metadata": {},
   "outputs": [
    {
     "name": "stdout",
     "output_type": "stream",
     "text": [
      "1\n",
      "3\n",
      "8\n",
      "12\n",
      "17\n",
      "23\n",
      "25\n",
      "28\n",
      "32\n",
      "36\n",
      "39\n",
      "42\n"
     ]
    }
   ],
   "source": [
    "for k in range(len(spacing)):\n",
    "    for l in range(len(split2)):\n",
    "        if split2[l] == spacing[k][0]:\n",
    "            if split2[l+1] == spacing[k][1]:\n",
    "                print(l)\n",
    "                y[l][0] = y[l][0]-1"
   ]
  },
  {
   "cell_type": "code",
   "execution_count": 549,
   "metadata": {},
   "outputs": [
    {
     "data": {
      "text/plain": [
       "array([[1., 1.],\n",
       "       [0., 1.],\n",
       "       [1., 1.],\n",
       "       [0., 1.],\n",
       "       [1., 1.],\n",
       "       [1., 1.],\n",
       "       [1., 1.],\n",
       "       [1., 1.],\n",
       "       [0., 1.],\n",
       "       [1., 1.],\n",
       "       [1., 1.],\n",
       "       [1., 1.],\n",
       "       [0., 1.],\n",
       "       [1., 1.],\n",
       "       [1., 1.],\n",
       "       [1., 1.],\n",
       "       [1., 1.],\n",
       "       [0., 1.],\n",
       "       [1., 1.],\n",
       "       [1., 1.],\n",
       "       [1., 1.],\n",
       "       [1., 1.],\n",
       "       [1., 1.],\n",
       "       [0., 1.],\n",
       "       [1., 1.],\n",
       "       [0., 1.],\n",
       "       [1., 1.],\n",
       "       [1., 1.],\n",
       "       [0., 1.],\n",
       "       [1., 1.],\n",
       "       [1., 1.],\n",
       "       [1., 1.],\n",
       "       [0., 1.],\n",
       "       [1., 1.],\n",
       "       [1., 1.],\n",
       "       [1., 1.],\n",
       "       [0., 1.],\n",
       "       [1., 1.],\n",
       "       [1., 1.],\n",
       "       [0., 1.],\n",
       "       [1., 1.],\n",
       "       [1., 1.],\n",
       "       [0., 1.],\n",
       "       [1., 1.],\n",
       "       [1., 1.],\n",
       "       [1., 1.],\n",
       "       [1., 1.]])"
      ]
     },
     "execution_count": 549,
     "metadata": {},
     "output_type": "execute_result"
    }
   ],
   "source": [
    "y"
   ]
  },
  {
   "cell_type": "code",
   "execution_count": 550,
   "metadata": {},
   "outputs": [
    {
     "data": {
      "text/plain": [
       "array([[1., 1.],\n",
       "       [1., 1.],\n",
       "       [1., 1.],\n",
       "       [1., 1.],\n",
       "       [0., 1.],\n",
       "       [1., 1.],\n",
       "       [1., 1.],\n",
       "       [0., 1.],\n",
       "       [1., 1.],\n",
       "       [1., 1.],\n",
       "       [0., 1.],\n",
       "       [1., 1.],\n",
       "       [1., 1.],\n",
       "       [1., 1.],\n",
       "       [0., 1.],\n",
       "       [1., 1.],\n",
       "       [1., 1.],\n",
       "       [1., 1.],\n",
       "       [0., 1.],\n",
       "       [1., 1.],\n",
       "       [1., 1.],\n",
       "       [0., 1.],\n",
       "       [1., 1.],\n",
       "       [0., 1.],\n",
       "       [1., 1.],\n",
       "       [1., 1.],\n",
       "       [1., 1.],\n",
       "       [1., 1.],\n",
       "       [1., 1.],\n",
       "       [0., 1.],\n",
       "       [1., 1.],\n",
       "       [1., 1.],\n",
       "       [1., 1.],\n",
       "       [1., 1.],\n",
       "       [0., 1.],\n",
       "       [1., 1.],\n",
       "       [1., 1.],\n",
       "       [1., 1.],\n",
       "       [0., 1.],\n",
       "       [1., 1.],\n",
       "       [1., 1.],\n",
       "       [1., 1.],\n",
       "       [1., 1.],\n",
       "       [0., 1.],\n",
       "       [1., 1.],\n",
       "       [0., 1.],\n",
       "       [1., 1.]])"
      ]
     },
     "execution_count": 550,
     "metadata": {},
     "output_type": "execute_result"
    }
   ],
   "source": [
    "y[::-1]"
   ]
  },
  {
   "cell_type": "code",
   "execution_count": null,
   "metadata": {},
   "outputs": [],
   "source": []
  },
  {
   "cell_type": "code",
   "execution_count": null,
   "metadata": {},
   "outputs": [],
   "source": []
  }
 ],
 "metadata": {
  "kernelspec": {
   "display_name": "Python [conda env:tf1.8]",
   "language": "python",
   "name": "conda-env-tf1.8-py"
  },
  "language_info": {
   "codemirror_mode": {
    "name": "ipython",
    "version": 3
   },
   "file_extension": ".py",
   "mimetype": "text/x-python",
   "name": "python",
   "nbconvert_exporter": "python",
   "pygments_lexer": "ipython3",
   "version": "3.5.6"
  }
 },
 "nbformat": 4,
 "nbformat_minor": 2
}
