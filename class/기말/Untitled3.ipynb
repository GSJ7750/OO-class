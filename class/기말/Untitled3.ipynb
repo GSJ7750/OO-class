{
 "cells": [
  {
   "cell_type": "code",
   "execution_count": 19,
   "metadata": {},
   "outputs": [],
   "source": [
    "import numpy as np\n",
    "import tensorflow as tf\n",
    "from tensorflow.contrib.rnn import BasicRNNCell, RNNCell\n",
    "from tensorflow.python.ops.rnn import raw_rnn\n",
    "from tensorflow.python.ops import array_ops\n",
    "x = np.array([[1., 1., 1.]])\n",
    "c = 0.1 * np.asarray([[2, 2, 3]])\n",
    "h = 0.1 * np.asarray([[3, 3, 4]])"
   ]
  },
  {
   "cell_type": "code",
   "execution_count": 20,
   "metadata": {},
   "outputs": [],
   "source": [
    "def lstmcell(num, x_, c_, h_):\n",
    "    x = x_ #input\n",
    "    c = c_# 초기 state\n",
    "    h = h_# 초기 output\n",
    "    \n",
    "    num_units = num #자료 갯수\n",
    "\n",
    "    args = np.concatenate((x,h), axis=1)\n",
    "\n",
    "    out_size = 4 * num_units\n",
    "    proj_size = args.shape[-1]\n",
    "\n",
    "    weights = np.ones([proj_size, out_size]) * 0.5\n",
    "\n",
    "    out = np.matmul(args, weights)\n",
    "\n",
    "    bias = np.ones([out_size]) * 0.5\n",
    "\n",
    "    concat = out + bias\n",
    "\n",
    "    i, j, f, o = np.split(concat, 4, 1)\n",
    "\n",
    "    g = np.tanh(j)#Cell 현재값\n",
    "\n",
    "    def sigmoid_array(x):\n",
    "        return 1 / (1 + np.exp(-x))\n",
    "\n",
    "    forget_bias = 1.0\n",
    "\n",
    "    sigmoid_f = sigmoid_array(f + forget_bias)#forget gate\n",
    "\n",
    "    sigmoid_array(i) * g\n",
    "\n",
    "    new_c = c * sigmoid_f + sigmoid_array(i) * g\n",
    "\n",
    "    new_h = np.tanh(new_c) * sigmoid_array(o)\n",
    "    \n",
    "    new_c = np.split(new_c, 1, 1)\n",
    "    \n",
    "    new_h = np.split(new_h, 1, 1)\n",
    "    \n",
    "    return new_h, new_c,"
   ]
  },
  {
   "cell_type": "code",
   "execution_count": 21,
   "metadata": {},
   "outputs": [],
   "source": [
    "state, output = lstmcell(3, x, c, h)"
   ]
  },
  {
   "cell_type": "code",
   "execution_count": 22,
   "metadata": {},
   "outputs": [
    {
     "name": "stdout",
     "output_type": "stream",
     "text": [
      "[array([[1.10590909, 1.10590909, 1.20297786]])] [array([[0.7417269 , 0.7417269 , 0.77125241]])]\n"
     ]
    }
   ],
   "source": [
    "print(output,state)"
   ]
  },
  {
   "cell_type": "code",
   "execution_count": null,
   "metadata": {},
   "outputs": [],
   "source": [
    "max_time = 3\n",
    "batch_size = 1\n",
    "input_depth = 2\n",
    "num_units = 2"
   ]
  },
  {
   "cell_type": "code",
   "execution_count": null,
   "metadata": {},
   "outputs": [],
   "source": [
    "input = tf.placeholder(tf.float32, [batch_size, None, input_depth])\n",
    "target = tf.placeholder(tf.float32, [batch_size, 1, num_units])\n",
    "    \n",
    "def input_to_TensorArray(value, axis, size=None):\n",
    "    shape = value.get_shape().as_list()\n",
    "    rank = len(shape)\n",
    "    dtype = value.dtype\n",
    "    array_size = shape[axis] if not shape[axis] is None else size\n",
    "\n",
    "    if array_size is None:\n",
    "        raise ValueError(\"Can't create TensorArray with size None\")\n",
    "\n",
    "    array = tf.TensorArray(dtype=dtype, size=array_size)\n",
    "    dim_permutation = [axis] + list(range(1, axis)) + [0] + list(range(axis + 1, rank))\n",
    "    unpack_axis_major_value = tf.transpose(value, dim_permutation)\n",
    "    full_array = array.unstack(unpack_axis_major_value)\n",
    "\n",
    "    return full_array"
   ]
  },
  {
   "cell_type": "code",
   "execution_count": null,
   "metadata": {},
   "outputs": [],
   "source": [
    "input_to_TensorArray(input, 1, 3)\n",
    "sess = tf.Session()\n",
    "sess.run(tf.global_variables_initializer())\n",
    "sess.run(input_to_TensorArray(input, 1, 3))"
   ]
  },
  {
   "cell_type": "code",
   "execution_count": null,
   "metadata": {},
   "outputs": [],
   "source": [
    "inputs = tf.placeholder(shape=(max_time, batch_size, input_depth),\n",
    "                        dtype=tf.float32)\n",
    "sequence_length = tf.placeholder(shape=(batch_size,), dtype=tf.int32)\n",
    "inputs_ta = tf.TensorArray(dtype=tf.float32, size=max_time)\n",
    "inputs_ta = inputs_ta.unstack(inputs)\n",
    "\n",
    "#cell = tf.contrib.rnn.LSTMCell(num_units)\n",
    "cell = lstmcell(num_units, x, c, h)\n",
    "\n",
    "def loop_fn(time, cell_output, cell_state, loop_state):\n",
    "  emit_output = cell_output  # == None for time == 0\n",
    "  if cell_output is None:  # time == 0\n",
    "    next_cell_state = cell.zero_state(batch_size, tf.float32)\n",
    "  else:\n",
    "    next_cell_state = cell_state\n",
    "  elements_finished = (time >= sequence_length)\n",
    "  finished = tf.reduce_all(elements_finished)\n",
    "  next_input = tf.cond(\n",
    "      finished,\n",
    "      lambda: tf.zeros([batch_size, input_depth], dtype=np.float32),\n",
    "      lambda: inputs_ta.read(time))\n",
    "  next_loop_state = None\n",
    "  return (elements_finished, next_input, next_cell_state,\n",
    "          emit_output, next_loop_state)\n",
    "\n",
    "outputs_ta, final_state, _ = raw_rnn(cell, loop_fn)\n",
    "outputs = outputs_ta.stack()"
   ]
  },
  {
   "cell_type": "code",
   "execution_count": null,
   "metadata": {},
   "outputs": [],
   "source": [
    "with tf.variable_scope(\"RNN\"):\n",
    "    lstmcell = lstmcell(num_units, x, h, c)\n",
    "    cell = tf.contrib.rnn.MultiRNNCell([lstmcell]) \n",
    "\n",
    "    output_ta = tf.TensorArray(size=T, dtype=tf.float32)\n",
    "    input_ta = tf.TensorArray(size=T, dtype=tf.float32)\n",
    "    input_ta.unstack(xs)\n",
    "\n",
    "    def body(time, output_ta_t, state):\n",
    "        xt = input_ta.read(time)\n",
    "        new_output, new_state = cell(xt, state)\n",
    "        output_ta_t.write(time, new_output)\n",
    "        return (time+1, output_ta_t, new_state)\n",
    "\n",
    "    def condition(time, output, state):\n",
    "        return time < T\n",
    "\n",
    "    time = 0\n",
    "    state = cell.zero_state(B, tf.float32)\n",
    "\n",
    "    time_final, output_ta_final, state_final = tf.while_loop(\n",
    "          cond=condition,\n",
    "          body=body,\n",
    "          loop_vars=(time, output_ta, state))\n",
    "\n",
    "    output_final = output_ta_final.stack()"
   ]
  },
  {
   "cell_type": "code",
   "execution_count": 38,
   "metadata": {},
   "outputs": [],
   "source": [
    "B = 3\n",
    "D = 4\n",
    "T = 5\n",
    "\n",
    "tf.reset_default_graph()\n",
    "\n",
    "xs = tf.placeholder(shape=[T, B, D], dtype=tf.float32)\n",
    "\n",
    "with tf.variable_scope(\"RNN\"):\n",
    "    GRUcell = tf.contrib.rnn.GRUCell(num_units = D)\n",
    "    cell = tf.contrib.rnn.MultiRNNCell([GRUcell]) \n",
    "\n",
    "    output_ta = tf.TensorArray(size=T, dtype=tf.float32)\n",
    "    input_ta = tf.TensorArray(size=T, dtype=tf.float32)\n",
    "    input_ta = input_ta.unstack(xs)\n",
    "\n",
    "    def body(time, output_ta_t, state):\n",
    "        xt = input_ta.read(time)\n",
    "        new_output, new_state = cell(xt, state)\n",
    "        output_ta_t = output_ta_t.write(time, new_output)\n",
    "        return (time+1, output_ta_t, new_state)\n",
    "\n",
    "    def condition(time, output, state):\n",
    "        return time < T\n",
    "\n",
    "    time = 0\n",
    "    state = tf.zeros([B, D], dtype=tf.float32),\n",
    "\n",
    "    time_final, output_ta_final, state_final = tf.while_loop(\n",
    "          cond=condition,\n",
    "          body=body,\n",
    "          loop_vars=(time, output_ta, state))\n",
    "\n",
    "    output_final = output_ta_final.stack()"
   ]
  },
  {
   "cell_type": "code",
   "execution_count": 35,
   "metadata": {},
   "outputs": [],
   "source": [
    "x = np.random.normal(size=(T, B, D))\n",
    "with tf.Session() as sess:\n",
    "    tf.global_variables_initializer().run()\n",
    "    output_final_, state_final_ = sess.run(fetches = [output_final, state_final], feed_dict = {xs:x})"
   ]
  },
  {
   "cell_type": "code",
   "execution_count": 39,
   "metadata": {},
   "outputs": [
    {
     "data": {
      "text/plain": [
       "array([[[-0.2235299 , -0.12192623, -0.42601764,  0.15979148],\n",
       "        [ 0.1486711 , -0.12435351, -0.45654896,  0.12276879],\n",
       "        [ 0.1560612 , -0.08566649, -0.14736594,  0.16558172]],\n",
       "\n",
       "       [[-0.2863111 , -0.00961538, -0.18103129,  0.10653551],\n",
       "        [ 0.16591047, -0.20668706, -0.5790354 ,  0.28558242],\n",
       "        [-0.46632898,  0.41073298, -0.01926858, -0.24710019]],\n",
       "\n",
       "       [[-0.1829256 ,  0.09012721, -0.03300869,  0.12301386],\n",
       "        [-0.10664594, -0.22969976, -0.49603713,  0.45364076],\n",
       "        [-0.41358045,  0.42210487,  0.20824555, -0.22406939]],\n",
       "\n",
       "       [[-0.08283363,  0.17624585,  0.20275089, -0.03808124],\n",
       "        [-0.48466778, -0.09092928, -0.20686771,  0.34637213],\n",
       "        [-0.35669747,  0.6834169 ,  0.34793726, -0.5217372 ]],\n",
       "\n",
       "       [[-0.11512554,  0.08630643, -0.35077187,  0.20759483],\n",
       "        [-0.43621472, -0.08406395, -0.10594025,  0.19111195],\n",
       "        [-0.19095787,  0.20002852,  0.03687413, -0.54712516]]],\n",
       "      dtype=float32)"
      ]
     },
     "execution_count": 39,
     "metadata": {},
     "output_type": "execute_result"
    }
   ],
   "source": [
    "output_final_"
   ]
  },
  {
   "cell_type": "code",
   "execution_count": 9,
   "metadata": {},
   "outputs": [],
   "source": [
    "state_init = tf.Variable(tf.zeros([5, 10]))\n",
    "state = tf.tile(state_init, [3, 1])"
   ]
  },
  {
   "cell_type": "code",
   "execution_count": 6,
   "metadata": {},
   "outputs": [
    {
     "data": {
      "text/plain": [
       "<tensorflow.python.ops.rnn_cell_impl.GRUCell at 0x1923eaa52b0>"
      ]
     },
     "execution_count": 6,
     "metadata": {},
     "output_type": "execute_result"
    }
   ],
   "source": [
    "GRUcell"
   ]
  },
  {
   "cell_type": "code",
   "execution_count": 7,
   "metadata": {},
   "outputs": [
    {
     "data": {
      "text/plain": [
       "<tensorflow.python.ops.rnn_cell_impl.MultiRNNCell at 0x1923eaa52e8>"
      ]
     },
     "execution_count": 7,
     "metadata": {},
     "output_type": "execute_result"
    }
   ],
   "source": [
    "cell"
   ]
  },
  {
   "cell_type": "code",
   "execution_count": 33,
   "metadata": {},
   "outputs": [
    {
     "data": {
      "text/plain": [
       "(array([[0., 0., 0., 0.],\n",
       "        [0., 0., 0., 0.],\n",
       "        [0., 0., 0., 0.]], dtype=float32),)"
      ]
     },
     "execution_count": 33,
     "metadata": {},
     "output_type": "execute_result"
    }
   ],
   "source": [
    "tf.Session().run(state)"
   ]
  },
  {
   "cell_type": "code",
   "execution_count": 36,
   "metadata": {},
   "outputs": [
    {
     "data": {
      "text/plain": [
       "(array([[0., 0., 0., 0.],\n",
       "        [0., 0., 0., 0.],\n",
       "        [0., 0., 0., 0.]], dtype=float32),)"
      ]
     },
     "execution_count": 36,
     "metadata": {},
     "output_type": "execute_result"
    }
   ],
   "source": [
    "tf.Session().run(state)"
   ]
  },
  {
   "cell_type": "code",
   "execution_count": null,
   "metadata": {},
   "outputs": [],
   "source": []
  }
 ],
 "metadata": {
  "kernelspec": {
   "display_name": "Python [conda env:tf1.8]",
   "language": "python",
   "name": "conda-env-tf1.8-py"
  },
  "language_info": {
   "codemirror_mode": {
    "name": "ipython",
    "version": 3
   },
   "file_extension": ".py",
   "mimetype": "text/x-python",
   "name": "python",
   "nbconvert_exporter": "python",
   "pygments_lexer": "ipython3",
   "version": "3.5.6"
  }
 },
 "nbformat": 4,
 "nbformat_minor": 2
}
