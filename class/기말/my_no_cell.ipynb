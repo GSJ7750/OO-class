{
 "cells": [
  {
   "cell_type": "markdown",
   "metadata": {},
   "source": [
    "from tensorflow.python.eager import context\n",
    "from tensorflow.python.framework import constant_op\n",
    "from tensorflow.python.framework import dtypes\n",
    "from tensorflow.python.framework import ops\n",
    "from tensorflow.python.framework import tensor_shape\n",
    "from tensorflow.python.framework import tensor_util\n",
    "from tensorflow.python.keras import activations\n",
    "from tensorflow.python.keras import initializers\n",
    "from tensorflow.python.layers import base as base_layer\n",
    "from tensorflow.python.ops import array_ops\n",
    "from tensorflow.python.ops import clip_ops\n",
    "from tensorflow.python.ops import init_ops\n",
    "from tensorflow.python.ops import math_ops\n",
    "from tensorflow.python.ops import nn_ops\n",
    "from tensorflow.python.ops import partitioned_variables\n",
    "from tensorflow.python.ops import random_ops\n",
    "from tensorflow.python.ops import tensor_array_ops\n",
    "from tensorflow.python.ops import variable_scope as vs\n",
    "from tensorflow.python.ops import variables as tf_variables\n",
    "from tensorflow.python.platform import tf_logging as logging\n",
    "from tensorflow.python.util import nest\n",
    "from tensorflow.python.util.deprecation import deprecated\n",
    "from tensorflow.python.util.tf_export import tf_export"
   ]
  },
  {
   "cell_type": "code",
   "execution_count": 547,
   "metadata": {},
   "outputs": [],
   "source": [
    "import numpy as np\n",
    "import tensorflow as tf\n",
    "\n",
    "x = np.array([[1, 1]])\n",
    "c = 1.0 * np.asarray([[0, 1]])\n",
    "h = 1.0 * np.asarray([[0, 1]])"
   ]
  },
  {
   "cell_type": "code",
   "execution_count": 548,
   "metadata": {},
   "outputs": [
    {
     "data": {
      "text/plain": [
       "(1, 2)"
      ]
     },
     "execution_count": 548,
     "metadata": {},
     "output_type": "execute_result"
    }
   ],
   "source": [
    "x.shape"
   ]
  },
  {
   "cell_type": "code",
   "execution_count": 549,
   "metadata": {},
   "outputs": [
    {
     "data": {
      "text/plain": [
       "(1, 2)"
      ]
     },
     "execution_count": 549,
     "metadata": {},
     "output_type": "execute_result"
    }
   ],
   "source": [
    "c.shape"
   ]
  },
  {
   "cell_type": "code",
   "execution_count": 550,
   "metadata": {},
   "outputs": [
    {
     "data": {
      "text/plain": [
       "(1, 2)"
      ]
     },
     "execution_count": 550,
     "metadata": {},
     "output_type": "execute_result"
    }
   ],
   "source": [
    "h.shape"
   ]
  },
  {
   "cell_type": "code",
   "execution_count": 551,
   "metadata": {},
   "outputs": [
    {
     "data": {
      "text/plain": [
       "2"
      ]
     },
     "execution_count": 551,
     "metadata": {},
     "output_type": "execute_result"
    }
   ],
   "source": [
    "c.size"
   ]
  },
  {
   "cell_type": "code",
   "execution_count": 552,
   "metadata": {},
   "outputs": [],
   "source": [
    "def sigmoid_array(x):\n",
    "     return 1 / (1 + np.exp(-x))\n",
    "    \n",
    "class lstmcell:\n",
    "    def __init__(self, num, x_, c_, h_):\n",
    "        self.x = x_ #input\n",
    "        self.c = c_# 초기 state\n",
    "        self.h = h_# 초기 output\n",
    "        self.num = num\n",
    "\n",
    "    \n",
    "    def build(self):\n",
    "        num_units = self.num #자료 갯수\n",
    "\n",
    "        args = np.concatenate((self.x, self.h), axis=1)\n",
    "\n",
    "        out_size = 4 * num_units\n",
    "        proj_size = args.shape[-1]\n",
    "\n",
    "        weights = np.ones([proj_size, out_size]) * 0.5\n",
    "\n",
    "        out = np.matmul(args, weights)\n",
    "\n",
    "        bias = np.ones([out_size]) * 0.5\n",
    "\n",
    "        concat = out + bias\n",
    "\n",
    "        i, j, f, o = np.split(concat, 4, 1)\n",
    "\n",
    "        g = np.tanh(j)#Cell 현재값\n",
    "        \n",
    "        forget_bias = 1.0\n",
    "\n",
    "        sigmoid_f = sigmoid_array(f + forget_bias)#forget gate\n",
    "\n",
    "        sigmoid_array(i) * g\n",
    "\n",
    "        new_c = c * sigmoid_f + sigmoid_array(i) * g\n",
    "\n",
    "        new_h = np.tanh(new_c) * sigmoid_array(o)\n",
    "\n",
    "        new_c = np.split(new_c, 1, 1)\n",
    "        new_h = np.split(new_h, 1, 1)\n",
    "\n",
    "        return new_h, new_c,"
   ]
  },
  {
   "cell_type": "code",
   "execution_count": 553,
   "metadata": {},
   "outputs": [],
   "source": [
    "T = max_time = x.size\n",
    "B = batch_size = len(x) #배치사이즈\n",
    "D = input_depth = len(c)#디멘션\n",
    "num_units = c.size #= 출력의 크기\n",
    "#제로스테이트 = 배치*디멘션"
   ]
  },
  {
   "cell_type": "code",
   "execution_count": 554,
   "metadata": {},
   "outputs": [],
   "source": [
    "max_time = x.size\n",
    "batch_size = len(x) #배치사이즈\n",
    "input_depth = len(c)\n",
    "num_units = c.size #디멘션"
   ]
  },
  {
   "cell_type": "code",
   "execution_count": 555,
   "metadata": {},
   "outputs": [],
   "source": [
    "cell = lstmcell(num_units, x, c, h)\n",
    "output, state = cell.build()"
   ]
  },
  {
   "cell_type": "code",
   "execution_count": 556,
   "metadata": {},
   "outputs": [],
   "source": [
    "def propagation(num_units, data, new_state, new_output):\n",
    "    cell = lstmcell(num_units, x, new_state, new_output)\n",
    "    output, state = cell.build()\n",
    "    new_output = np.asarray(output)\n",
    "    new_state = np.asarray(state)\n",
    "    new_output = new_output.reshape(1, num_units)\n",
    "    new_state = new_state.reshape(1, num_units)\n",
    "    return new_state, new_output"
   ]
  },
  {
   "cell_type": "code",
   "execution_count": 646,
   "metadata": {},
   "outputs": [
    {
     "name": "stdout",
     "output_type": "stream",
     "text": [
      "[[0.06207328 0.16763612]]\n",
      "[[0.60828342 0.83409758]] [[0.84911268 1.8016868 ]] \n",
      "\n",
      "[[0.03435606 0.0927643 ]]\n",
      "[[0.63780624 0.85798651]] [[0.88115083 1.8427748 ]] \n",
      "\n",
      "[[0.02313913 0.06247637]]\n",
      "[[0.64097197 0.86057769]] [[0.88451136 1.84710881]] \n",
      "\n",
      "[[0.01737307 0.04690772]]\n",
      "[[0.64130844 0.86085343]] [[0.88486764 1.84756859]] \n",
      "\n",
      "[[0.01390004 0.03753046]]\n",
      "[[0.64134416 0.86088271]] [[0.88490546 1.8476174 ]] \n",
      "\n",
      "[[0.01158351 0.03127576]]\n",
      "[[0.64134796 0.86088582]] [[0.88490948 1.84762258]] \n",
      "\n",
      "[[0.00992873 0.02680782]]\n",
      "[[0.64134836 0.86088615]] [[0.8849099  1.84762313]] \n",
      "\n",
      "[[0.00868764 0.02345685]]\n",
      "[[0.6413484  0.86088619]] [[0.88490995 1.84762319]] \n",
      "\n",
      "[[0.00772235 0.02085053]]\n",
      "[[0.64134841 0.86088619]] [[0.88490995 1.84762319]] \n",
      "\n",
      "[[0.00695011 0.01876548]]\n",
      "[[0.64134841 0.86088619]] [[0.88490995 1.84762319]] \n",
      "\n"
     ]
    }
   ],
   "source": [
    "new_state, new_output = c, h\n",
    "states = np.array([0, 0])\n",
    "predict = np.array([0.88490995, 1.84762319])\n",
    "for i in range(10):\n",
    "    new_state, new_output = propagation(num_units, x, new_state, new_output)\n",
    "    global states\n",
    "    states = states + (predict**2 - new_state**2)\n",
    "    cost = states/(i+1)\n",
    "    print(cost)\n",
    "    print(new_output, new_state, \"\\n\")"
   ]
  },
  {
   "cell_type": "code",
   "execution_count": 601,
   "metadata": {},
   "outputs": [
    {
     "data": {
      "text/plain": [
       "(array([[0.88490995, 1.84762319]]), array([[0.64134841, 0.86088619]]))"
      ]
     },
     "execution_count": 601,
     "metadata": {},
     "output_type": "execute_result"
    }
   ],
   "source": [
    "propagation(num_units, x, new_state, new_output)"
   ]
  },
  {
   "cell_type": "code",
   "execution_count": 602,
   "metadata": {},
   "outputs": [
    {
     "data": {
      "text/plain": [
       "array([[0.88490995, 1.84762319]])"
      ]
     },
     "execution_count": 602,
     "metadata": {},
     "output_type": "execute_result"
    }
   ],
   "source": [
    "new_state"
   ]
  },
  {
   "cell_type": "code",
   "execution_count": 603,
   "metadata": {},
   "outputs": [
    {
     "data": {
      "text/plain": [
       "array([[0.64134841, 0.86088619]])"
      ]
     },
     "execution_count": 603,
     "metadata": {},
     "output_type": "execute_result"
    }
   ],
   "source": [
    "new_output"
   ]
  },
  {
   "cell_type": "code",
   "execution_count": 604,
   "metadata": {},
   "outputs": [
    {
     "data": {
      "text/plain": [
       "array([[ 8.8090972 , 19.42487167]])"
      ]
     },
     "execution_count": 604,
     "metadata": {},
     "output_type": "execute_result"
    }
   ],
   "source": [
    "states"
   ]
  },
  {
   "cell_type": "markdown",
   "metadata": {},
   "source": [
    "##########"
   ]
  },
  {
   "cell_type": "markdown",
   "metadata": {},
   "source": [
    "X = tf.placeholder(shape=[T, B, D], dtype=tf.float32)\n",
    "output_ta = tf.TensorArray(size=T, dtype=tf.float32)\n",
    "input_ta = tf.TensorArray(size=T, dtype=tf.float32)\n",
    "input_ta = input_ta.unstack(x)"
   ]
  },
  {
   "cell_type": "markdown",
   "metadata": {},
   "source": [
    "def body(time, output_ta_t, state):\n",
    "    xt = input_ta.read(time)\n",
    "    new_output, new_state = lstmcell(num_units, xt, state, h).build()\n",
    "    output_ta_t = output_ta_t.write(time, new_output)\n",
    "    return (time+1, output_ta_t, new_state)"
   ]
  },
  {
   "cell_type": "markdown",
   "metadata": {},
   "source": [
    "def condition(time, output, state):\n",
    "    return time < T"
   ]
  },
  {
   "cell_type": "markdown",
   "metadata": {},
   "source": [
    "time = 0\n",
    "state = tf.zeros([B, D], dtype=tf.float32),"
   ]
  },
  {
   "cell_type": "markdown",
   "metadata": {},
   "source": [
    "time_final, output_ta_final, state_final = tf.while_loop(\n",
    "        cond=condition,\n",
    "        body=body,\n",
    "        loop_vars=(time, output_ta, state))\n",
    "\n",
    "output_final = output_ta_final.stack()"
   ]
  },
  {
   "cell_type": "markdown",
   "metadata": {},
   "source": [
    "#################"
   ]
  },
  {
   "cell_type": "code",
   "execution_count": 75,
   "metadata": {},
   "outputs": [],
   "source": [
    "sess = tf.Session()\n",
    "sess.run(tf.global_variables_initializer())"
   ]
  }
 ],
 "metadata": {
  "kernelspec": {
   "display_name": "Python [conda env:tf1.8]",
   "language": "python",
   "name": "conda-env-tf1.8-py"
  },
  "language_info": {
   "codemirror_mode": {
    "name": "ipython",
    "version": 3
   },
   "file_extension": ".py",
   "mimetype": "text/x-python",
   "name": "python",
   "nbconvert_exporter": "python",
   "pygments_lexer": "ipython3",
   "version": "3.5.6"
  }
 },
 "nbformat": 4,
 "nbformat_minor": 2
}
