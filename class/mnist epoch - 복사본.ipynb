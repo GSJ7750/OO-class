{
 "cells": [
  {
   "cell_type": "code",
   "execution_count": 21,
   "metadata": {},
   "outputs": [],
   "source": [
    "import tensorflow as tf\n",
    "import numpy as np\n",
    "from tensorflow.contrib.learn.python.learn.datasets.mnist import read_data_sets\n",
    "import pandas as pd"
   ]
  },
  {
   "cell_type": "code",
   "execution_count": 22,
   "metadata": {},
   "outputs": [
    {
     "name": "stdout",
     "output_type": "stream",
     "text": [
      "Extracting data\\train-images-idx3-ubyte.gz\n",
      "Extracting data\\train-labels-idx1-ubyte.gz\n",
      "Extracting data\\t10k-images-idx3-ubyte.gz\n",
      "Extracting data\\t10k-labels-idx1-ubyte.gz\n"
     ]
    }
   ],
   "source": [
    "mnist = read_data_sets(\"data\", one_hot=True, reshape=False)\n",
    "tf.set_random_seed(777)"
   ]
  },
  {
   "cell_type": "code",
   "execution_count": 23,
   "metadata": {},
   "outputs": [],
   "source": [
    "epoch = 15\n",
    "batch_size =100"
   ]
  },
  {
   "cell_type": "code",
   "execution_count": 24,
   "metadata": {},
   "outputs": [],
   "source": [
    "X1 = tf.placeholder(tf.float32, shape=[None, 28, 28, 1])\n",
    "X2 = tf.reshape(X1, [-1, 784])\n",
    "Y = tf.placeholder(tf.float32, shape=[None, 10])\n",
    "\n",
    "W = tf.Variable(tf.random_uniform([784, 10]))\n",
    "b = tf.Variable(tf.random_uniform([10]))"
   ]
  },
  {
   "cell_type": "code",
   "execution_count": 25,
   "metadata": {},
   "outputs": [],
   "source": [
    "logits = tf.matmul(X2, W) + b\n",
    "H = tf.nn.softmax(logits)"
   ]
  },
  {
   "cell_type": "code",
   "execution_count": 26,
   "metadata": {},
   "outputs": [],
   "source": [
    "cost = tf.nn.softmax_cross_entropy_with_logits_v2(logits=logits, labels=Y)"
   ]
  },
  {
   "cell_type": "code",
   "execution_count": 27,
   "metadata": {},
   "outputs": [],
   "source": [
    "is_correct = tf.equal(tf.argmax(Y,1), tf.argmax(H,1))\n",
    "accuracy = tf.reduce_mean(tf.cast(is_correct, tf.float32))"
   ]
  },
  {
   "cell_type": "code",
   "execution_count": 28,
   "metadata": {},
   "outputs": [],
   "source": [
    "optimizer = tf.train.AdamOptimizer(0.005)\n",
    "train = optimizer.minimize(cost)\n",
    "init = tf.global_variables_initializer()\n",
    "sess = tf.Session()\n",
    "sess.run(init)"
   ]
  },
  {
   "cell_type": "code",
   "execution_count": 29,
   "metadata": {},
   "outputs": [
    {
     "name": "stdout",
     "output_type": "stream",
     "text": [
      "epoch =  1\n",
      "accuracy =  0.0932\n",
      "epoch =  2\n",
      "accuracy =  0.9063\n",
      "epoch =  3\n",
      "accuracy =  0.9164\n",
      "epoch =  4\n",
      "accuracy =  0.9202\n",
      "epoch =  5\n",
      "accuracy =  0.9234\n",
      "epoch =  6\n",
      "accuracy =  0.9246\n",
      "epoch =  7\n",
      "accuracy =  0.9238\n",
      "epoch =  8\n",
      "accuracy =  0.9231\n",
      "epoch =  9\n",
      "accuracy =  0.9199\n",
      "epoch =  10\n",
      "accuracy =  0.925\n",
      "epoch =  11\n",
      "accuracy =  0.9219\n",
      "epoch =  12\n",
      "accuracy =  0.9223\n",
      "epoch =  13\n",
      "accuracy =  0.9253\n",
      "epoch =  14\n",
      "accuracy =  0.9243\n",
      "epoch =  15\n",
      "accuracy =  0.9237\n",
      "Done\n"
     ]
    }
   ],
   "source": [
    "for e in range(epoch):\n",
    "    total_batch = int(mnist.train.num_examples/batch_size)\n",
    "    print(\"epoch = \", e+1)\n",
    "    for i in range(total_batch):\n",
    "        batch_xs, batch_ys = mnist.train.next_batch(batch_size)\n",
    "        sess.run(train, feed_dict={X1: batch_xs, Y: batch_ys})\n",
    "        if i%1000 == 0:\n",
    "            a, c = sess.run([accuracy, cost], feed_dict={X1: mnist.test.images, Y: mnist.test.labels})\n",
    "            print(\"accuracy = \", a)\n",
    "print(\"Done\")"
   ]
  },
  {
   "cell_type": "code",
   "execution_count": null,
   "metadata": {},
   "outputs": [],
   "source": []
  },
  {
   "cell_type": "code",
   "execution_count": null,
   "metadata": {},
   "outputs": [],
   "source": []
  }
 ],
 "metadata": {
  "kernelspec": {
   "display_name": "Python [conda env:tf1.8]",
   "language": "python",
   "name": "conda-env-tf1.8-py"
  },
  "language_info": {
   "codemirror_mode": {
    "name": "ipython",
    "version": 3
   },
   "file_extension": ".py",
   "mimetype": "text/x-python",
   "name": "python",
   "nbconvert_exporter": "python",
   "pygments_lexer": "ipython3",
   "version": "3.5.6"
  }
 },
 "nbformat": 4,
 "nbformat_minor": 2
}
